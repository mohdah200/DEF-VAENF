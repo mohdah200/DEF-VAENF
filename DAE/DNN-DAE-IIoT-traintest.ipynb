{
 "cells": [
  {
   "cell_type": "code",
   "execution_count": 1,
   "id": "fd0ee92f",
   "metadata": {},
   "outputs": [],
   "source": [
    "import pandas as pd\n",
    "from sklearn.preprocessing import LabelEncoder\n",
    "import tensorflow as tf\n",
    "from tensorflow import keras\n",
    "from sklearn.model_selection import train_test_split\n",
    "from sklearn.metrics import accuracy_score, precision_score, recall_score, f1_score, roc_auc_score\n",
    "lb_make=LabelEncoder()\n",
    "import  numpy as np\n",
    "from sklearn.metrics import confusion_matrix\n"
   ]
  },
  {
   "cell_type": "code",
   "execution_count": 2,
   "id": "4335b384",
   "metadata": {},
   "outputs": [],
   "source": [
    "np.random.seed(42)\n",
    "tf.random.set_seed(42)"
   ]
  },
  {
   "cell_type": "code",
   "execution_count": 3,
   "id": "5d2faa18",
   "metadata": {},
   "outputs": [],
   "source": [
    "missing_values = [\"n/a\", \"na\", \"Infinity\", \"NaN\",\"nan\",\"-\",\"excel\",\"?\",\"#DIV/0!\",\"aza\"]\n",
    "df = pd.read_csv(\"df_training_DAE.csv\", na_values = missing_values, engine='python', skipinitialspace=True)\n",
    "df=df.fillna(df.median())\n"
   ]
  },
  {
   "cell_type": "code",
   "execution_count": 4,
   "id": "243712e9",
   "metadata": {},
   "outputs": [],
   "source": [
    "X = df.drop('class3', axis=1)\n",
    "y = df['class3']\n",
    "from sklearn.preprocessing import MinMaxScaler\n",
    "scaler = MinMaxScaler()\n",
    "# Fit scaler to input features and transform data\n",
    "X = scaler.fit_transform(X)\n",
    "X_train=X \n",
    "y_train=y"
   ]
  },
  {
   "cell_type": "code",
   "execution_count": 5,
   "id": "165ef038",
   "metadata": {},
   "outputs": [],
   "source": [
    "# Define the DNN model architecture\n",
    "model = keras.Sequential([\n",
    "    keras.layers.Dense(200, input_dim=X_train.shape[1], activation='relu'),\n",
    "    keras.layers.Dense(200, activation='relu'),\n",
    "    keras.layers.Dense(200, activation='relu'),\n",
    "    keras.layers.Dense(1, activation='sigmoid')\n",
    "])\n",
    "\n",
    "# Compile the DNN model\n",
    "model.compile(loss='binary_crossentropy', optimizer='RMSprop', metrics=['accuracy'])"
   ]
  },
  {
   "cell_type": "code",
   "execution_count": 6,
   "id": "bc7e1dad",
   "metadata": {},
   "outputs": [
    {
     "data": {
      "text/plain": [
       "\"\\nfrom tensorflow import keras\\nfrom keras.layers import Dropout\\n\\nmodel = keras.Sequential([\\n    keras.layers.Dense(200, input_dim=X_train.shape[1], activation='relu'),\\n    Dropout(0.5),  # Dropout 50% of the nodes\\n    keras.layers.Dense(200, activation='relu'),\\n    Dropout(0.5),  # Again, dropout 50% of the nodes\\n    keras.layers.Dense(200, activation='relu'),\\n    Dropout(0.5),  # And once more\\n    keras.layers.Dense(1, activation='sigmoid')\\n])\\n# Compile the DNN model\\nmodel.compile(loss='binary_crossentropy', optimizer='RMSprop', metrics=['accuracy'])\""
      ]
     },
     "execution_count": 6,
     "metadata": {},
     "output_type": "execute_result"
    }
   ],
   "source": [
    "'''\n",
    "from tensorflow import keras\n",
    "from keras.layers import Dropout\n",
    "\n",
    "model = keras.Sequential([\n",
    "    keras.layers.Dense(200, input_dim=X_train.shape[1], activation='relu'),\n",
    "    Dropout(0.5),  # Dropout 50% of the nodes\n",
    "    keras.layers.Dense(200, activation='relu'),\n",
    "    Dropout(0.5),  # Again, dropout 50% of the nodes\n",
    "    keras.layers.Dense(200, activation='relu'),\n",
    "    Dropout(0.5),  # And once more\n",
    "    keras.layers.Dense(1, activation='sigmoid')\n",
    "])\n",
    "# Compile the DNN model\n",
    "model.compile(loss='binary_crossentropy', optimizer='RMSprop', metrics=['accuracy'])'''"
   ]
  },
  {
   "cell_type": "code",
   "execution_count": 7,
   "id": "c2e61ffc",
   "metadata": {},
   "outputs": [
    {
     "name": "stdout",
     "output_type": "stream",
     "text": [
      "Epoch 1/10\n",
      "2364/2364 [==============================] - 11s 4ms/step - loss: 0.5217 - accuracy: 0.7256 - val_loss: 0.5889 - val_accuracy: 0.6083\n",
      "Epoch 2/10\n",
      "2364/2364 [==============================] - 9s 4ms/step - loss: 0.5126 - accuracy: 0.7307 - val_loss: 0.6008 - val_accuracy: 0.5782\n",
      "Epoch 3/10\n",
      "2364/2364 [==============================] - 9s 4ms/step - loss: 0.5104 - accuracy: 0.7314 - val_loss: 0.5950 - val_accuracy: 0.5755\n",
      "Epoch 4/10\n",
      "2364/2364 [==============================] - 11s 4ms/step - loss: 0.5094 - accuracy: 0.7316 - val_loss: 0.5672 - val_accuracy: 0.6065\n",
      "Epoch 5/10\n",
      "2364/2364 [==============================] - 10s 4ms/step - loss: 0.5090 - accuracy: 0.7320 - val_loss: 0.5897 - val_accuracy: 0.5862\n",
      "Epoch 6/10\n",
      "2364/2364 [==============================] - 9s 4ms/step - loss: 0.5086 - accuracy: 0.7322 - val_loss: 0.5423 - val_accuracy: 0.6187\n",
      "Epoch 7/10\n",
      "2364/2364 [==============================] - 9s 4ms/step - loss: 0.5082 - accuracy: 0.7324 - val_loss: 0.5660 - val_accuracy: 0.5986\n",
      "Epoch 8/10\n",
      "2364/2364 [==============================] - 9s 4ms/step - loss: 0.5079 - accuracy: 0.7326 - val_loss: 0.5645 - val_accuracy: 0.6082\n",
      "Epoch 9/10\n",
      "2364/2364 [==============================] - 8s 4ms/step - loss: 0.5079 - accuracy: 0.7325 - val_loss: 0.5666 - val_accuracy: 0.6031\n",
      "Epoch 10/10\n",
      "2364/2364 [==============================] - 9s 4ms/step - loss: 0.5076 - accuracy: 0.7325 - val_loss: 0.5861 - val_accuracy: 0.5743\n"
     ]
    }
   ],
   "source": [
    "\n",
    "# Train the DNN model\n",
    "history = model.fit(X_train, y_train, epochs=10, batch_size=250, validation_split=0.1)"
   ]
  },
  {
   "cell_type": "code",
   "execution_count": 8,
   "id": "128429c0",
   "metadata": {},
   "outputs": [],
   "source": [
    "#torch.save(model.state_dict(), 'CDAE_model.pth')\n",
    "model.save('DNN-DAE-IIoT-traintest.h5')"
   ]
  },
  {
   "cell_type": "code",
   "execution_count": 9,
   "id": "6df14b06",
   "metadata": {},
   "outputs": [
    {
     "data": {
      "text/plain": [
       "'C:\\\\adversarial_analysis-master\\\\Investigating_the_Practicality_of_Adversarial_Evasion_Attacks_on_Network_Intrusion_Detection\\\\XAAE-IIoT\\\\CDAE_DAE\\\\Cleaned_DAE_IIoT'"
      ]
     },
     "execution_count": 9,
     "metadata": {},
     "output_type": "execute_result"
    }
   ],
   "source": [
    "pwd"
   ]
  },
  {
   "cell_type": "code",
   "execution_count": 11,
   "id": "ec801f3a",
   "metadata": {},
   "outputs": [],
   "source": [
    "df11 = pd.read_csv(\"df_testing_DAE.csv\", na_values = missing_values, engine='python', skipinitialspace=True)\n",
    "\n",
    "#only for off-bal\n",
    "#df11.iloc[:, -1] = df11.iloc[:, -1].replace({ \"attack\":1, \"normal\":0})\n",
    "df11=df11.fillna(df11.median())\n",
    "X_test=df11.iloc[:, :-1]\n",
    "X_test=scaler.fit_transform(X_test)\n",
    "y_test =df11.iloc[:, -1]"
   ]
  },
  {
   "cell_type": "code",
   "execution_count": 13,
   "id": "ce00a9f7",
   "metadata": {},
   "outputs": [
    {
     "name": "stdout",
     "output_type": "stream",
     "text": [
      "Accuracy:  0.6829832854149408\n",
      "Precision:  0.6079019580484628\n",
      "Recall:  0.9817109809223374\n",
      "F1-score:  0.750854516731294\n",
      "ROC AUC score:  0.6907807431781732\n"
     ]
    },
    {
     "data": {
      "image/png": "[encoded data removed]",
      "text/plain": [
       "<Figure size 432x288 with 2 Axes>"
      ]
     },
     "metadata": {
      "needs_background": "light"
     },
     "output_type": "display_data"
    }
   ],
   "source": [
    "# Make predictions on test set\n",
    "y_pred = model.predict(X_test)\n",
    "y_pred = (y_pred > 0.5).astype(int)\n",
    "\n",
    "# Evaluate performance using various metrics\n",
    "accuracy = accuracy_score(y_test, y_pred)\n",
    "precision = precision_score(y_test, y_pred)\n",
    "recall = recall_score(y_test, y_pred)\n",
    "f1 = f1_score(y_test, y_pred)\n",
    "roc_auc = roc_auc_score(y_test, y_pred)\n",
    "\n",
    "# Print out evaluation metrics\n",
    "print(\"Accuracy: \", accuracy)\n",
    "print(\"Precision: \", precision)\n",
    "print(\"Recall: \", recall)\n",
    "print(\"F1-score: \", f1)\n",
    "print(\"ROC AUC score: \", roc_auc)\n",
    "import numpy as np\n",
    "from mlxtend.plotting import plot_confusion_matrix\n",
    "import matplotlib.pyplot as plt\n",
    "\n",
    "cm = confusion_matrix(y_test, y_pred)\n",
    "\n",
    "#[[TN, FP],\n",
    " #[FN, TP]]\n",
    "class_names = [ 'Normal','Attack']\n",
    "fig, ax = plot_confusion_matrix(conf_mat=cm,\n",
    "                                show_absolute=True,\n",
    "                                show_normed=False, class_names=class_names,\n",
    "                                colorbar=True)\n",
    "plt.xlabel('Predicted Label')\n",
    "plt.ylabel('True Label')   \n",
    "plt.tight_layout()                             \n",
    "plt.savefig('df_testing_DAE.csv.png')"
   ]
  },
  {
   "cell_type": "code",
   "execution_count": 10,
   "id": "cb240057",
   "metadata": {},
   "outputs": [
    {
     "name": "stdout",
     "output_type": "stream",
     "text": [
      "C:\\adversarial_analysis-master\\Investigating_the_Practicality_of_Adversarial_Evasion_Attacks_on_Network_Intrusion_Detection\\XAAE-IIoT\\CDAE_DAE\\Cleaned_DAE_IIoT\n"
     ]
    }
   ],
   "source": [
    "#cd C:\\adversarial_analysis-master\\Investigating_the_Practicality_of_Adversarial_Evasion_Attacks_on_Network_Intrusion_Detection\\XAAE-IIoT\\CDAE_DAE\\Cleaned_DAE_IIoT"
   ]
  },
  {
   "cell_type": "code",
   "execution_count": 15,
   "id": "e75334ce",
   "metadata": {},
   "outputs": [
    {
     "name": "stdout",
     "output_type": "stream",
     "text": [
      "NaN in y_combined: False\n",
      "Inf in y_combined: False\n",
      "NaN in y_pred: False\n",
      "Inf in y_pred: False\n",
      "Results for DAE_FSGM-XAAE-IIoT.csv:\n",
      "Accuracy:  0.6829832854149408\n",
      "Precision:  0.6079019580484628\n",
      "Recall:  0.9817109809223374\n",
      "F1-score:  0.750854516731294\n",
      "ROC AUC score:  0.6907807431781732\n",
      "NaN in y_combined: False\n",
      "Inf in y_combined: False\n",
      "NaN in y_pred: False\n",
      "Inf in y_pred: False\n",
      "Results for DAE_BIM-XAAE-IIoT.csv:\n",
      "Accuracy:  0.6829832854149408\n",
      "Precision:  0.6079019580484628\n",
      "Recall:  0.9817109809223374\n",
      "F1-score:  0.750854516731294\n",
      "ROC AUC score:  0.6907807431781732\n",
      "NaN in y_combined: False\n",
      "Inf in y_combined: False\n",
      "NaN in y_pred: False\n",
      "Inf in y_pred: False\n",
      "Results for DAE_DF-XAAE-IIoT.csv:\n",
      "Accuracy:  0.6829832854149408\n",
      "Precision:  0.6079019580484628\n",
      "Recall:  0.9817109809223374\n",
      "F1-score:  0.750854516731294\n",
      "ROC AUC score:  0.6907807431781732\n",
      "NaN in y_combined: False\n",
      "Inf in y_combined: False\n",
      "NaN in y_pred: False\n",
      "Inf in y_pred: False\n",
      "Results for DAE_JSMA-XAAE-IIoT.csv:\n",
      "Accuracy:  0.6829832854149408\n",
      "Precision:  0.6079019580484628\n",
      "Recall:  0.9817109809223374\n",
      "F1-score:  0.750854516731294\n",
      "ROC AUC score:  0.6907807431781732\n",
      "NaN in y_combined: False\n",
      "Inf in y_combined: False\n",
      "NaN in y_pred: False\n",
      "Inf in y_pred: False\n",
      "Results for DAE_CW2-XAAE-IIoT.csv:\n",
      "Accuracy:  0.6829832854149408\n",
      "Precision:  0.6079019580484628\n",
      "Recall:  0.9817109809223374\n",
      "F1-score:  0.750854516731294\n",
      "ROC AUC score:  0.6907807431781732\n",
      "NaN in y_combined: False\n",
      "Inf in y_combined: False\n",
      "NaN in y_pred: False\n",
      "Inf in y_pred: False\n",
      "Results for DAE_CWinf-XAAE-IIoT.csv:\n",
      "Accuracy:  0.6829832854149408\n",
      "Precision:  0.6079019580484628\n",
      "Recall:  0.9817109809223374\n",
      "F1-score:  0.750854516731294\n",
      "ROC AUC score:  0.6907807431781732\n"
     ]
    }
   ],
   "source": [
    "import pandas as pd\n",
    "import numpy as np\n",
    "from sklearn.metrics import accuracy_score, precision_score, recall_score, f1_score, roc_auc_score, confusion_matrix\n",
    "from sklearn.preprocessing import LabelEncoder\n",
    "from tensorflow.keras.models import load_model  # Or however your model is defined or loaded\n",
    "from mlxtend.plotting import plot_confusion_matrix\n",
    "import matplotlib.pyplot as plt\n",
    "\n",
    "# Assuming 'model' is loaded or defined here\n",
    "# model = load_model('your_model_path.h5')  # Example for Keras model\n",
    "\n",
    "# Define missing values and load the main DataFrame\n",
    "missing_values = [\"n/a\", \"na\", \"Infinity\", \"NaN\",\"nan\",\"-\",\"excel\",\"?\",\"#DIV/0!\",\"aza\"]\n",
    "df_main = pd.read_csv(\"df_testing_DAE.csv\", na_values=missing_values, engine='python', skipinitialspace=True)\n",
    "df_main = df_main.fillna(df_main.median())\n",
    "\n",
    "# List of additional CSV files to combine with\n",
    "csv_files =  ['DAE_FSGM-XAAE-IIoT.csv', 'DAE_BIM-XAAE-IIoT.csv', 'DAE_DF-XAAE-IIoT.csv', 'DAE_JSMA-XAAE-IIoT.csv', 'DAE_CW2-XAAE-IIoT.csv','DAE_CWinf-XAAE-IIoT.csv']\n",
    "\n",
    "\n",
    "for file_name in csv_files:\n",
    "    # Load and preprocess the additional DataFrame\n",
    "    df_additional = pd.read_csv(file_name, na_values=missing_values, engine='python', skipinitialspace=True)\n",
    "    df_additional = df_additional.fillna(df_additional.median())\n",
    "    \n",
    "    # Combine DataFrames\n",
    "    df_combined = pd.concat([df_main, df_additional], ignore_index=True)\n",
    "    \n",
    "    # Prepare data for model evaluation\n",
    "    #X_combined = df_combined.iloc[:, :-1]\n",
    "    #y_combined = df_combined.iloc[:, -1]\n",
    "    # Assuming df_combined is your combined DataFrame before splitting into X_combined and y_combined\n",
    "    df_combined_clean = df_combined.dropna(subset=[df_combined.columns[-1]])\n",
    "    X_combined = df_combined_clean.iloc[:, :-1]\n",
    "    X_combined=scaler.fit_transform(X_combined)\n",
    "    y_combined = df_combined_clean.iloc[:, -1]\n",
    "    \n",
    "\n",
    "    \n",
    "    # Make predictions on the combined dataset\n",
    "    #y_pred = model.predict(X_combined)\n",
    "    y_pred = model.predict(X_combined)\n",
    "\n",
    "    y_pred = (y_pred > 0.5).astype(int)\n",
    "\n",
    "    print(\"NaN in y_combined:\", np.isnan(y_combined).any())\n",
    "    print(\"Inf in y_combined:\", np.isinf(y_combined).any())\n",
    "    print(\"NaN in y_pred:\", np.isnan(y_pred).any())\n",
    "    print(\"Inf in y_pred:\", np.isinf(y_pred).any())\n",
    "\n",
    "    # Evaluate performance\n",
    "    accuracy = accuracy_score(y_combined, y_pred)\n",
    "    precision = precision_score(y_combined, y_pred)\n",
    "    recall = recall_score(y_combined, y_pred)\n",
    "    f1 = f1_score(y_combined, y_pred)\n",
    "    roc_auc = roc_auc_score(y_combined, y_pred)\n",
    "\n",
    "    # Print evaluation metrics\n",
    "    print(f\"Results for {file_name}:\")\n",
    "    print(\"Accuracy: \", accuracy)\n",
    "    print(\"Precision: \", precision)\n",
    "    print(\"Recall: \", recall)\n",
    "    print(\"F1-score: \", f1)\n",
    "    print(\"ROC AUC score: \", roc_auc)\n",
    "\n",
    "    # Plot confusion matrix\n",
    "    cm = confusion_matrix(y_combined, y_pred)\n",
    "    class_names = ['Normal', 'Attack']\n",
    "    fig, ax = plot_confusion_matrix(conf_mat=cm, class_names=class_names, show_absolute=True, show_normed=False, colorbar=True)\n",
    "    plt.xlabel('Predicted Label')\n",
    "    plt.ylabel('True Label')\n",
    "    plt.tight_layout()\n",
    "    plt.savefig(f'CM_{file_name}.png')\n",
    "    plt.close()\n"
   ]
  },
  {
   "cell_type": "code",
   "execution_count": 24,
   "id": "d05cfbd3",
   "metadata": {},
   "outputs": [
    {
     "data": {
      "text/plain": [
       "'C:\\\\adversarial_analysis-master\\\\Investigating_the_Practicality_of_Adversarial_Evasion_Attacks_on_Network_Intrusion_Detection\\\\XAAE-IIoT\\\\CDAE_DAE'"
      ]
     },
     "execution_count": 24,
     "metadata": {},
     "output_type": "execute_result"
    }
   ],
   "source": [
    "pwd"
   ]
  },
  {
   "cell_type": "code",
   "execution_count": 16,
   "id": "c5e784e5",
   "metadata": {},
   "outputs": [
    {
     "name": "stdout",
     "output_type": "stream",
     "text": [
      "Processing DAE_FSGM-XAAE-IIoT.csv...\n",
      "Results for combination with DAE_FSGM-XAAE-IIoT.csv:\n",
      "Accuracy:  0.5138090249013206\n",
      "Precision:  0.5169620253164557\n",
      "Recall:  0.012781032497120825\n",
      "F1-score:  0.024945332828400054\n",
      "ROC AUC score:  0.5007310791074661\n",
      "--------------------------------------------------\n",
      "Processing DAE_BIM-XAAE-IIoT.csv...\n",
      "Results for combination with DAE_BIM-XAAE-IIoT.csv:\n",
      "Accuracy:  0.5138090249013206\n",
      "Precision:  0.5169620253164557\n",
      "Recall:  0.012781032497120825\n",
      "F1-score:  0.024945332828400054\n",
      "ROC AUC score:  0.5007310791074661\n",
      "--------------------------------------------------\n",
      "Processing DAE_DF-XAAE-IIoT.csv...\n",
      "Results for combination with DAE_DF-XAAE-IIoT.csv:\n",
      "Accuracy:  0.5138090249013206\n",
      "Precision:  0.5169620253164557\n",
      "Recall:  0.012781032497120825\n",
      "F1-score:  0.024945332828400054\n",
      "ROC AUC score:  0.5007310791074661\n",
      "--------------------------------------------------\n",
      "Processing DAE_JSMA-XAAE-IIoT.csv...\n",
      "Results for combination with DAE_JSMA-XAAE-IIoT.csv:\n",
      "Accuracy:  0.5138090249013206\n",
      "Precision:  0.5169620253164557\n",
      "Recall:  0.012781032497120825\n",
      "F1-score:  0.024945332828400054\n",
      "ROC AUC score:  0.5007310791074661\n",
      "--------------------------------------------------\n",
      "Processing DAE_CW2-XAAE-IIoT.csv...\n",
      "Results for combination with DAE_CW2-XAAE-IIoT.csv:\n",
      "Accuracy:  0.5138090249013206\n",
      "Precision:  0.5169620253164557\n",
      "Recall:  0.012781032497120825\n",
      "F1-score:  0.024945332828400054\n",
      "ROC AUC score:  0.5007310791074661\n",
      "--------------------------------------------------\n",
      "Processing DAE_CWinf-XAAE-IIoT.csv...\n",
      "Results for combination with DAE_CWinf-XAAE-IIoT.csv:\n",
      "Accuracy:  0.5138090249013206\n",
      "Precision:  0.5169620253164557\n",
      "Recall:  0.012781032497120825\n",
      "F1-score:  0.024945332828400054\n",
      "ROC AUC score:  0.5007310791074661\n",
      "--------------------------------------------------\n"
     ]
    }
   ],
   "source": [
    "import pandas as pd\n",
    "import numpy as np\n",
    "from sklearn.metrics import accuracy_score, precision_score, recall_score, f1_score, roc_auc_score, confusion_matrix\n",
    "from sklearn.preprocessing import LabelEncoder\n",
    "from tensorflow.keras.models import load_model\n",
    "from mlxtend.plotting import plot_confusion_matrix\n",
    "import matplotlib.pyplot as plt\n",
    "\n",
    "# Load the model\n",
    "#model = load_model('your_model_path.h5')  # Update with your model's file path\n",
    "\n",
    "# Define missing values identifiers\n",
    "missing_values = [\"n/a\", \"na\", \"Infinity\", \"NaN\", \"nan\", \"-\", \"excel\", \"?\", \"#DIV/0!\", \"aza\"]\n",
    "\n",
    "# Load and preprocess the main testing DataFrame\n",
    "df_main = pd.read_csv(\"df_testing_DAE.csv\", na_values=missing_values, engine='python', skipinitialspace=True)\n",
    "df_main = df_main.fillna(df_main.median())\n",
    "\n",
    "# List of additional CSV files to combine with the main DataFrame\n",
    "csv_files = [\n",
    "    'DAE_FSGM-XAAE-IIoT.csv', \n",
    "    'DAE_BIM-XAAE-IIoT.csv', \n",
    "    'DAE_DF-XAAE-IIoT.csv', \n",
    "    'DAE_JSMA-XAAE-IIoT.csv', \n",
    "    'DAE_CW2-XAAE-IIoT.csv',\n",
    "    'DAE_CWinf-XAAE-IIoT.csv'\n",
    "]\n",
    "\n",
    "for file_name in csv_files:\n",
    "    print(f\"Processing {file_name}...\")\n",
    "\n",
    "    # Load and preprocess the additional DataFrame\n",
    "    df_additional = pd.read_csv(file_name, na_values=missing_values, engine='python', skipinitialspace=True)\n",
    "    df_additional = df_additional.fillna(df_additional.median())\n",
    "    \n",
    "    # Combine the main DataFrame with the current additional DataFrame\n",
    "    df_combined = pd.concat([df_main, df_additional], ignore_index=True)\n",
    "    \n",
    "    # Clean the combined DataFrame and prepare data for model evaluation\n",
    "    df_combined_clean = df_combined.dropna(subset=[df_combined.columns[-1]])\n",
    "    X_combined = df_combined_clean.iloc[:, :-1]\n",
    "    y_combined = df_combined_clean.iloc[:, -1]\n",
    "\n",
    "    # Make predictions on the combined dataset\n",
    "    y_pred = model.predict(X_combined.values.astype(np.float32))\n",
    "    y_pred = (y_pred > 0.5).astype(int)\n",
    "\n",
    "    # Evaluate performance\n",
    "    accuracy = accuracy_score(y_combined, y_pred)\n",
    "    precision = precision_score(y_combined, y_pred, zero_division=0)\n",
    "    recall = recall_score(y_combined, y_pred)\n",
    "    f1 = f1_score(y_combined, y_pred)\n",
    "    roc_auc = roc_auc_score(y_combined, y_pred)\n",
    "\n",
    "    # Print evaluation metrics\n",
    "    print(f\"Results for combination with {file_name}:\")\n",
    "    print(\"Accuracy: \", accuracy)\n",
    "    print(\"Precision: \", precision)\n",
    "    print(\"Recall: \", recall)\n",
    "    print(\"F1-score: \", f1)\n",
    "    print(\"ROC AUC score: \", roc_auc)\n",
    "\n",
    "    # Plot and save the confusion matrix\n",
    "    cm = confusion_matrix(y_combined, y_pred)\n",
    "    class_names = ['Normal', 'Attack']\n",
    "    fig, ax = plot_confusion_matrix(conf_mat=cm, class_names=class_names, show_absolute=True, show_normed=False, colorbar=True)\n",
    "    plt.xlabel('Predicted Label')\n",
    "    plt.ylabel('True Label')\n",
    "    plt.title(f\"Confusion Matrix for {file_name}\")\n",
    "    plt.tight_layout()\n",
    "    plt.savefig(f'CM_{file_name}.png')\n",
    "    plt.close()\n",
    "\n",
    "    print(\"--------------------------------------------------\")\n"
   ]
  },
  {
   "cell_type": "code",
   "execution_count": null,
   "id": "057481c0",
   "metadata": {},
   "outputs": [],
   "source": []
  }
 ],
 "metadata": {
  "kernelspec": {
   "display_name": "Python 3 (ipykernel)",
   "language": "python",
   "name": "python3"
  },
  "language_info": {
   "codemirror_mode": {
    "name": "ipython",
    "version": 3
   },
   "file_extension": ".py",
   "mimetype": "text/x-python",
   "name": "python",
   "nbconvert_exporter": "python",
   "pygments_lexer": "ipython3",
   "version": "3.9.7"
  }
 },
 "nbformat": 4,
 "nbformat_minor": 5
}
