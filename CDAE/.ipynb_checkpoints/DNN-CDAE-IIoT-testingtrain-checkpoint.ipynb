{
 "cells": [
  {
   "cell_type": "code",
   "execution_count": 2,
   "id": "fd0ee92f",
   "metadata": {},
   "outputs": [],
   "source": [
    "import pandas as pd\n",
    "from sklearn.preprocessing import LabelEncoder\n",
    "import tensorflow as tf\n",
    "from tensorflow import keras\n",
    "from sklearn.model_selection import train_test_split\n",
    "from sklearn.metrics import accuracy_score, precision_score, recall_score, f1_score, roc_auc_score\n",
    "lb_make=LabelEncoder()\n",
    "import  numpy as np\n",
    "from sklearn.metrics import confusion_matrix\n"
   ]
  },
  {
   "cell_type": "code",
   "execution_count": 3,
   "id": "2ff9e24c",
   "metadata": {},
   "outputs": [],
   "source": [
    "np.random.seed(42)\n",
    "tf.random.set_seed(42)"
   ]
  },
  {
   "cell_type": "code",
   "execution_count": 4,
   "id": "898f0701",
   "metadata": {},
   "outputs": [
    {
     "data": {
      "text/plain": [
       "'C:\\\\adversarial_analysis-master\\\\Investigating_the_Practicality_of_Adversarial_Evasion_Attacks_on_Network_Intrusion_Detection\\\\XAAE-IIoT\\\\CDAE_DAE'"
      ]
     },
     "execution_count": 4,
     "metadata": {},
     "output_type": "execute_result"
    }
   ],
   "source": [
    "pwd"
   ]
  },
  {
   "cell_type": "code",
   "execution_count": 5,
   "id": "5d2faa18",
   "metadata": {},
   "outputs": [],
   "source": [
    "missing_values = [\"n/a\", \"na\", \"Infinity\", \"NaN\",\"nan\",\"-\",\"excel\",\"?\",\"#DIV/0!\",\"aza\"]\n",
    "df = pd.read_csv(\"Cleaned_CDAE_IIoT/df_training_CDAE.csv\", na_values = missing_values, engine='python', skipinitialspace=True)\n",
    "df=df.fillna(df.median())\n"
   ]
  },
  {
   "cell_type": "code",
   "execution_count": 6,
   "id": "243712e9",
   "metadata": {},
   "outputs": [],
   "source": [
    "X = df.drop('class3', axis=1)\n",
    "y = df['class3']\n",
    "from sklearn.preprocessing import MinMaxScaler\n",
    "scaler = MinMaxScaler()\n",
    "# Fit scaler to input features and transform data\n",
    "X = scaler.fit_transform(X)\n",
    "X_train=X \n",
    "y_train=y"
   ]
  },
  {
   "cell_type": "code",
   "execution_count": 7,
   "id": "165ef038",
   "metadata": {},
   "outputs": [],
   "source": [
    "# Define the DNN model architecture\n",
    "model = keras.Sequential([\n",
    "    keras.layers.Dense(200, input_dim=X_train.shape[1], activation='relu'),\n",
    "    keras.layers.Dense(200, activation='relu'),\n",
    "    keras.layers.Dense(200, activation='relu'),\n",
    "    keras.layers.Dense(1, activation='sigmoid')\n",
    "])\n",
    "\n",
    "# Compile the DNN model\n",
    "model.compile(loss='binary_crossentropy', optimizer='RMSprop', metrics=['accuracy'])"
   ]
  },
  {
   "cell_type": "code",
   "execution_count": 8,
   "id": "c2e61ffc",
   "metadata": {},
   "outputs": [
    {
     "name": "stdout",
     "output_type": "stream",
     "text": [
      "Epoch 1/10\n",
      "2364/2364 [==============================] - 11s 4ms/step - loss: 0.0861 - accuracy: 0.9704 - val_loss: 0.0345 - val_accuracy: 0.9937\n",
      "Epoch 2/10\n",
      "2364/2364 [==============================] - 10s 4ms/step - loss: 0.0555 - accuracy: 0.9795 - val_loss: 0.0340 - val_accuracy: 0.9932\n",
      "Epoch 3/10\n",
      "2364/2364 [==============================] - 11s 5ms/step - loss: 0.0517 - accuracy: 0.9803 - val_loss: 0.0421 - val_accuracy: 0.9907\n",
      "Epoch 4/10\n",
      "2364/2364 [==============================] - 10s 4ms/step - loss: 0.0494 - accuracy: 0.9809 - val_loss: 0.0430 - val_accuracy: 0.9902\n",
      "Epoch 5/10\n",
      "2364/2364 [==============================] - 10s 4ms/step - loss: 0.0476 - accuracy: 0.9815 - val_loss: 0.0484 - val_accuracy: 0.9947\n",
      "Epoch 6/10\n",
      "2364/2364 [==============================] - 10s 4ms/step - loss: 0.0468 - accuracy: 0.9819 - val_loss: 0.0559 - val_accuracy: 0.9837\n",
      "Epoch 7/10\n",
      "2364/2364 [==============================] - 9s 4ms/step - loss: 0.0461 - accuracy: 0.9821 - val_loss: 0.1010 - val_accuracy: 0.9542\n",
      "Epoch 8/10\n",
      "2364/2364 [==============================] - 9s 4ms/step - loss: 0.0449 - accuracy: 0.9823 - val_loss: 0.0318 - val_accuracy: 0.9939\n",
      "Epoch 9/10\n",
      "2364/2364 [==============================] - 9s 4ms/step - loss: 0.0445 - accuracy: 0.9825 - val_loss: 0.0247 - val_accuracy: 0.9950\n",
      "Epoch 10/10\n",
      "2364/2364 [==============================] - 9s 4ms/step - loss: 0.0438 - accuracy: 0.9829 - val_loss: 0.0328 - val_accuracy: 0.9907\n"
     ]
    }
   ],
   "source": [
    "\n",
    "# Train the DNN model\n",
    "history = model.fit(X_train, y_train, epochs=10, batch_size=250, validation_split=0.1)"
   ]
  },
  {
   "cell_type": "code",
   "execution_count": 9,
   "id": "fcaaa2db",
   "metadata": {},
   "outputs": [],
   "source": [
    "#torch.save(model.state_dict(), 'CDAE_model.pth')\n",
    "model.save('DNN-CDAE-IIoT-testrain.h5')"
   ]
  },
  {
   "cell_type": "code",
   "execution_count": 10,
   "id": "ec801f3a",
   "metadata": {},
   "outputs": [],
   "source": [
    "df11 = pd.read_csv(\"Cleaned_CDAE_IIoT/df_testing_CDAE.csv\", na_values = missing_values, engine='python', skipinitialspace=True)\n",
    "\n",
    "#only for off-bal\n",
    "#df11.iloc[:, -1] = df11.iloc[:, -1].replace({ \"attack\":1, \"normal\":0})\n",
    "df11=df11.fillna(df11.median())\n",
    "X_test=df11.iloc[:, :-1]\n",
    "y_test =df11.iloc[:, -1]"
   ]
  },
  {
   "cell_type": "code",
   "execution_count": 12,
   "id": "ce00a9f7",
   "metadata": {},
   "outputs": [
    {
     "name": "stderr",
     "output_type": "stream",
     "text": [
      "C:\\Users\\Juba\\.conda\\envs\\py3.6\\lib\\site-packages\\sklearn\\metrics\\_classification.py:1248: UndefinedMetricWarning: Precision is ill-defined and being set to 0.0 due to no predicted samples. Use `zero_division` parameter to control this behavior.\n",
      "  _warn_prf(average, modifier, msg_start, len(result))\n"
     ]
    },
    {
     "name": "stdout",
     "output_type": "stream",
     "text": [
      "Accuracy:  0.5134009063885776\n",
      "Precision:  0.0\n",
      "Recall:  0.0\n",
      "F1-score:  0.0\n",
      "ROC AUC score:  0.5\n"
     ]
    },
    {
     "data": {
      "image/png": "[encoded data removed]",
      "text/plain": [
       "<Figure size 432x288 with 2 Axes>"
      ]
     },
     "metadata": {
      "needs_background": "light"
     },
     "output_type": "display_data"
    }
   ],
   "source": [
    "# Make predictions on test set\n",
    "y_pred = model.predict(X_test)\n",
    "y_pred = (y_pred > 0.5).astype(int)\n",
    "\n",
    "# Evaluate performance using various metrics\n",
    "accuracy = accuracy_score(y_test, y_pred)\n",
    "precision = precision_score(y_test, y_pred)\n",
    "recall = recall_score(y_test, y_pred)\n",
    "f1 = f1_score(y_test, y_pred)\n",
    "roc_auc = roc_auc_score(y_test, y_pred)\n",
    "\n",
    "# Print out evaluation metrics\n",
    "print(\"Accuracy: \", accuracy)\n",
    "print(\"Precision: \", precision)\n",
    "print(\"Recall: \", recall)\n",
    "print(\"F1-score: \", f1)\n",
    "print(\"ROC AUC score: \", roc_auc)\n",
    "import numpy as np\n",
    "from mlxtend.plotting import plot_confusion_matrix\n",
    "import matplotlib.pyplot as plt\n",
    "\n",
    "cm = confusion_matrix(y_test, y_pred)\n",
    "\n",
    "#[[TN, FP],\n",
    " #[FN, TP]]\n",
    "class_names = [ 'Normal','Attack']\n",
    "fig, ax = plot_confusion_matrix(conf_mat=cm,\n",
    "                                show_absolute=True,\n",
    "                                show_normed=False, class_names=class_names,\n",
    "                                colorbar=True)\n",
    "plt.xlabel('Predicted Label')\n",
    "plt.ylabel('True Label')   \n",
    "plt.tight_layout()                             \n",
    "plt.savefig('df_testing_CDAE.csv.png')"
   ]
  },
  {
   "cell_type": "code",
   "execution_count": 13,
   "id": "4c8af54c",
   "metadata": {},
   "outputs": [
    {
     "name": "stdout",
     "output_type": "stream",
     "text": [
      "C:\\adversarial_analysis-master\\Investigating_the_Practicality_of_Adversarial_Evasion_Attacks_on_Network_Intrusion_Detection\\XAAE-IIoT\\CDAE_DAE\\Cleaned_CDAE_IIoT\n"
     ]
    }
   ],
   "source": [
    "cd C:\\adversarial_analysis-master\\Investigating_the_Practicality_of_Adversarial_Evasion_Attacks_on_Network_Intrusion_Detection\\XAAE-IIoT\\CDAE_DAE\\Cleaned_CDAE_IIoT"
   ]
  },
  {
   "cell_type": "code",
   "execution_count": 14,
   "id": "e75334ce",
   "metadata": {},
   "outputs": [
    {
     "name": "stderr",
     "output_type": "stream",
     "text": [
      "C:\\Users\\Juba\\.conda\\envs\\py3.6\\lib\\site-packages\\sklearn\\metrics\\_classification.py:1248: UndefinedMetricWarning: Precision is ill-defined and being set to 0.0 due to no predicted samples. Use `zero_division` parameter to control this behavior.\n",
      "  _warn_prf(average, modifier, msg_start, len(result))\n"
     ]
    },
    {
     "name": "stdout",
     "output_type": "stream",
     "text": [
      "Results for FSGM-CDAE-IIoT.csv:\n",
      "Accuracy:  0.3453526297674266\n",
      "Precision:  0.0\n",
      "Recall:  0.0\n",
      "F1-score:  0.0\n",
      "ROC AUC score:  0.5\n"
     ]
    },
    {
     "name": "stderr",
     "output_type": "stream",
     "text": [
      "C:\\Users\\Juba\\.conda\\envs\\py3.6\\lib\\site-packages\\sklearn\\metrics\\_classification.py:1248: UndefinedMetricWarning: Precision is ill-defined and being set to 0.0 due to no predicted samples. Use `zero_division` parameter to control this behavior.\n",
      "  _warn_prf(average, modifier, msg_start, len(result))\n"
     ]
    },
    {
     "name": "stdout",
     "output_type": "stream",
     "text": [
      "Results for BIM-CDAE-IIoT.csv:\n",
      "Accuracy:  0.3453526297674266\n",
      "Precision:  0.0\n",
      "Recall:  0.0\n",
      "F1-score:  0.0\n",
      "ROC AUC score:  0.5\n"
     ]
    },
    {
     "name": "stderr",
     "output_type": "stream",
     "text": [
      "C:\\Users\\Juba\\.conda\\envs\\py3.6\\lib\\site-packages\\sklearn\\metrics\\_classification.py:1248: UndefinedMetricWarning: Precision is ill-defined and being set to 0.0 due to no predicted samples. Use `zero_division` parameter to control this behavior.\n",
      "  _warn_prf(average, modifier, msg_start, len(result))\n"
     ]
    },
    {
     "name": "stdout",
     "output_type": "stream",
     "text": [
      "Results for DF-CDAE-IIoT.csv:\n",
      "Accuracy:  0.3453526297674266\n",
      "Precision:  0.0\n",
      "Recall:  0.0\n",
      "F1-score:  0.0\n",
      "ROC AUC score:  0.5\n"
     ]
    },
    {
     "name": "stderr",
     "output_type": "stream",
     "text": [
      "C:\\Users\\Juba\\.conda\\envs\\py3.6\\lib\\site-packages\\sklearn\\metrics\\_classification.py:1248: UndefinedMetricWarning: Precision is ill-defined and being set to 0.0 due to no predicted samples. Use `zero_division` parameter to control this behavior.\n",
      "  _warn_prf(average, modifier, msg_start, len(result))\n"
     ]
    },
    {
     "name": "stdout",
     "output_type": "stream",
     "text": [
      "Results for JSMA-CDAE-IIoT.csv:\n",
      "Accuracy:  0.3453526297674266\n",
      "Precision:  0.0\n",
      "Recall:  0.0\n",
      "F1-score:  0.0\n",
      "ROC AUC score:  0.5\n"
     ]
    },
    {
     "name": "stderr",
     "output_type": "stream",
     "text": [
      "C:\\Users\\Juba\\.conda\\envs\\py3.6\\lib\\site-packages\\sklearn\\metrics\\_classification.py:1248: UndefinedMetricWarning: Precision is ill-defined and being set to 0.0 due to no predicted samples. Use `zero_division` parameter to control this behavior.\n",
      "  _warn_prf(average, modifier, msg_start, len(result))\n"
     ]
    },
    {
     "name": "stdout",
     "output_type": "stream",
     "text": [
      "Results for CW2-CDAE-IIoT.csv:\n",
      "Accuracy:  0.3453526297674266\n",
      "Precision:  0.0\n",
      "Recall:  0.0\n",
      "F1-score:  0.0\n",
      "ROC AUC score:  0.5\n"
     ]
    },
    {
     "name": "stderr",
     "output_type": "stream",
     "text": [
      "C:\\Users\\Juba\\.conda\\envs\\py3.6\\lib\\site-packages\\sklearn\\metrics\\_classification.py:1248: UndefinedMetricWarning: Precision is ill-defined and being set to 0.0 due to no predicted samples. Use `zero_division` parameter to control this behavior.\n",
      "  _warn_prf(average, modifier, msg_start, len(result))\n"
     ]
    },
    {
     "name": "stdout",
     "output_type": "stream",
     "text": [
      "Results for CWinf-CDAE-IIoT.csv:\n",
      "Accuracy:  0.3453526297674266\n",
      "Precision:  0.0\n",
      "Recall:  0.0\n",
      "F1-score:  0.0\n",
      "ROC AUC score:  0.5\n"
     ]
    }
   ],
   "source": [
    "import pandas as pd\n",
    "import numpy as np\n",
    "from sklearn.metrics import accuracy_score, precision_score, recall_score, f1_score, roc_auc_score, confusion_matrix\n",
    "from sklearn.preprocessing import LabelEncoder\n",
    "from tensorflow.keras.models import load_model  # Or however your model is defined or loaded\n",
    "from mlxtend.plotting import plot_confusion_matrix\n",
    "import matplotlib.pyplot as plt\n",
    "\n",
    "# Assuming 'model' is loaded or defined here\n",
    "# model = load_model('your_model_path.h5')  # Example for Keras model\n",
    "\n",
    "# Define missing values and load the main DataFrame\n",
    "missing_values = [\"n/a\", \"na\", \"Infinity\", \"NaN\",\"nan\",\"-\",\"excel\",\"?\",\"#DIV/0!\",\"aza\"]\n",
    "df_main = pd.read_csv(\"df_testing_CDAE.csv\", na_values=missing_values, engine='python', skipinitialspace=True)\n",
    "df_main = df_main.fillna(df_main.median())\n",
    "\n",
    "# List of additional CSV files to combine with\n",
    "csv_files =  ['FSGM-CDAE-IIoT.csv', 'BIM-CDAE-IIoT.csv', 'DF-CDAE-IIoT.csv', 'JSMA-CDAE-IIoT.csv', 'CW2-CDAE-IIoT.csv','CWinf-CDAE-IIoT.csv']\n",
    "\n",
    "\n",
    "for file_name in csv_files:\n",
    "    # Load and preprocess the additional DataFrame\n",
    "    df_additional = pd.read_csv(file_name, na_values=missing_values, engine='python', skipinitialspace=True)\n",
    "    df_additional = df_additional.fillna(df_additional.median())\n",
    "    \n",
    "    # Combine DataFrames\n",
    "    df_combined = pd.concat([df_main, df_additional], ignore_index=True)\n",
    "    \n",
    "    # Prepare data for model evaluation\n",
    "    X_combined = df_combined.iloc[:, :-1]\n",
    "    y_combined = df_combined.iloc[:, -1]\n",
    "    \n",
    "    # Make predictions on the combined dataset\n",
    "    y_pred = model.predict(X_combined)\n",
    "    y_pred = (y_pred > 0.5).astype(int)\n",
    "\n",
    "    # Evaluate performance\n",
    "    accuracy = accuracy_score(y_combined, y_pred)\n",
    "    precision = precision_score(y_combined, y_pred)\n",
    "    recall = recall_score(y_combined, y_pred)\n",
    "    f1 = f1_score(y_combined, y_pred)\n",
    "    roc_auc = roc_auc_score(y_combined, y_pred)\n",
    "\n",
    "    # Print evaluation metrics\n",
    "    print(f\"Results for {file_name}:\")\n",
    "    print(\"Accuracy: \", accuracy)\n",
    "    print(\"Precision: \", precision)\n",
    "    print(\"Recall: \", recall)\n",
    "    print(\"F1-score: \", f1)\n",
    "    print(\"ROC AUC score: \", roc_auc)\n",
    "\n",
    "    # Plot confusion matrix\n",
    "    cm = confusion_matrix(y_combined, y_pred)\n",
    "    class_names = ['Normal', 'Attack']\n",
    "    fig, ax = plot_confusion_matrix(conf_mat=cm, class_names=class_names, show_absolute=True, show_normed=False, colorbar=True)\n",
    "    plt.xlabel('Predicted Label')\n",
    "    plt.ylabel('True Label')\n",
    "    plt.tight_layout()\n",
    "    plt.savefig(f'CM_{file_name}.png')\n",
    "    plt.close()\n"
   ]
  },
  {
   "cell_type": "code",
   "execution_count": 24,
   "id": "d05cfbd3",
   "metadata": {},
   "outputs": [
    {
     "data": {
      "text/plain": [
       "'C:\\\\adversarial_analysis-master\\\\Investigating_the_Practicality_of_Adversarial_Evasion_Attacks_on_Network_Intrusion_Detection\\\\XAAE-IIoT\\\\CDAE_DAE'"
      ]
     },
     "execution_count": 24,
     "metadata": {},
     "output_type": "execute_result"
    }
   ],
   "source": [
    "pwd"
   ]
  },
  {
   "cell_type": "code",
   "execution_count": null,
   "id": "2544ccf9",
   "metadata": {},
   "outputs": [],
   "source": []
  }
 ],
 "metadata": {
  "kernelspec": {
   "display_name": "Python 3 (ipykernel)",
   "language": "python",
   "name": "python3"
  },
  "language_info": {
   "codemirror_mode": {
    "name": "ipython",
    "version": 3
   },
   "file_extension": ".py",
   "mimetype": "text/x-python",
   "name": "python",
   "nbconvert_exporter": "python",
   "pygments_lexer": "ipython3",
   "version": "3.9.7"
  }
 },
 "nbformat": 4,
 "nbformat_minor": 5
}
