{
 "cells": [
  {
   "cell_type": "code",
   "execution_count": 1,
   "id": "fd0ee92f",
   "metadata": {},
   "outputs": [],
   "source": [
    "import pandas as pd\n",
    "from sklearn.preprocessing import LabelEncoder\n",
    "import tensorflow as tf\n",
    "from tensorflow import keras\n",
    "from sklearn.model_selection import train_test_split\n",
    "from sklearn.metrics import accuracy_score, precision_score, recall_score, f1_score, roc_auc_score\n",
    "lb_make=LabelEncoder()\n",
    "from sklearn.metrics import confusion_matrix\n"
   ]
  },
  {
   "cell_type": "code",
   "execution_count": 2,
   "id": "5d2faa18",
   "metadata": {},
   "outputs": [],
   "source": [
    "missing_values = [\"n/a\", \"na\", \"Infinity\", \"NaN\",\"nan\",\"-\",\"excel\",\"?\",\"#DIV/0!\",\"aza\"]\n",
    "df = pd.read_csv(\"df_training.csv\", na_values = missing_values, engine='python', skipinitialspace=True)\n",
    "df=df.fillna(df.median())\n"
   ]
  },
  {
   "cell_type": "code",
   "execution_count": 3,
   "id": "243712e9",
   "metadata": {},
   "outputs": [],
   "source": [
    "X = df.drop('class3', axis=1)\n",
    "y = df['class3']\n",
    "from sklearn.preprocessing import MinMaxScaler\n",
    "scaler = MinMaxScaler()\n",
    "# Fit scaler to input features and transform data\n",
    "X = scaler.fit_transform(X)\n",
    "X_train=X \n",
    "y_train=y"
   ]
  },
  {
   "cell_type": "code",
   "execution_count": 4,
   "id": "165ef038",
   "metadata": {},
   "outputs": [],
   "source": [
    "# Define the DNN model architecture\n",
    "model = keras.Sequential([\n",
    "    keras.layers.Dense(200, input_dim=X_train.shape[1], activation='relu'),\n",
    "    keras.layers.Dense(200, activation='relu'),\n",
    "    keras.layers.Dense(200, activation='relu'),\n",
    "    keras.layers.Dense(1, activation='sigmoid')\n",
    "])\n",
    "\n",
    "# Compile the DNN model\n",
    "model.compile(loss='binary_crossentropy', optimizer='RMSprop', metrics=['accuracy'])"
   ]
  },
  {
   "cell_type": "code",
   "execution_count": 5,
   "id": "c2e61ffc",
   "metadata": {},
   "outputs": [
    {
     "name": "stdout",
     "output_type": "stream",
     "text": [
      "Epoch 1/10\n",
      "2364/2364 [==============================] - 11s 4ms/step - loss: 0.0518 - accuracy: 0.9812 - val_loss: 0.0786 - val_accuracy: 0.9602\n",
      "Epoch 2/10\n",
      "2364/2364 [==============================] - 9s 4ms/step - loss: 0.0277 - accuracy: 0.9904 - val_loss: 0.0770 - val_accuracy: 0.9657\n",
      "Epoch 3/10\n",
      "2364/2364 [==============================] - 9s 4ms/step - loss: 0.0225 - accuracy: 0.9930 - val_loss: 0.0116 - val_accuracy: 0.9991\n",
      "Epoch 4/10\n",
      "2364/2364 [==============================] - 10s 4ms/step - loss: 0.0199 - accuracy: 0.9943 - val_loss: 0.0107 - val_accuracy: 0.9982\n",
      "Epoch 5/10\n",
      "2364/2364 [==============================] - 10s 4ms/step - loss: 0.0186 - accuracy: 0.9949 - val_loss: 0.0081 - val_accuracy: 0.9994\n",
      "Epoch 6/10\n",
      "2364/2364 [==============================] - 10s 4ms/step - loss: 0.0170 - accuracy: 0.9956 - val_loss: 0.0040 - val_accuracy: 0.9997\n",
      "Epoch 7/10\n",
      "2364/2364 [==============================] - 10s 4ms/step - loss: 0.0166 - accuracy: 0.9958 - val_loss: 0.0042 - val_accuracy: 0.9995\n",
      "Epoch 8/10\n",
      "2364/2364 [==============================] - 9s 4ms/step - loss: 0.0161 - accuracy: 0.9960 - val_loss: 0.0133 - val_accuracy: 0.9970\n",
      "Epoch 9/10\n",
      "2364/2364 [==============================] - 9s 4ms/step - loss: 0.0157 - accuracy: 0.9961 - val_loss: 0.0070 - val_accuracy: 0.9996\n",
      "Epoch 10/10\n",
      "2364/2364 [==============================] - 9s 4ms/step - loss: 0.0145 - accuracy: 0.9963 - val_loss: 0.0036 - val_accuracy: 0.9998\n"
     ]
    }
   ],
   "source": [
    "\n",
    "# Train the DNN model\n",
    "history = model.fit(X_train, y_train, epochs=10, batch_size=250, validation_split=0.1)"
   ]
  },
  {
   "cell_type": "code",
   "execution_count": 6,
   "id": "ec801f3a",
   "metadata": {},
   "outputs": [],
   "source": [
    "df11 = pd.read_csv(\"df_testing.csv\", na_values = missing_values, engine='python', skipinitialspace=True)\n",
    "\n",
    "#only for off-bal\n",
    "#df11.iloc[:, -1] = df11.iloc[:, -1].replace({ \"attack\":1, \"normal\":0})\n",
    "df11=df11.fillna(df11.median())\n",
    "X_test=df11.iloc[:, :-1]\n",
    "y_test =df11.iloc[:, -1]"
   ]
  },
  {
   "cell_type": "code",
   "execution_count": 7,
   "id": "ce00a9f7",
   "metadata": {},
   "outputs": [
    {
     "name": "stdout",
     "output_type": "stream",
     "text": [
      "Accuracy:  0.9984101651966278\n",
      "Precision:  0.9997614893109552\n",
      "Recall:  0.996970607380702\n",
      "F1-score:  0.9983640979034129\n",
      "ROC AUC score:  0.9983725895334529\n"
     ]
    },
    {
     "data": {
      "image/png": "[encoded data removed]",
      "text/plain": [
       "<Figure size 432x288 with 2 Axes>"
      ]
     },
     "metadata": {
      "needs_background": "light"
     },
     "output_type": "display_data"
    }
   ],
   "source": [
    "# Make predictions on test set\n",
    "y_pred = model.predict(X_test)\n",
    "y_pred = (y_pred > 0.5).astype(int)\n",
    "\n",
    "# Evaluate performance using various metrics\n",
    "accuracy = accuracy_score(y_test, y_pred)\n",
    "precision = precision_score(y_test, y_pred)\n",
    "recall = recall_score(y_test, y_pred)\n",
    "f1 = f1_score(y_test, y_pred)\n",
    "roc_auc = roc_auc_score(y_test, y_pred)\n",
    "\n",
    "# Print out evaluation metrics\n",
    "print(\"Accuracy: \", accuracy)\n",
    "print(\"Precision: \", precision)\n",
    "print(\"Recall: \", recall)\n",
    "print(\"F1-score: \", f1)\n",
    "print(\"ROC AUC score: \", roc_auc)\n",
    "import numpy as np\n",
    "from mlxtend.plotting import plot_confusion_matrix\n",
    "import matplotlib.pyplot as plt\n",
    "\n",
    "cm = confusion_matrix(y_test, y_pred)\n",
    "\n",
    "#[[TN, FP],\n",
    " #[FN, TP]]\n",
    "class_names = [ 'Normal','Attack']\n",
    "fig, ax = plot_confusion_matrix(conf_mat=cm,\n",
    "                                show_absolute=True,\n",
    "                                show_normed=False, class_names=class_names,\n",
    "                                colorbar=True)\n",
    "plt.xlabel('Predicted Label')\n",
    "plt.ylabel('True Label')   \n",
    "plt.tight_layout()                             \n",
    "plt.savefig('CM22.png')"
   ]
  },
  {
   "cell_type": "code",
   "execution_count": 9,
   "id": "e75334ce",
   "metadata": {},
   "outputs": [
    {
     "name": "stdout",
     "output_type": "stream",
     "text": [
      "Results for FSGM-XAAE-IIoT.csv:\n",
      "Accuracy:  0.6716765279530592\n",
      "Precision:  0.9997615401993022\n",
      "Recall:  0.49859170797656605\n",
      "F1-score:  0.665360874685733\n",
      "ROC AUC score:  0.7491831398313848\n",
      "Results for BIM-XAAE-IIoT.csv:\n",
      "Accuracy:  0.671606870666907\n",
      "Precision:  0.9997614893109552\n",
      "Recall:  0.498485303690351\n",
      "F1-score:  0.6652661122921618\n",
      "ROC AUC score:  0.7491299376882774\n",
      "Results for DF-XAAE-IIoT.csv:\n",
      "Accuracy:  0.6739137560847688\n",
      "Precision:  0.999763163143199\n",
      "Recall:  0.5020091632867658\n",
      "F1-score:  0.6683972799093303\n",
      "ROC AUC score:  0.7508918674864848\n",
      "Results for JSMA-XAAE-IIoT.csv:\n",
      "Accuracy:  0.6725165128743055\n",
      "Precision:  0.9997621521475157\n",
      "Recall:  0.49987481848680587\n",
      "F1-score:  0.6665025391089543\n",
      "ROC AUC score:  0.7498246950865048\n",
      "Results for CW2-XAAE-IIoT.csv:\n",
      "Accuracy:  0.6720821792077099\n",
      "Precision:  0.9997618361181794\n",
      "Recall:  0.499211356466877\n",
      "F1-score:  0.6659124590369242\n",
      "ROC AUC score:  0.7494929640765403\n",
      "Results for CWinf-XAAE-IIoT.csv:\n",
      "Accuracy:  0.6754953862291643\n",
      "Precision:  0.9997642972335938\n",
      "Recall:  0.5044251664914126\n",
      "F1-score:  0.6705355731389727\n",
      "ROC AUC score:  0.7520998690888081\n"
     ]
    }
   ],
   "source": [
    "import pandas as pd\n",
    "import numpy as np\n",
    "from sklearn.metrics import accuracy_score, precision_score, recall_score, f1_score, roc_auc_score, confusion_matrix\n",
    "from sklearn.preprocessing import LabelEncoder\n",
    "from tensorflow.keras.models import load_model  # Or however your model is defined or loaded\n",
    "from mlxtend.plotting import plot_confusion_matrix\n",
    "import matplotlib.pyplot as plt\n",
    "\n",
    "# Assuming 'model' is loaded or defined here\n",
    "# model = load_model('your_model_path.h5')  # Example for Keras model\n",
    "\n",
    "# Define missing values and load the main DataFrame\n",
    "missing_values = [\"n/a\", \"na\", \"Infinity\", \"NaN\",\"nan\",\"-\",\"excel\",\"?\",\"#DIV/0!\",\"aza\"]\n",
    "df_main = pd.read_csv(\"df_testing.csv\", na_values=missing_values, engine='python', skipinitialspace=True)\n",
    "df_main = df_main.fillna(df_main.median())\n",
    "\n",
    "# List of additional CSV files to combine with\n",
    "csv_files =  ['FSGM-XAAE-IIoT.csv', 'BIM-XAAE-IIoT.csv', 'DF-XAAE-IIoT.csv', 'JSMA-XAAE-IIoT.csv', 'CW2-XAAE-IIoT.csv','CWinf-XAAE-IIoT.csv']\n",
    "\n",
    "\n",
    "for file_name in csv_files:\n",
    "    # Load and preprocess the additional DataFrame\n",
    "    df_additional = pd.read_csv(file_name, na_values=missing_values, engine='python', skipinitialspace=True)\n",
    "    df_additional = df_additional.fillna(df_additional.median())\n",
    "    \n",
    "    # Combine DataFrames\n",
    "    df_combined = pd.concat([df_main, df_additional], ignore_index=True)\n",
    "    \n",
    "    # Prepare data for model evaluation\n",
    "    X_combined = df_combined.iloc[:, :-1]\n",
    "    y_combined = df_combined.iloc[:, -1]\n",
    "    \n",
    "    # Make predictions on the combined dataset\n",
    "    y_pred = model.predict(X_combined)\n",
    "    y_pred = (y_pred > 0.5).astype(int)\n",
    "\n",
    "    # Evaluate performance\n",
    "    accuracy = accuracy_score(y_combined, y_pred)\n",
    "    precision = precision_score(y_combined, y_pred)\n",
    "    recall = recall_score(y_combined, y_pred)\n",
    "    f1 = f1_score(y_combined, y_pred)\n",
    "    roc_auc = roc_auc_score(y_combined, y_pred)\n",
    "\n",
    "    # Print evaluation metrics\n",
    "    print(f\"Results for {file_name}:\")\n",
    "    print(\"Accuracy: \", accuracy)\n",
    "    print(\"Precision: \", precision)\n",
    "    print(\"Recall: \", recall)\n",
    "    print(\"F1-score: \", f1)\n",
    "    print(\"ROC AUC score: \", roc_auc)\n",
    "\n",
    "    # Plot confusion matrix\n",
    "    cm = confusion_matrix(y_combined, y_pred)\n",
    "    class_names = ['Normal', 'Attack']\n",
    "    fig, ax = plot_confusion_matrix(conf_mat=cm, class_names=class_names, show_absolute=True, show_normed=False, colorbar=True)\n",
    "    plt.xlabel('Predicted Label')\n",
    "    plt.ylabel('True Label')\n",
    "    plt.tight_layout()\n",
    "    plt.savefig(f'CM_{file_name}.png')\n",
    "    plt.close()\n"
   ]
  },
  {
   "cell_type": "code",
   "execution_count": null,
   "id": "d05cfbd3",
   "metadata": {},
   "outputs": [],
   "source": []
  }
 ],
 "metadata": {
  "kernelspec": {
   "display_name": "Python 3 (ipykernel)",
   "language": "python",
   "name": "python3"
  },
  "language_info": {
   "codemirror_mode": {
    "name": "ipython",
    "version": 3
   },
   "file_extension": ".py",
   "mimetype": "text/x-python",
   "name": "python",
   "nbconvert_exporter": "python",
   "pygments_lexer": "ipython3",
   "version": "3.9.7"
  }
 },
 "nbformat": 4,
 "nbformat_minor": 5
}
