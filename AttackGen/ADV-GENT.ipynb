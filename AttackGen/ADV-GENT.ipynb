{
 "cells": [
  {
   "cell_type": "code",
   "execution_count": 1,
   "id": "71ccf438",
   "metadata": {},
   "outputs": [],
   "source": []
  },
  {
   "cell_type": "code",
   "execution_count": 3,
   "id": "cc10b083",
   "metadata": {},
   "outputs": [
    {
     "name": "stderr",
     "output_type": "stream",
     "text": [
      "C:\\Users\\Juba\\.conda\\envs\\py3.6\\lib\\site-packages\\tqdm\\auto.py:22: TqdmWarning: IProgress not found. Please update jupyter and ipywidgets. See https://ipywidgets.readthedocs.io/en/stable/user_install.html\n",
      "  from .autonotebook import tqdm as notebook_tqdm\n",
      "C:\\Users\\Juba\\.conda\\envs\\py3.6\\lib\\site-packages\\ipykernel_launcher.py:28: DeprecationWarning: The module art.classifiers will be removed in ART 1.8.0 and replaced with art.estimators.classification\n"
     ]
    }
   ],
   "source": [
    "import pandas as pd\n",
    "from sklearn.preprocessing import LabelEncoder\n",
    "import tensorflow as tf\n",
    "from tensorflow import keras\n",
    "from sklearn.model_selection import train_test_split\n",
    "from sklearn.metrics import accuracy_score, precision_score, recall_score, f1_score, roc_auc_score\n",
    "lb_make=LabelEncoder()\n",
    "import numpy as np\n",
    "import pandas as pd\n",
    "import matplotlib.pyplot as plt\n",
    "import seaborn as sb\n",
    "import copy\n",
    "import time as time\n",
    "\n",
    "import torch\n",
    "import torch.nn as nn\n",
    "import torch.nn.functional as F\n",
    "import torch.optim as optim\n",
    "\n",
    "from sklearn.metrics import classification_report\n",
    "from sklearn.decomposition import PCA\n",
    "from sklearn.feature_selection import chi2\n",
    "\n",
    "#!pip install adversarial-robustness-toolbox >/dev/null\n",
    "import os,sys\n",
    "sys.path.append(os.path.dirname('../adversarial-robustness-toolbox/'))\n",
    "from art.attacks.evasion import FastGradientMethod, BasicIterativeMethod, DeepFool, SaliencyMapMethod, CarliniL2Method, CarliniLInfMethod, CarliniL0Method\n",
    "from art.classifiers import PyTorchClassifier\n",
    "\n",
    "%matplotlib inline\n",
    "\n",
    "pd.options.display.max_columns = 200\n",
    "pd.options.display.max_rows = 200"
   ]
  },
  {
   "cell_type": "code",
   "execution_count": 20,
   "id": "6a8847c0",
   "metadata": {},
   "outputs": [
    {
     "data": {
      "text/plain": [
       "Normal    421417\n",
       "Attack    399417\n",
       "Name: class3, dtype: int64"
      ]
     },
     "execution_count": 20,
     "metadata": {},
     "output_type": "execute_result"
    }
   ],
   "source": [
    "\n",
    "\n",
    "missing_values = [\"n/a\", \"na\", \"Infinity\", \"NaN\",\"nan\",\"-\",\"excel\",\"?\",\"#DIV/0!\",\"aza\"]\n",
    "\n",
    "#df_testing = pd.read_csv(\"test.csv\", na_values = missing_values, engine='python', skipinitialspace=True)\n",
    "#df_training = pd.read_csv(\"train.csv\", na_values = missing_values, engine='python', skipinitialspace=True)\n",
    "\n",
    "\n",
    "missing_values = [\"n/a\", \"na\", \"Infinity\", \"NaN\",\"nan\",\"-\",\"excel\",\"?\",\"#DIV/0!\",\"aza\"]\n",
    "df = pd.read_csv(\"Binary-X-IIoTD.csv\", na_values = missing_values, engine='python', skipinitialspace=True)\n",
    "df=df.fillna(df.median())\n",
    "df['class3'].value_counts()\n",
    "\n",
    "#df_training=df_training.fillna(df_training.median())\n",
    "#df_testing=df_testing.fillna(df_testing.median())\n",
    "#n_training = len(df_training)  # Number of rows in the original training DataFrame\n",
    "#n_testing = len(df_testing)    # Number of rows in the original testing DataFrame\n",
    "\n"
   ]
  },
  {
   "cell_type": "code",
   "execution_count": 21,
   "id": "c88a093f",
   "metadata": {},
   "outputs": [
    {
     "data": {
      "text/plain": [
       "0    421417\n",
       "1    399417\n",
       "Name: class3, dtype: int64"
      ]
     },
     "execution_count": 21,
     "metadata": {},
     "output_type": "execute_result"
    }
   ],
   "source": [
    "df['class3'] = (df['class3'] != 'Normal').astype('int64')\n",
    "\n",
    "df['class3'].value_counts()\n",
    "\n"
   ]
  },
  {
   "cell_type": "code",
   "execution_count": 88,
   "id": "c95ad4c9",
   "metadata": {},
   "outputs": [],
   "source": [
    "#df = pd.concat([df_training, df_testing], axis=0) "
   ]
  },
  {
   "cell_type": "code",
   "execution_count": 22,
   "id": "675409b3",
   "metadata": {},
   "outputs": [],
   "source": [
    "#columns_to_drop = ['Scr_IP', 'Scr_port', 'Des_IP', 'Des_port', 'anomaly_alert']\n",
    "columns_to_drop = [ 'Bad_checksum', 'is_SYN_with_RST','anomaly_alert']\n",
    "df = df.drop(columns_to_drop, axis=1)\n",
    "\n",
    "\n",
    "#df['class3'] = (df['class3'] != 'Normal').astype('int64')\n",
    "\n",
    "for i in ['Scr_IP', 'Scr_port', 'Des_IP', 'Des_port']:\n",
    "    df[ i] = df[ i].astype('object')\n",
    "    # Encoding\n",
    "    lb_make=LabelEncoder()\n",
    "    df[i] = lb_make.fit_transform(df[i])\n",
    "\n",
    "for i in ['Protocol', 'Service']:\n",
    "    # Create the One Hot Encode DataFrame\n",
    "    dum = pd.get_dummies(df[i])\n",
    "    # Insert into the dataset DataFrame by Series\n",
    "    for column_name in list(dum.columns):\n",
    "        df.insert(1, str(i)+column_name, dum[column_name])\n",
    "        df[str(i)+column_name] = df[str(i)+column_name].astype('int64')\n",
    "    # Drop the old attribute's column\n",
    "    df.drop(i, inplace=True, axis=1)\n",
    "df[['is_syn_only', 'Is_SYN_ACK', 'is_pure_ack', 'is_with_payload', 'FIN or RST']] = df[['is_syn_only', 'Is_SYN_ACK', 'is_pure_ack', 'is_with_payload','FIN or RST']].astype(int)\n"
   ]
  },
  {
   "cell_type": "code",
   "execution_count": 23,
   "id": "317a878a",
   "metadata": {},
   "outputs": [],
   "source": [
    "# Split the data frame based on the \"attack\" and \"normal\" labels\n",
    "attack_df = df[df['class3'] == 1]\n",
    "normal_df = df[df['class3'] == 0]\n",
    "\n",
    "# Split the \"attack\" and \"normal\" data frames into training and testing sets\n",
    "attack_train_df, attack_test_df = train_test_split(attack_df, test_size=0.2,random_state=42)\n",
    "normal_train_df, normal_test_df = train_test_split(normal_df, test_size=0.2,random_state=42)\n",
    "\n",
    "# Concatenate the training and testing sets of both \"attack\" and \"normal\" data frames\n",
    "df_training = pd.concat([attack_train_df, normal_train_df])\n",
    "df_testing = pd.concat([attack_test_df, normal_test_df])"
   ]
  },
  {
   "cell_type": "code",
   "execution_count": 24,
   "id": "d838f255",
   "metadata": {},
   "outputs": [],
   "source": [
    "df = pd.concat([df_training, df_testing], axis=0)"
   ]
  },
  {
   "cell_type": "code",
   "execution_count": 25,
   "id": "d408cbd8",
   "metadata": {},
   "outputs": [],
   "source": [
    "# Re-split the combined DataFrame\n",
    "#df_training = df.iloc[:n_training]\n",
    "#df_testing = df.iloc[n_training:n_training + n_testing]"
   ]
  },
  {
   "cell_type": "code",
   "execution_count": 26,
   "id": "633efa5b",
   "metadata": {},
   "outputs": [
    {
     "data": {
      "text/plain": [
       "'\\n# Iterate through each column and check for binary features\\nfor index, column in enumerate(df.columns):\\n    if df[column].nunique() == 2:\\n        print(f\"Column \\'{column}\\' at index {index} is binary.\")'"
      ]
     },
     "execution_count": 26,
     "metadata": {},
     "output_type": "execute_result"
    }
   ],
   "source": [
    "'''\n",
    "# Iterate through each column and check for binary features\n",
    "for index, column in enumerate(df.columns):\n",
    "    if df[column].nunique() == 2:\n",
    "        print(f\"Column '{column}' at index {index} is binary.\")'''"
   ]
  },
  {
   "cell_type": "code",
   "execution_count": null,
   "id": "78026782",
   "metadata": {},
   "outputs": [],
   "source": []
  },
  {
   "cell_type": "code",
   "execution_count": 27,
   "id": "98f60063",
   "metadata": {},
   "outputs": [],
   "source": [
    "from sklearn.preprocessing import MinMaxScaler\n",
    "scaler = MinMaxScaler()\n",
    "\n",
    "# Fit the scaler to the data and transform it\n",
    "scaled_data = scaler.fit_transform(df)\n",
    "\n",
    "# Convert the scaled data back to a DataFrame\n",
    "df = pd.DataFrame(scaled_data, columns=df.columns)"
   ]
  },
  {
   "cell_type": "code",
   "execution_count": 28,
   "id": "9b6f14ad",
   "metadata": {},
   "outputs": [],
   "source": [
    "#min = df[:df_training.shape[0]].min()\n",
    "#max = df[:df_training.shape[0]].max()\n",
    "\n",
    "#for i in df_testing.columns:\n",
    "#    # The min and max are computed on the training set\n",
    "#    df[i] = (df[i] - min[i]) / (max[i] - min[i])"
   ]
  },
  {
   "cell_type": "code",
   "execution_count": 29,
   "id": "2b1a31ef",
   "metadata": {},
   "outputs": [],
   "source": [
    "# Split training and testing sets\n",
    "df_training = df[:df_training.shape[0]]    \n",
    "df_testing = df[df_training.shape[0]:]"
   ]
  },
  {
   "cell_type": "code",
   "execution_count": 30,
   "id": "19bf416b",
   "metadata": {},
   "outputs": [],
   "source": [
    "# Get NumPy arrays from DataFrames\n",
    "nd_training = df_training.values\n",
    "nd_testing = df_testing.values"
   ]
  },
  {
   "cell_type": "code",
   "execution_count": 31,
   "id": "097893e2",
   "metadata": {},
   "outputs": [],
   "source": [
    "# Separating arguments (x) from lables (y)\n",
    "x_train = nd_training[:, :-1]\n",
    "y_train = nd_training[:, -1]\n",
    "x_test = nd_testing[:, :-1]\n",
    "y_test = nd_testing[:, -1]"
   ]
  },
  {
   "cell_type": "code",
   "execution_count": 32,
   "id": "1d3724e4",
   "metadata": {},
   "outputs": [],
   "source": [
    "# Make a copy of the data set as NumPy arrays\n",
    "x_train_np = x_train.copy()\n",
    "y_train_np = y_train.copy()\n",
    "x_test_np = x_test.copy()\n",
    "y_test_np = y_test.copy()"
   ]
  },
  {
   "cell_type": "code",
   "execution_count": 33,
   "id": "f7c941f1",
   "metadata": {},
   "outputs": [],
   "source": [
    "import os,sys\n",
    "sys.path.append(os.path.dirname('../adversarial-robustness-toolbox/'))\n",
    "from art.attacks.evasion import FastGradientMethod, BasicIterativeMethod, DeepFool, SaliencyMapMethod, CarliniL2Method, CarliniLInfMethod, CarliniL0Method\n",
    "from art.classifiers import PyTorchClassifier\n"
   ]
  },
  {
   "cell_type": "code",
   "execution_count": 34,
   "id": "8979cf34",
   "metadata": {},
   "outputs": [],
   "source": [
    "# Convert from numpy array to torch tensors\n",
    "x_train = torch.from_numpy(x_train).float()\n",
    "y_train = torch.from_numpy(y_train).long()\n",
    "x_test = torch.from_numpy(x_test).float()\n",
    "y_test = torch.from_numpy(y_test).long()"
   ]
  },
  {
   "cell_type": "code",
   "execution_count": 35,
   "id": "49b0b1c8",
   "metadata": {},
   "outputs": [],
   "source": [
    "class Network(nn.Module):\n",
    "    def __init__(self, input_size, hidden_size, output_size):\n",
    "        super().__init__()\n",
    "        self.fc1 = nn.Linear(input_size, hidden_size[0])\n",
    "        self.fc2 = nn.Linear(hidden_size[0], hidden_size[1])\n",
    "        self.fc3 = nn.Linear(hidden_size[1], output_size)\n",
    "\n",
    "    def forward(self, x, softmax=False): \n",
    "        a = self.fc3(F.relu(self.fc2(F.relu(self.fc1(x.float())))))\n",
    "        if softmax:\n",
    "            y_pred = F.softmax(a, dim=1)\n",
    "        else:\n",
    "            y_pred = a\n",
    "\n",
    "        return y_pred"
   ]
  },
  {
   "cell_type": "code",
   "execution_count": 36,
   "id": "ca1c2882",
   "metadata": {},
   "outputs": [],
   "source": [
    "def evaluate(predictions, real):\n",
    "    n_correct = torch.eq(predictions, real).sum().item()\n",
    "    accuracy = n_correct / len(predictions)\n",
    "    return accuracy * 100"
   ]
  },
  {
   "cell_type": "code",
   "execution_count": 37,
   "id": "54fd962b",
   "metadata": {},
   "outputs": [],
   "source": [
    "def stat_model(model, x_train, y_train, x_test, y_test):\n",
    "    _, predictions_train = model(x_train, softmax=True).max(dim=1)\n",
    "    accuracy_train = evaluate(predictions=predictions_train.long(), real=y_train)\n",
    "\n",
    "    _, predictions_test = model(x_test, softmax=True).max(dim=1)\n",
    "    accuracy_test = evaluate(predictions=predictions_test.long(), real=y_test)\n",
    "    \n",
    "    print(\"Final Training Accuracy: {0:.4f}%\\nFinal Testing Accuracy : {1:.4f}%\"\n",
    "          .format(accuracy_train, accuracy_test))\n",
    "    # Move the tensors back to CPU\n",
    "    label_test_final = y_test.cpu().numpy()\n",
    "    predictions_test_final = predictions_test.cpu().numpy()\n",
    "    report = classification_report(label_test_final, predictions_test_final)\n",
    "    print(\"Classification Report :\")\n",
    "    print(report)"
   ]
  },
  {
   "cell_type": "code",
   "execution_count": 38,
   "id": "64df2782",
   "metadata": {},
   "outputs": [
    {
     "name": "stdout",
     "output_type": "stream",
     "text": [
      "Training on : cpu\n",
      "epoch:    0 | loss: 0.6952 | Train accuracy: 52.3016% | Test accuracy: 52.4079% [52.4079%] | Running for : 0m 2s\n",
      "epoch:  100 | loss: 0.0465 | Train accuracy: 98.4094% | Test accuracy: 98.4236% [98.4364%] | Running for : 9m 46s\n",
      "Training complete in 9m 50s\n"
     ]
    }
   ],
   "source": [
    "# Initialising the model\n",
    "input_size=x_train.shape[1]\n",
    "hidden_size=[256,256]\n",
    "output_size=2\n",
    "model = Network(input_size, hidden_size, output_size)\n",
    "\n",
    "# Setting device\n",
    "device = torch.device('cuda' if torch.cuda.is_available() else 'cpu')\n",
    "print(\"Training on : {}\".format(device))\n",
    "\n",
    "# Transfering model and data to GPU\n",
    "model = model.to(device)\n",
    "x_train = x_train.to(device)\n",
    "y_train = y_train.to(device)\n",
    "x_test = x_test.to(device)\n",
    "y_test = y_test.to(device)\n",
    "\n",
    "# Setting the Loss function and Adam learning rate\n",
    "criterion = nn.CrossEntropyLoss()\n",
    "lr = 0.01\n",
    "optimizer = optim.Adam(model.parameters(), lr=lr)\n",
    "\n",
    "# Variables to store the best performences (weights and accuracy)\n",
    "best_model_weights = copy.deepcopy(model.state_dict())\n",
    "best_accuracy = 0.0\n",
    "\n",
    "# DataFrame for the learning curve plot\n",
    "trace = pd.DataFrame(columns=['epoch', 'train_acc', 'test_acc'])\n",
    "# Iterrating on the dataset\n",
    "since = time.time()\n",
    "for epoch in range(100+1):\n",
    "    # Forward pass\n",
    "    y_pred = model(x_train)\n",
    "    _, predictions = y_pred.max(dim=1)\n",
    "    # Compute accuracy\n",
    "    accuracy_train = evaluate(predictions=predictions.long(), real=y_train)\n",
    "    # Compute loss\n",
    "    loss = criterion(y_pred, y_train)\n",
    "\n",
    "    # Testing model on the test set\n",
    "    if epoch%10 == 0:\n",
    "        _, predictions_test = model(x_test, softmax=True).max(dim=1)\n",
    "        accuracy_test = evaluate(predictions=predictions_test.long(), real=y_test)\n",
    "        # Keep track of the accuracies for the learning curve\n",
    "        trace = trace.append([{'epoch':epoch,\n",
    "                                'train_acc':accuracy_train,\n",
    "                                'test_acc':accuracy_test}])\n",
    "        # Save the best model's accuracy and parameters\n",
    "        if accuracy_test > best_accuracy:\n",
    "            best_accuracy = accuracy_test\n",
    "            best_model_weights = copy.deepcopy(model.state_dict())\n",
    "        # Displap statistics\n",
    "        if epoch%100 == 0:\n",
    "            time_elapsed = time.time() - since\n",
    "            print(\"epoch: {0:4d} | loss: {1:.4f} | Train accuracy: {2:.4f}% | Test accuracy: {3:.4f}% [{4:.4f}%] | Running for : {5:.0f}m {6:.0f}s\"\n",
    "                  .format(epoch,\n",
    "                          loss,\n",
    "                          accuracy_train,\n",
    "                          accuracy_test,\n",
    "                          best_accuracy,\n",
    "                          time_elapsed // 60,\n",
    "                          time_elapsed % 60))\n",
    "\n",
    "    # Zero all gradients\n",
    "    optimizer.zero_grad()\n",
    "    # Backward pass\n",
    "    loss.backward()\n",
    "    # Update weights\n",
    "    optimizer.step()\n",
    "\n",
    "# Compute the training time\n",
    "time_elapsed = time.time() - since\n",
    "print('Training complete in {:.0f}m {:.0f}s'.format(\n",
    "    time_elapsed // 60, time_elapsed % 60))"
   ]
  },
  {
   "cell_type": "code",
   "execution_count": 39,
   "id": "38d260ff",
   "metadata": {},
   "outputs": [
    {
     "name": "stderr",
     "output_type": "stream",
     "text": [
      "The PostScript backend does not support transparency; partially transparent artists will be rendered opaque.\n",
      "The PostScript backend does not support transparency; partially transparent artists will be rendered opaque.\n"
     ]
    },
    {
     "name": "stdout",
     "output_type": "stream",
     "text": [
      "Final Training Accuracy: 98.4225%\n",
      "Final Testing Accuracy : 98.4364%\n",
      "Classification Report :\n",
      "              precision    recall  f1-score   support\n",
      "\n",
      "           0       0.97      1.00      0.98     84284\n",
      "           1       1.00      0.97      0.98     79884\n",
      "\n",
      "    accuracy                           0.98    164168\n",
      "   macro avg       0.99      0.98      0.98    164168\n",
      "weighted avg       0.98      0.98      0.98    164168\n",
      "\n"
     ]
    },
    {
     "data": {
      "image/png": "[encoded data removed]",
      "text/plain": [
       "<Figure size 1440x720 with 1 Axes>"
      ]
     },
     "metadata": {
      "needs_background": "light"
     },
     "output_type": "display_data"
    }
   ],
   "source": [
    "# Draw the learning curve\n",
    "plt.figure(figsize=(20, 10))\n",
    "plt.scatter(data=trace, x='epoch', y='train_acc', c=\"b\", s=5)\n",
    "plt.scatter(data=trace, x='epoch', y='test_acc', c=\"r\", s=5)\n",
    "plt.plot(trace['epoch'], trace['train_acc'], c=\"b\")\n",
    "plt.plot(trace['epoch'], trace['test_acc'], c=\"r\")\n",
    "plt.ylim((0, 100))\n",
    "plt.yticks(np.arange(0, 100, 5))\n",
    "plt.grid()\n",
    "plt.legend()\n",
    "plt.savefig(\"learning_curve.eps\", format=\"eps\", bbox_inches='tight')\n",
    "\n",
    "# Loading the best weights and displaying the best model's performances\n",
    "model.load_state_dict(best_model_weights)\n",
    "stat_model(model, x_train, y_train, x_test, y_test)"
   ]
  },
  {
   "cell_type": "code",
   "execution_count": 41,
   "id": "d2f90043",
   "metadata": {},
   "outputs": [
    {
     "data": {
      "text/plain": [
       "<All keys matched successfully>"
      ]
     },
     "execution_count": 41,
     "metadata": {},
     "output_type": "execute_result"
    }
   ],
   "source": [
    "torch.save(model.state_dict(), \"./model.pytorch\")\n",
    "model.load_state_dict(torch.load(\"./model.pytorch\"))"
   ]
  },
  {
   "cell_type": "code",
   "execution_count": 42,
   "id": "ee923dbd",
   "metadata": {},
   "outputs": [],
   "source": [
    "adv_feat_stats = pd.DataFrame(index=df_training.columns[:-1])\n",
    "\n",
    "adv_results = pd.DataFrame(index=['Accuracy', \n",
    "                                  'Mean perturbed features   [Mean L0]', \n",
    "                                  'Max perturbed features    [Max  L0]', \n",
    "                                  'Mean Euclidiant distance  [Mean L2]', \n",
    "                                  'Max Euclidiant distance   [Max  L2]', \n",
    "                                  'Mean Maximum perturbation [Mean Li]', \n",
    "                                  'Max Maximum perturbation  [Max  Li]'])\n",
    "\n",
    "adv_inv = pd.DataFrame(index=['Invalid value range',\n",
    "                              'Invalid binary values',\n",
    "                              'Invalid class belonging'])"
   ]
  },
  {
   "cell_type": "code",
   "execution_count": 43,
   "id": "ae01b1fb",
   "metadata": {},
   "outputs": [],
   "source": [
    "def adv_norms(x_test_cpu, adversarial_examples_cpu):\n",
    "    mean_l0 = np.mean(np.sum(x_test_cpu != adversarial_examples_cpu, axis=1))\n",
    "    max_l0 = np.max(np.sum(x_test_cpu != adversarial_examples_cpu, axis=1))\n",
    "    mean_l2 = np.mean(np.sum(np.power(x_test_cpu - adversarial_examples_cpu, 2), axis=1, keepdims=True))\n",
    "    max_l2 = np.max(np.sum(np.power(x_test_cpu - adversarial_examples_cpu, 2), axis=1, keepdims=True))\n",
    "    mean_li = np.mean(np.max(np.abs(x_test_cpu - adversarial_examples_cpu), axis=1, keepdims=True))\n",
    "    max_li = np.max(np.max(np.abs(x_test_cpu - adversarial_examples_cpu), axis=1, keepdims=True))\n",
    "    return [mean_l0, max_l0, mean_l2, max_l2, mean_li, max_li]"
   ]
  },
  {
   "cell_type": "code",
   "execution_count": 44,
   "id": "b42f6970",
   "metadata": {},
   "outputs": [
    {
     "data": {
      "text/plain": [
       "(820834, 79)"
      ]
     },
     "execution_count": 44,
     "metadata": {},
     "output_type": "execute_result"
    }
   ],
   "source": [
    "df.shape"
   ]
  },
  {
   "cell_type": "code",
   "execution_count": 45,
   "id": "1c2412e8",
   "metadata": {},
   "outputs": [],
   "source": [
    "def adv_criteria(x_test_cpu, adversarial_examples_cpu):\n",
    "    # Verify value ranges\n",
    "    min = x_test_cpu.min(axis=1, keepdims=True)\n",
    "    max = x_test_cpu.max(axis=1, keepdims=True)\n",
    "    adv_range = (adversarial_examples_cpu < min) | (adversarial_examples_cpu > max)\n",
    "    adv_range = adv_range.any(axis=1, keepdims=True)\n",
    "    adv_range = adv_range.sum(axis=0)\n",
    "\n",
    "    # Binary values\n",
    "    binary_feat_ind = [1, 2, 3, 4, 5, 6, 7, 8, 9, 10, 11, 12, 13, 14, 15, 16, 17, 18, 19, 20, 27, 29, 30, 31, 32, 33, 70, 72, 73, 74, 75, 76, 77]\n",
    "    adv_bin = adversarial_examples_cpu[:, binary_feat_ind]\n",
    "    adv_bin = (adv_bin != 1) & ( adv_bin != 0)\n",
    "    adv_bin = adv_bin.any(axis=1, keepdims=True)\n",
    "    adv_bin = adv_bin.sum(axis=0)\n",
    "\n",
    "    # Multi class\n",
    "    adv1 = adversarial_examples_cpu[:, 1:4] != 0\n",
    "    adv1 = adv1.astype(int).sum(axis=1, keepdims=True) != 1\n",
    "    adv1 = adv1.sum(axis=1, keepdims=True)\n",
    "\n",
    "    adv2 = adversarial_examples_cpu[:, 4:74] != 0\n",
    "    adv2 = adv2.astype(int).sum(axis=1, keepdims=True) != 1\n",
    "    adv2 = adv2.sum(axis=1, keepdims=True)\n",
    "\n",
    "    adv3 = adversarial_examples_cpu[:, 74:85] != 0\n",
    "    adv3 = adv3.astype(int).sum(axis=1, keepdims=True) != 1\n",
    "    adv3 = adv3.sum(axis=1, keepdims=True)\n",
    "\n",
    "    adv_cat = adv1 | adv2 | adv3\n",
    "    adv_cat = adv_cat.sum(axis=0)\n",
    "\n",
    "    return [adv_range[0]*100/x_test.shape[0], adv_bin[0]*100/x_test.shape[0], adv_cat[0]*100/x_test.shape[0]]"
   ]
  },
  {
   "cell_type": "code",
   "execution_count": 46,
   "id": "a6dea0ad",
   "metadata": {},
   "outputs": [],
   "source": [
    "positive_examples = df_testing[df_testing['class3'] == 1].values\n",
    "x_test = torch.from_numpy((positive_examples[:, :-1])).float()\n",
    "y_test = torch.from_numpy((positive_examples[:, -1])).float()\n",
    "x_test = x_test.to(device)\n",
    "y_test = y_test.to(device)"
   ]
  },
  {
   "cell_type": "code",
   "execution_count": 47,
   "id": "637730a0",
   "metadata": {},
   "outputs": [],
   "source": [
    "classifier = PyTorchClassifier(model=model, loss=criterion, optimizer=optimizer, input_shape=input_size, nb_classes=output_size)"
   ]
  },
  {
   "cell_type": "code",
   "execution_count": 48,
   "id": "ca27a5d8",
   "metadata": {},
   "outputs": [
    {
     "name": "stdout",
     "output_type": "stream",
     "text": [
      "Accuracy                               97.03445\n",
      "Mean perturbed features   [Mean L0]     0.00000\n",
      "Max perturbed features    [Max  L0]     0.00000\n",
      "Mean Euclidiant distance  [Mean L2]     0.00000\n",
      "Max Euclidiant distance   [Max  L2]     0.00000\n",
      "Mean Maximum perturbation [Mean Li]     0.00000\n",
      "Max Maximum perturbation  [Max  Li]     0.00000\n",
      "Name: Clean, dtype: float64\n",
      "Invalid value range          0.0\n",
      "Invalid binary values        0.0\n",
      "Invalid class belonging    100.0\n",
      "Name: Clean, dtype: float64\n"
     ]
    }
   ],
   "source": [
    "_, predictions_clean = model(x_test, softmax=True).max(dim=1)\n",
    "accuracy_clean = evaluate(predictions=predictions_clean.long(), real=y_test)\n",
    "\n",
    "attack='Clean'\n",
    "\n",
    "# Exporting the clean positive examples in a .csv file\n",
    "pd.DataFrame(np.hstack((x_test.cpu().numpy(),y_test.cpu().numpy().reshape(y_test.shape[0], 1))), columns=df.columns).to_csv(\"clean_examples.csv\")\n",
    "\n",
    "x_test_cpu = np.array(x_test.cpu())\n",
    "adv_results[attack] = [accuracy_clean] + adv_norms(x_test_cpu, x_test_cpu)\n",
    "adv_inv[attack] = adv_criteria(x_test_cpu, x_test_cpu)\n",
    "\n",
    "print(adv_results[attack])\n",
    "print(adv_inv[attack])"
   ]
  },
  {
   "cell_type": "code",
   "execution_count": 49,
   "id": "29a205e7",
   "metadata": {},
   "outputs": [
    {
     "name": "stdout",
     "output_type": "stream",
     "text": [
      "Binary columns:  ['Servicewebsocket', 'Servicessh', 'Servicesmtp', 'Servicesimple_service_discovery', 'Serviceprivate', 'Serviceother', 'Servicenetbios-ns', 'Servicemysql', 'Servicemqtt', 'Servicemodbus', 'Serviceimap', 'Servicehttps', 'Servicehttp', 'Serviceecho', 'Servicedns', 'Servicedhcp', 'Servicecoap', 'Protocoludp', 'Protocoltcp', 'Protocolicmp', 'Conn_state', 'is_syn_only', 'Is_SYN_ACK', 'is_pure_ack', 'is_with_payload', 'FIN or RST', 'OSSEC_alert', 'Login_attempt', 'Succesful_login', 'File_activity', 'Process_activity', 'read_write_physical.process', 'is_privileged', 'class3']\n",
      "Index positions of binary columns:  [1, 2, 3, 4, 5, 6, 7, 8, 9, 10, 11, 12, 13, 14, 15, 16, 17, 18, 19, 20, 27, 29, 30, 31, 32, 33, 70, 72, 73, 74, 75, 76, 77, 78]\n"
     ]
    }
   ],
   "source": [
    "binary_cols = []\n",
    "for col in df.columns:\n",
    "    if df[col].dropna().isin([0, 1]).all():\n",
    "        binary_cols.append(col)\n",
    "\n",
    "# Get the index positions of the binary columns\n",
    "binary_cols_index = [df.columns.get_loc(col) for col in binary_cols]\n",
    "\n",
    "# Print the binary columns and their index positions\n",
    "print(\"Binary columns: \", binary_cols)\n",
    "print(\"Index positions of binary columns: \", binary_cols_index)"
   ]
  },
  {
   "cell_type": "code",
   "execution_count": 50,
   "id": "1f862a29",
   "metadata": {},
   "outputs": [
    {
     "name": "stdout",
     "output_type": "stream",
     "text": [
      "Binary columns:  ['Servicewebsocket', 'Servicessh', 'Servicesmtp', 'Servicesimple_service_discovery', 'Serviceprivate', 'Serviceother', 'Servicenetbios-ns', 'Servicemysql', 'Servicemqtt', 'Servicemodbus', 'Serviceimap', 'Servicehttps', 'Servicehttp', 'Serviceecho', 'Servicedns', 'Servicedhcp', 'Servicecoap', 'Protocoludp', 'Protocoltcp', 'Protocolicmp', 'Conn_state', 'is_syn_only', 'Is_SYN_ACK', 'is_pure_ack', 'is_with_payload', 'FIN or RST', 'OSSEC_alert', 'Login_attempt', 'Succesful_login', 'File_activity', 'Process_activity', 'read_write_physical.process', 'is_privileged', 'class3']\n",
      "Index positions of binary columns:  [1, 2, 3, 4, 5, 6, 7, 8, 9, 10, 11, 12, 13, 14, 15, 16, 17, 18, 19, 20, 27, 29, 30, 31, 32, 33, 70, 72, 73, 74, 75, 76, 77, 78]\n"
     ]
    }
   ],
   "source": [
    "binary_cols = []\n",
    "for col in df.columns:\n",
    "    if df[col].dropna().isin([0, 1]).all():\n",
    "        binary_cols.append(col)\n",
    "\n",
    "# Get the index positions of the binary columns\n",
    "binary_cols_index = [df.columns.get_loc(col) for col in binary_cols]\n",
    "\n",
    "# Print the binary columns and their index positions\n",
    "print(\"Binary columns: \", binary_cols)\n",
    "print(\"Index positions of binary columns: \", binary_cols_index)"
   ]
  },
  {
   "cell_type": "code",
   "execution_count": 51,
   "id": "4391a341",
   "metadata": {},
   "outputs": [],
   "source": [
    "binary_cols_index = [df.columns.get_loc(col) for col in df.columns]\n"
   ]
  },
  {
   "cell_type": "code",
   "execution_count": 52,
   "id": "bdc6414c",
   "metadata": {},
   "outputs": [
    {
     "name": "stdout",
     "output_type": "stream",
     "text": [
      "{'Scr_IP': 0, 'Servicewebsocket': 1, 'Servicessh': 2, 'Servicesmtp': 3, 'Servicesimple_service_discovery': 4, 'Serviceprivate': 5, 'Serviceother': 6, 'Servicenetbios-ns': 7, 'Servicemysql': 8, 'Servicemqtt': 9, 'Servicemodbus': 10, 'Serviceimap': 11, 'Servicehttps': 12, 'Servicehttp': 13, 'Serviceecho': 14, 'Servicedns': 15, 'Servicedhcp': 16, 'Servicecoap': 17, 'Protocoludp': 18, 'Protocoltcp': 19, 'Protocolicmp': 20, 'Scr_port': 21, 'Des_IP': 22, 'Des_port': 23, 'Duration': 24, 'Scr_bytes': 25, 'Des_bytes': 26, 'Conn_state': 27, 'missed_bytes': 28, 'is_syn_only': 29, 'Is_SYN_ACK': 30, 'is_pure_ack': 31, 'is_with_payload': 32, 'FIN or RST': 33, 'Scr_pkts': 34, 'Scr_ip_bytes': 35, 'Des_pkts': 36, 'Des_ip_bytes': 37, 'total_bytes': 38, 'total_packet': 39, 'paket_rate': 40, 'byte_rate': 41, 'Scr_packts_ratio': 42, 'Des_pkts_ratio': 43, 'Scr_bytes_ratio': 44, 'Des_bytes_ratio': 45, 'Avg_user_time': 46, 'Std_user_time': 47, 'Avg_nice_time': 48, 'Std_nice_time': 49, 'Avg_system_time': 50, 'Std_system_time': 51, 'Avg_iowait_time': 52, 'Std_iowait_time': 53, 'Avg_ideal_time': 54, 'Std_ideal_time': 55, 'Avg_tps': 56, 'Std_tps': 57, 'Avg_rtps': 58, 'Std_rtps': 59, 'Avg_wtps': 60, 'Std_wtps': 61, 'Avg_ldavg_1': 62, 'Std_ldavg_1': 63, 'Avg_kbmemused': 64, 'Std_kbmemused': 65, 'Avg_num_Proc/s': 66, 'Std_num_proc/s': 67, 'Avg_num_cswch/s': 68, 'std_num_cswch/s': 69, 'OSSEC_alert': 70, 'OSSEC_alert_level': 71, 'Login_attempt': 72, 'Succesful_login': 73, 'File_activity': 74, 'Process_activity': 75, 'read_write_physical.process': 76, 'is_privileged': 77, 'class3': 78}\n"
     ]
    }
   ],
   "source": [
    "column_indices = {column_name: index for index, column_name in enumerate(df.columns)}\n",
    "print(column_indices)\n"
   ]
  },
  {
   "cell_type": "code",
   "execution_count": 54,
   "id": "29531ec3",
   "metadata": {},
   "outputs": [
    {
     "name": "stdout",
     "output_type": "stream",
     "text": [
      "Final Training Accuracy: 97.0344%\n",
      "Final Testing Accuracy : 2.9656%\n",
      "Classification Report :\n",
      "              precision    recall  f1-score   support\n",
      "\n",
      "         0.0       0.00      0.00      0.00         0\n",
      "         1.0       1.00      0.03      0.06     79884\n",
      "\n",
      "    accuracy                           0.03     79884\n",
      "   macro avg       0.50      0.01      0.03     79884\n",
      "weighted avg       1.00      0.03      0.06     79884\n",
      "\n"
     ]
    },
    {
     "name": "stderr",
     "output_type": "stream",
     "text": [
      "C:\\Users\\Juba\\.conda\\envs\\py3.6\\lib\\site-packages\\sklearn\\metrics\\_classification.py:1248: UndefinedMetricWarning: Recall and F-score are ill-defined and being set to 0.0 in labels with no true samples. Use `zero_division` parameter to control this behavior.\n",
      "  _warn_prf(average, modifier, msg_start, len(result))\n",
      "C:\\Users\\Juba\\.conda\\envs\\py3.6\\lib\\site-packages\\sklearn\\metrics\\_classification.py:1248: UndefinedMetricWarning: Recall and F-score are ill-defined and being set to 0.0 in labels with no true samples. Use `zero_division` parameter to control this behavior.\n",
      "  _warn_prf(average, modifier, msg_start, len(result))\n",
      "C:\\Users\\Juba\\.conda\\envs\\py3.6\\lib\\site-packages\\sklearn\\metrics\\_classification.py:1248: UndefinedMetricWarning: Recall and F-score are ill-defined and being set to 0.0 in labels with no true samples. Use `zero_division` parameter to control this behavior.\n",
      "  _warn_prf(average, modifier, msg_start, len(result))\n"
     ]
    },
    {
     "name": "stdout",
     "output_type": "stream",
     "text": [
      "Accuracy                                2.965550\n",
      "Mean perturbed features   [Mean L0]    65.388588\n",
      "Max perturbed features    [Max  L0]    73.000000\n",
      "Mean Euclidiant distance  [Mean L2]     0.559537\n",
      "Max Euclidiant distance   [Max  L2]     0.664023\n",
      "Mean Maximum perturbation [Mean Li]     0.100000\n",
      "Max Maximum perturbation  [Max  Li]     0.100000\n",
      "Name: FGSM, dtype: float64\n",
      "Invalid value range          0.0\n",
      "Invalid binary values      100.0\n",
      "Invalid class belonging    100.0\n",
      "Name: FGSM, dtype: float64\n"
     ]
    }
   ],
   "source": [
    "import numpy as np\n",
    "import torch\n",
    "import pandas as pd\n",
    "\n",
    "# Assuming 'x_test', 'model', 'classifier', and 'y_test' are already defined and loaded\n",
    "# Assuming 'data' is a DataFrame containing your entire dataset (training + testing)\n",
    "\n",
    "# Calculate min and max values for each feature from the entire dataset\n",
    "feature_data = df.iloc[:, :-1]  # Adjust this to match your actual feature columns\n",
    "\n",
    "feature_min = feature_data.min()\n",
    "feature_max = feature_data.max()\n",
    "\n",
    "# Create the adversarial examples crafter\n",
    "adversarial_crafter = FastGradientMethod(\n",
    "    classifier,\n",
    "    norm=np.inf,\n",
    "    eps=0.1,\n",
    "    targeted=False,\n",
    "    num_random_init=0,\n",
    "    batch_size=128,\n",
    ")\n",
    "\n",
    "# Generate the adversarial examples\n",
    "adversarial_examples = adversarial_crafter.generate(x=x_test.cpu())\n",
    "\n",
    "# Convert adversarial examples to torch tensors\n",
    "adversarial_examples = torch.from_numpy(adversarial_examples).float()\n",
    "\n",
    "# Ensure the perturbation for each feature stays within the observed min-max range\n",
    "for i, (min_val, max_val) in enumerate(zip(feature_min, feature_max)):\n",
    "    adversarial_examples[:, i] = torch.clamp(adversarial_examples[:, i], min=min_val, max=max_val)\n",
    "\n",
    "adversarial_examples = adversarial_examples.to(torch.device('cuda' if torch.cuda.is_available() else 'cpu'))\n",
    "\n",
    "# Continue with the evaluation and processing\n",
    "stat_model(model, x_test, y_test, adversarial_examples, y_test)\n",
    "\n",
    "# Convert to CPU numpy arrays for further analysis\n",
    "adversarial_examples_cpu = np.array(adversarial_examples.cpu())\n",
    "x_test_cpu = np.array(x_test.cpu())\n",
    "\n",
    "# Evaluate the model on adversarial examples\n",
    "_, predictions_adv = model(adversarial_examples, softmax=True).max(dim=1)\n",
    "accuracy_adv = evaluate(predictions=predictions_adv.long(), real=y_test)\n",
    "attack = 'FGSM'\n",
    "adv_results[attack] = [accuracy_adv] + adv_norms(x_test_cpu, adversarial_examples_cpu)\n",
    "adv_inv[attack] = adv_criteria(x_test_cpu, adversarial_examples_cpu)\n",
    "\n",
    "# Export the adjusted adversarial examples to a CSV file\n",
    "pd.DataFrame(np.hstack((adversarial_examples_cpu, y_test.cpu().reshape(y_test.shape[0], 1))), columns=df.columns).to_csv(\"adjusted_adversarial_examples_FGSM-IIoT.csv\")\n",
    "\n",
    "print(adv_results[attack])\n",
    "print(adv_inv[attack])\n"
   ]
  },
  {
   "cell_type": "code",
   "execution_count": 55,
   "id": "c1483c4e",
   "metadata": {},
   "outputs": [],
   "source": [
    "import pandas as pd\n",
    "\n",
    "# Load the datasets\n",
    "data_x1 = pd.read_csv('clean_examples.csv')  # Original dataset\n",
    "data_x2 = pd.read_csv('adjusted_adversarial_examples_FGSM-IIoT.csv')  # Perturbed dataset\n",
    "# List of columns to keep in x2\n",
    "columns_to_keep =['Scr_IP','Scr_port', 'Des_IP', 'Des_port','Servicewebsocket', 'Servicessh', 'Servicesmtp', 'Servicesimple_service_discovery', 'Serviceprivate', 'Serviceother', 'Servicenetbios-ns', 'Servicemysql', 'Servicemqtt', 'Servicemodbus', 'Serviceimap', 'Servicehttps', 'Servicehttp', 'Serviceecho', 'Servicedns', 'Servicedhcp', 'Servicecoap', 'Protocoludp', 'Protocoltcp', 'Protocolicmp', 'Conn_state', 'is_syn_only', 'Is_SYN_ACK', 'is_pure_ack', 'is_with_payload', 'FIN or RST', 'OSSEC_alert', 'Login_attempt', 'Succesful_login', 'File_activity', 'Process_activity', 'read_write_physical.process', 'is_privileged']\n",
    "\n",
    "# Ensure column names are consistent and exist in both dataframes\n",
    "columns_to_keep = [col for col in columns_to_keep if col in data_x2.columns and col in data_x1.columns]\n",
    "\n",
    "# Columns to replace in x2 with values from x1 (all columns not in 'columns_to_keep')\n",
    "columns_to_replace = [col for col in data_x2.columns if col not in columns_to_keep]\n",
    "\n",
    "# Replace the values\n",
    "data_x2[columns_to_replace] = data_x1[columns_to_replace]\n",
    "# Save the modified x2 dataset\n",
    "data_x2.to_csv('OFF_FGSM-IIoT.csv', index=False)\n"
   ]
  },
  {
   "cell_type": "code",
   "execution_count": 56,
   "id": "7fda231b",
   "metadata": {},
   "outputs": [
    {
     "name": "stderr",
     "output_type": "stream",
     "text": [
      "                                                                                                                       \r"
     ]
    },
    {
     "name": "stdout",
     "output_type": "stream",
     "text": [
      "Final Training Accuracy: 97.0344%\n",
      "Final Testing Accuracy : 2.9656%\n",
      "Classification Report :\n",
      "              precision    recall  f1-score   support\n",
      "\n",
      "         0.0       0.00      0.00      0.00         0\n",
      "         1.0       1.00      0.03      0.06     79884\n",
      "\n",
      "    accuracy                           0.03     79884\n",
      "   macro avg       0.50      0.01      0.03     79884\n",
      "weighted avg       1.00      0.03      0.06     79884\n",
      "\n"
     ]
    },
    {
     "name": "stderr",
     "output_type": "stream",
     "text": [
      "C:\\Users\\Juba\\.conda\\envs\\py3.6\\lib\\site-packages\\sklearn\\metrics\\_classification.py:1248: UndefinedMetricWarning: Recall and F-score are ill-defined and being set to 0.0 in labels with no true samples. Use `zero_division` parameter to control this behavior.\n",
      "  _warn_prf(average, modifier, msg_start, len(result))\n",
      "C:\\Users\\Juba\\.conda\\envs\\py3.6\\lib\\site-packages\\sklearn\\metrics\\_classification.py:1248: UndefinedMetricWarning: Recall and F-score are ill-defined and being set to 0.0 in labels with no true samples. Use `zero_division` parameter to control this behavior.\n",
      "  _warn_prf(average, modifier, msg_start, len(result))\n",
      "C:\\Users\\Juba\\.conda\\envs\\py3.6\\lib\\site-packages\\sklearn\\metrics\\_classification.py:1248: UndefinedMetricWarning: Recall and F-score are ill-defined and being set to 0.0 in labels with no true samples. Use `zero_division` parameter to control this behavior.\n",
      "  _warn_prf(average, modifier, msg_start, len(result))\n"
     ]
    },
    {
     "name": "stdout",
     "output_type": "stream",
     "text": [
      "Accuracy                                2.965550\n",
      "Mean perturbed features   [Mean L0]    64.014271\n",
      "Max perturbed features    [Max  L0]    71.000000\n",
      "Mean Euclidiant distance  [Mean L2]     0.441642\n",
      "Max Euclidiant distance   [Max  L2]     0.543281\n",
      "Mean Maximum perturbation [Mean Li]     0.100000\n",
      "Max Maximum perturbation  [Max  Li]     0.100000\n",
      "Name: BIM, dtype: float64\n",
      "Invalid value range          0.0\n",
      "Invalid binary values      100.0\n",
      "Invalid class belonging    100.0\n",
      "Name: BIM, dtype: float64\n"
     ]
    }
   ],
   "source": [
    "import numpy as np\n",
    "import torch\n",
    "import pandas as pd\n",
    "\n",
    "# Assuming 'x_test', 'model', 'classifier', and 'y_test' are already defined and loaded\n",
    "# Assuming 'data' is a DataFrame containing your entire dataset (training + testing)\n",
    "\n",
    "# Calculate min and max values for each feature from the entire dataset\n",
    "feature_data = df.iloc[:, :-1]  # Adjust this to match your actual feature columns\n",
    "\n",
    "feature_min = feature_data.min()\n",
    "feature_max = feature_data.max()\n",
    "\n",
    "# Create the adversarial examples crafter\n",
    "adversarial_crafter = BasicIterativeMethod(classifier, \n",
    "                                           eps=0.1, \n",
    "                                           eps_step=0.001,\n",
    "                                           max_iter=100, \n",
    "                                           targeted=False, \n",
    "                                           batch_size=128)\n",
    "\n",
    "# Generate the adversarial examples\n",
    "adversarial_examples = adversarial_crafter.generate(x=x_test.cpu())\n",
    "\n",
    "# Convert adversarial examples to torch tensors\n",
    "adversarial_examples = torch.from_numpy(adversarial_examples).float()\n",
    "\n",
    "# Ensure the perturbation for each feature stays within the observed min-max range\n",
    "for i, (min_val, max_val) in enumerate(zip(feature_min, feature_max)):\n",
    "    adversarial_examples[:, i] = torch.clamp(adversarial_examples[:, i], min=min_val, max=max_val)\n",
    "\n",
    "adversarial_examples = adversarial_examples.to(torch.device('cuda' if torch.cuda.is_available() else 'cpu'))\n",
    "\n",
    "# Continue with the evaluation and processing\n",
    "stat_model(model, x_test, y_test, adversarial_examples, y_test)\n",
    "\n",
    "# Convert to CPU numpy arrays for further analysis\n",
    "adversarial_examples_cpu = np.array(adversarial_examples.cpu())\n",
    "x_test_cpu = np.array(x_test.cpu())\n",
    "\n",
    "# Evaluate the model on adversarial examples\n",
    "_, predictions_adv = model(adversarial_examples, softmax=True).max(dim=1)\n",
    "accuracy_adv = evaluate(predictions=predictions_adv.long(), real=y_test)\n",
    "attack = 'BIM'\n",
    "adv_results[attack] = [accuracy_adv] + adv_norms(x_test_cpu, adversarial_examples_cpu)\n",
    "adv_inv[attack] = adv_criteria(x_test_cpu, adversarial_examples_cpu)\n",
    "\n",
    "# Export the adjusted adversarial examples to a CSV file\n",
    "pd.DataFrame(np.hstack((adversarial_examples_cpu, y_test.cpu().reshape(y_test.shape[0], 1))), columns=df.columns).to_csv(\"adjusted_adversarial_examples_BIM-IIoT.csv\")\n",
    "\n",
    "print(adv_results[attack])\n",
    "print(adv_inv[attack])\n"
   ]
  },
  {
   "cell_type": "code",
   "execution_count": 57,
   "id": "10ea7a64",
   "metadata": {},
   "outputs": [],
   "source": [
    "import pandas as pd\n",
    "\n",
    "# Load the datasets\n",
    "data_x1 = pd.read_csv('clean_examples.csv')  # Original dataset\n",
    "data_x2 = pd.read_csv('adjusted_adversarial_examples_BIM-IIoT.csv')  # Perturbed dataset\n",
    "# List of columns to keep in x2\n",
    "columns_to_keep =['Scr_IP','Scr_port', 'Des_IP', 'Des_port','Servicewebsocket', 'Servicessh', 'Servicesmtp', 'Servicesimple_service_discovery', 'Serviceprivate', 'Serviceother', 'Servicenetbios-ns', 'Servicemysql', 'Servicemqtt', 'Servicemodbus', 'Serviceimap', 'Servicehttps', 'Servicehttp', 'Serviceecho', 'Servicedns', 'Servicedhcp', 'Servicecoap', 'Protocoludp', 'Protocoltcp', 'Protocolicmp', 'Conn_state', 'is_syn_only', 'Is_SYN_ACK', 'is_pure_ack', 'is_with_payload', 'FIN or RST', 'OSSEC_alert', 'Login_attempt', 'Succesful_login', 'File_activity', 'Process_activity', 'read_write_physical.process', 'is_privileged']\n",
    "\n",
    "# Ensure column names are consistent and exist in both dataframes\n",
    "columns_to_keep = [col for col in columns_to_keep if col in data_x2.columns and col in data_x1.columns]\n",
    "\n",
    "# Columns to replace in x2 with values from x1 (all columns not in 'columns_to_keep')\n",
    "columns_to_replace = [col for col in data_x2.columns if col not in columns_to_keep]\n",
    "\n",
    "# Replace the values\n",
    "data_x2[columns_to_replace] = data_x1[columns_to_replace]\n",
    "# Save the modified x2 dataset\n",
    "data_x2.to_csv('OFF_BIM.csv', index=False)\n"
   ]
  },
  {
   "cell_type": "code",
   "execution_count": 58,
   "id": "397479d3",
   "metadata": {},
   "outputs": [
    {
     "data": {
      "text/plain": [
       "'C:\\\\adversarial_analysis-master\\\\Investigating_the_Practicality_of_Adversarial_Evasion_Attacks_on_Network_Intrusion_Detection\\\\XAAE-IIoT'"
      ]
     },
     "execution_count": 58,
     "metadata": {},
     "output_type": "execute_result"
    }
   ],
   "source": [
    "pwd"
   ]
  },
  {
   "cell_type": "code",
   "execution_count": null,
   "id": "498cae7a",
   "metadata": {},
   "outputs": [],
   "source": []
  },
  {
   "cell_type": "code",
   "execution_count": 59,
   "id": "2d02db59",
   "metadata": {},
   "outputs": [
    {
     "name": "stderr",
     "output_type": "stream",
     "text": [
      "DeepFool: 100%|██████████████████████████████████████████████████████████████████████| 625/625 [00:25<00:00, 24.88it/s]\n"
     ]
    },
    {
     "name": "stdout",
     "output_type": "stream",
     "text": [
      "Final Training Accuracy: 97.0344%\n",
      "Final Testing Accuracy : 74.9562%\n",
      "Classification Report :\n",
      "              precision    recall  f1-score   support\n",
      "\n",
      "         0.0       0.00      0.00      0.00         0\n",
      "         1.0       1.00      0.75      0.86     79884\n",
      "\n",
      "    accuracy                           0.75     79884\n",
      "   macro avg       0.50      0.37      0.43     79884\n",
      "weighted avg       1.00      0.75      0.86     79884\n",
      "\n"
     ]
    },
    {
     "name": "stderr",
     "output_type": "stream",
     "text": [
      "C:\\Users\\Juba\\.conda\\envs\\py3.6\\lib\\site-packages\\sklearn\\metrics\\_classification.py:1248: UndefinedMetricWarning: Recall and F-score are ill-defined and being set to 0.0 in labels with no true samples. Use `zero_division` parameter to control this behavior.\n",
      "  _warn_prf(average, modifier, msg_start, len(result))\n",
      "C:\\Users\\Juba\\.conda\\envs\\py3.6\\lib\\site-packages\\sklearn\\metrics\\_classification.py:1248: UndefinedMetricWarning: Recall and F-score are ill-defined and being set to 0.0 in labels with no true samples. Use `zero_division` parameter to control this behavior.\n",
      "  _warn_prf(average, modifier, msg_start, len(result))\n",
      "C:\\Users\\Juba\\.conda\\envs\\py3.6\\lib\\site-packages\\sklearn\\metrics\\_classification.py:1248: UndefinedMetricWarning: Recall and F-score are ill-defined and being set to 0.0 in labels with no true samples. Use `zero_division` parameter to control this behavior.\n",
      "  _warn_prf(average, modifier, msg_start, len(result))\n"
     ]
    },
    {
     "name": "stdout",
     "output_type": "stream",
     "text": [
      "Accuracy                               74.956186\n",
      "Mean perturbed features   [Mean L0]    65.386999\n",
      "Max perturbed features    [Max  L0]    73.000000\n",
      "Mean Euclidiant distance  [Mean L2]     0.034679\n",
      "Max Euclidiant distance   [Max  L2]     0.183002\n",
      "Mean Maximum perturbation [Mean Li]     0.077898\n",
      "Max Maximum perturbation  [Max  Li]     0.202520\n",
      "Name: DF, dtype: float64\n",
      "Invalid value range          0.0\n",
      "Invalid binary values      100.0\n",
      "Invalid class belonging    100.0\n",
      "Name: DF, dtype: float64\n"
     ]
    }
   ],
   "source": [
    "import numpy as np\n",
    "import torch\n",
    "import pandas as pd\n",
    "\n",
    "# Assuming 'x_test', 'model', 'classifier', and 'y_test' are already defined and loaded\n",
    "# Assuming 'data' is a DataFrame containing your entire dataset (training + testing)\n",
    "\n",
    "# Calculate min and max values for each feature from the entire dataset\n",
    "feature_data = df.iloc[:, :-1]  # Adjust this to match your actual feature columns\n",
    "\n",
    "feature_min = feature_data.min()\n",
    "feature_max = feature_data.max()\n",
    "\n",
    "# Create the adversarial examples crafter\n",
    "# Creating the adversarial examples crafter\n",
    "adversarial_crafter = DeepFool(classifier, \n",
    "                               max_iter=100, \n",
    "                               epsilon=1e-6, \n",
    "                               nb_grads=10, \n",
    "                               batch_size=128)\n",
    "\n",
    "# Generate the adversarial examples\n",
    "adversarial_examples = adversarial_crafter.generate(x=x_test.cpu())\n",
    "\n",
    "# Convert adversarial examples to torch tensors\n",
    "adversarial_examples = torch.from_numpy(adversarial_examples).float()\n",
    "\n",
    "# Ensure the perturbation for each feature stays within the observed min-max range\n",
    "for i, (min_val, max_val) in enumerate(zip(feature_min, feature_max)):\n",
    "    adversarial_examples[:, i] = torch.clamp(adversarial_examples[:, i], min=min_val, max=max_val)\n",
    "\n",
    "adversarial_examples = adversarial_examples.to(torch.device('cuda' if torch.cuda.is_available() else 'cpu'))\n",
    "\n",
    "# Continue with the evaluation and processing\n",
    "stat_model(model, x_test, y_test, adversarial_examples, y_test)\n",
    "\n",
    "# Convert to CPU numpy arrays for further analysis\n",
    "adversarial_examples_cpu = np.array(adversarial_examples.cpu())\n",
    "x_test_cpu = np.array(x_test.cpu())\n",
    "\n",
    "# Evaluate the model on adversarial examples\n",
    "_, predictions_adv = model(adversarial_examples, softmax=True).max(dim=1)\n",
    "accuracy_adv = evaluate(predictions=predictions_adv.long(), real=y_test)\n",
    "attack = 'DF'\n",
    "adv_results[attack] = [accuracy_adv] + adv_norms(x_test_cpu, adversarial_examples_cpu)\n",
    "adv_inv[attack] = adv_criteria(x_test_cpu, adversarial_examples_cpu)\n",
    "\n",
    "# Export the adjusted adversarial examples to a CSV file\n",
    "pd.DataFrame(np.hstack((adversarial_examples_cpu, y_test.cpu().reshape(y_test.shape[0], 1))), columns=df.columns).to_csv(\"adjusted_adversarial_examples_DF-IIoT.csv\")\n",
    "\n",
    "print(adv_results[attack])\n",
    "print(adv_inv[attack])\n"
   ]
  },
  {
   "cell_type": "code",
   "execution_count": 60,
   "id": "5dd84a4b",
   "metadata": {},
   "outputs": [],
   "source": [
    "import pandas as pd\n",
    "\n",
    "# Load the datasets\n",
    "data_x1 = pd.read_csv('clean_examples.csv')  # Original dataset\n",
    "data_x2 = pd.read_csv('adjusted_adversarial_examples_DF-IIoT.csv')  # Perturbed dataset\n",
    "# List of columns to keep in x2\n",
    "columns_to_keep =['Scr_IP','Scr_port', 'Des_IP', 'Des_port','Servicewebsocket', 'Servicessh', 'Servicesmtp', 'Servicesimple_service_discovery', 'Serviceprivate', 'Serviceother', 'Servicenetbios-ns', 'Servicemysql', 'Servicemqtt', 'Servicemodbus', 'Serviceimap', 'Servicehttps', 'Servicehttp', 'Serviceecho', 'Servicedns', 'Servicedhcp', 'Servicecoap', 'Protocoludp', 'Protocoltcp', 'Protocolicmp', 'Conn_state', 'is_syn_only', 'Is_SYN_ACK', 'is_pure_ack', 'is_with_payload', 'FIN or RST', 'OSSEC_alert', 'Login_attempt', 'Succesful_login', 'File_activity', 'Process_activity', 'read_write_physical.process', 'is_privileged']\n",
    "\n",
    "# Ensure column names are consistent and exist in both dataframes\n",
    "columns_to_keep = [col for col in columns_to_keep if col in data_x2.columns and col in data_x1.columns]\n",
    "\n",
    "# Columns to replace in x2 with values from x1 (all columns not in 'columns_to_keep')\n",
    "columns_to_replace = [col for col in data_x2.columns if col not in columns_to_keep]\n",
    "\n",
    "# Replace the values\n",
    "data_x2[columns_to_replace] = data_x1[columns_to_replace]\n",
    "# Save the modified x2 dataset\n",
    "data_x2.to_csv('OFF_DF.csv', index=False)\n"
   ]
  },
  {
   "cell_type": "code",
   "execution_count": 61,
   "id": "b574b71d",
   "metadata": {},
   "outputs": [
    {
     "name": "stderr",
     "output_type": "stream",
     "text": [
      "JSMA: 100%|██████████████████████████████████████████████████████████████████████████| 625/625 [00:12<00:00, 48.63it/s]\n"
     ]
    },
    {
     "name": "stdout",
     "output_type": "stream",
     "text": [
      "Final Training Accuracy: 97.0344%\n",
      "Final Testing Accuracy : 2.9656%\n",
      "Classification Report :\n",
      "              precision    recall  f1-score   support\n",
      "\n",
      "         0.0       0.00      0.00      0.00         0\n",
      "         1.0       1.00      0.03      0.06     79884\n",
      "\n",
      "    accuracy                           0.03     79884\n",
      "   macro avg       0.50      0.01      0.03     79884\n",
      "weighted avg       1.00      0.03      0.06     79884\n",
      "\n"
     ]
    },
    {
     "name": "stderr",
     "output_type": "stream",
     "text": [
      "C:\\Users\\Juba\\.conda\\envs\\py3.6\\lib\\site-packages\\sklearn\\metrics\\_classification.py:1248: UndefinedMetricWarning: Recall and F-score are ill-defined and being set to 0.0 in labels with no true samples. Use `zero_division` parameter to control this behavior.\n",
      "  _warn_prf(average, modifier, msg_start, len(result))\n",
      "C:\\Users\\Juba\\.conda\\envs\\py3.6\\lib\\site-packages\\sklearn\\metrics\\_classification.py:1248: UndefinedMetricWarning: Recall and F-score are ill-defined and being set to 0.0 in labels with no true samples. Use `zero_division` parameter to control this behavior.\n",
      "  _warn_prf(average, modifier, msg_start, len(result))\n",
      "C:\\Users\\Juba\\.conda\\envs\\py3.6\\lib\\site-packages\\sklearn\\metrics\\_classification.py:1248: UndefinedMetricWarning: Recall and F-score are ill-defined and being set to 0.0 in labels with no true samples. Use `zero_division` parameter to control this behavior.\n",
      "  _warn_prf(average, modifier, msg_start, len(result))\n"
     ]
    },
    {
     "name": "stdout",
     "output_type": "stream",
     "text": [
      "Accuracy                               2.965550\n",
      "Mean perturbed features   [Mean L0]    2.021857\n",
      "Max perturbed features    [Max  L0]    4.000000\n",
      "Mean Euclidiant distance  [Mean L2]    0.127167\n",
      "Max Euclidiant distance   [Max  L2]    0.380000\n",
      "Mean Maximum perturbation [Mean Li]    0.245579\n",
      "Max Maximum perturbation  [Max  Li]    0.500000\n",
      "Name: JSMA, dtype: float64\n",
      "Invalid value range          0.000000\n",
      "Invalid binary values        0.405588\n",
      "Invalid class belonging    100.000000\n",
      "Name: JSMA, dtype: float64\n"
     ]
    }
   ],
   "source": [
    "import numpy as np\n",
    "import torch\n",
    "import pandas as pd\n",
    "\n",
    "# Assuming 'x_test', 'model', 'classifier', and 'y_test' are already defined and loaded\n",
    "# Assuming 'data' is a DataFrame containing your entire dataset (training + testing)\n",
    "\n",
    "# Calculate min and max values for each feature from the entire dataset\n",
    "feature_data = df.iloc[:, :-1]  # Adjust this to match your actual feature columns\n",
    "\n",
    "feature_min = feature_data.min()\n",
    "feature_max = feature_data.max()\n",
    "\n",
    "# Create the adversarial examples crafter\n",
    "# Creating the adversarial examples crafter\n",
    "adversarial_crafter = SaliencyMapMethod(classifier,\n",
    "                                        theta = 0.1,\n",
    "                                        gamma = 1.0,\n",
    "                                        batch_size=128)\n",
    "\n",
    "# Generate the adversarial examples\n",
    "adversarial_examples = adversarial_crafter.generate(x=x_test.cpu())\n",
    "\n",
    "# Convert adversarial examples to torch tensors\n",
    "adversarial_examples = torch.from_numpy(adversarial_examples).float()\n",
    "\n",
    "# Ensure the perturbation for each feature stays within the observed min-max range\n",
    "for i, (min_val, max_val) in enumerate(zip(feature_min, feature_max)):\n",
    "    adversarial_examples[:, i] = torch.clamp(adversarial_examples[:, i], min=min_val, max=max_val)\n",
    "\n",
    "adversarial_examples = adversarial_examples.to(torch.device('cuda' if torch.cuda.is_available() else 'cpu'))\n",
    "\n",
    "# Continue with the evaluation and processing\n",
    "stat_model(model, x_test, y_test, adversarial_examples, y_test)\n",
    "\n",
    "# Convert to CPU numpy arrays for further analysis\n",
    "adversarial_examples_cpu = np.array(adversarial_examples.cpu())\n",
    "x_test_cpu = np.array(x_test.cpu())\n",
    "\n",
    "# Evaluate the model on adversarial examples\n",
    "_, predictions_adv = model(adversarial_examples, softmax=True).max(dim=1)\n",
    "accuracy_adv = evaluate(predictions=predictions_adv.long(), real=y_test)\n",
    "attack = 'JSMA'\n",
    "adv_results[attack] = [accuracy_adv] + adv_norms(x_test_cpu, adversarial_examples_cpu)\n",
    "adv_inv[attack] = adv_criteria(x_test_cpu, adversarial_examples_cpu)\n",
    "\n",
    "# Export the adjusted adversarial examples to a CSV file\n",
    "pd.DataFrame(np.hstack((adversarial_examples_cpu, y_test.cpu().reshape(y_test.shape[0], 1))), columns=df.columns).to_csv(\"adjusted_adversarial_examples_JSMA-IIoT.csv\")\n",
    "\n",
    "print(adv_results[attack])\n",
    "print(adv_inv[attack])\n"
   ]
  },
  {
   "cell_type": "code",
   "execution_count": 62,
   "id": "15374672",
   "metadata": {},
   "outputs": [],
   "source": [
    "import pandas as pd\n",
    "\n",
    "# Load the datasets\n",
    "data_x1 = pd.read_csv('clean_examples.csv')  # Original dataset\n",
    "data_x2 = pd.read_csv('adjusted_adversarial_examples_JSMA-IIoT.csv')  # Perturbed dataset\n",
    "# List of columns to keep in x2\n",
    "columns_to_keep =['Scr_IP','Scr_port', 'Des_IP', 'Des_port','Servicewebsocket', 'Servicessh', 'Servicesmtp', 'Servicesimple_service_discovery', 'Serviceprivate', 'Serviceother', 'Servicenetbios-ns', 'Servicemysql', 'Servicemqtt', 'Servicemodbus', 'Serviceimap', 'Servicehttps', 'Servicehttp', 'Serviceecho', 'Servicedns', 'Servicedhcp', 'Servicecoap', 'Protocoludp', 'Protocoltcp', 'Protocolicmp', 'Conn_state', 'is_syn_only', 'Is_SYN_ACK', 'is_pure_ack', 'is_with_payload', 'FIN or RST', 'OSSEC_alert', 'Login_attempt', 'Succesful_login', 'File_activity', 'Process_activity', 'read_write_physical.process', 'is_privileged']\n",
    "\n",
    "# Ensure column names are consistent and exist in both dataframes\n",
    "columns_to_keep = [col for col in columns_to_keep if col in data_x2.columns and col in data_x1.columns]\n",
    "\n",
    "# Columns to replace in x2 with values from x1 (all columns not in 'columns_to_keep')\n",
    "columns_to_replace = [col for col in data_x2.columns if col not in columns_to_keep]\n",
    "\n",
    "# Replace the values\n",
    "data_x2[columns_to_replace] = data_x1[columns_to_replace]\n",
    "# Save the modified x2 dataset\n",
    "data_x2.to_csv('OFF_JSMA.csv', index=False)\n"
   ]
  },
  {
   "cell_type": "code",
   "execution_count": 63,
   "id": "c9f09620",
   "metadata": {},
   "outputs": [
    {
     "name": "stderr",
     "output_type": "stream",
     "text": [
      "C&W L_2: 100%|███████████████████████████████████████████████████████████████████████| 625/625 [21:47<00:00,  2.09s/it]\n"
     ]
    },
    {
     "name": "stdout",
     "output_type": "stream",
     "text": [
      "Final Training Accuracy: 97.0344%\n",
      "Final Testing Accuracy : 3.2197%\n",
      "Classification Report :\n",
      "              precision    recall  f1-score   support\n",
      "\n",
      "         0.0       0.00      0.00      0.00         0\n",
      "         1.0       1.00      0.03      0.06     79884\n",
      "\n",
      "    accuracy                           0.03     79884\n",
      "   macro avg       0.50      0.02      0.03     79884\n",
      "weighted avg       1.00      0.03      0.06     79884\n",
      "\n"
     ]
    },
    {
     "name": "stderr",
     "output_type": "stream",
     "text": [
      "C:\\Users\\Juba\\.conda\\envs\\py3.6\\lib\\site-packages\\sklearn\\metrics\\_classification.py:1248: UndefinedMetricWarning: Recall and F-score are ill-defined and being set to 0.0 in labels with no true samples. Use `zero_division` parameter to control this behavior.\n",
      "  _warn_prf(average, modifier, msg_start, len(result))\n",
      "C:\\Users\\Juba\\.conda\\envs\\py3.6\\lib\\site-packages\\sklearn\\metrics\\_classification.py:1248: UndefinedMetricWarning: Recall and F-score are ill-defined and being set to 0.0 in labels with no true samples. Use `zero_division` parameter to control this behavior.\n",
      "  _warn_prf(average, modifier, msg_start, len(result))\n",
      "C:\\Users\\Juba\\.conda\\envs\\py3.6\\lib\\site-packages\\sklearn\\metrics\\_classification.py:1248: UndefinedMetricWarning: Recall and F-score are ill-defined and being set to 0.0 in labels with no true samples. Use `zero_division` parameter to control this behavior.\n",
      "  _warn_prf(average, modifier, msg_start, len(result))\n"
     ]
    },
    {
     "name": "stdout",
     "output_type": "stream",
     "text": [
      "Accuracy                                3.219669\n",
      "Mean perturbed features   [Mean L0]    77.999987\n",
      "Max perturbed features    [Max  L0]    78.000000\n",
      "Mean Euclidiant distance  [Mean L2]     0.309571\n",
      "Max Euclidiant distance   [Max  L2]     2.202955\n",
      "Mean Maximum perturbation [Mean Li]     0.350274\n",
      "Max Maximum perturbation  [Max  Li]     0.895667\n",
      "Name: CW2, dtype: float64\n",
      "Invalid value range          0.0\n",
      "Invalid binary values      100.0\n",
      "Invalid class belonging    100.0\n",
      "Name: CW2, dtype: float64\n"
     ]
    }
   ],
   "source": [
    "import numpy as np\n",
    "import torch\n",
    "import pandas as pd\n",
    "\n",
    "# Assuming 'x_test', 'model', 'classifier', and 'y_test' are already defined and loaded\n",
    "# Assuming 'data' is a DataFrame containing your entire dataset (training + testing)\n",
    "\n",
    "# Calculate min and max values for each feature from the entire dataset\n",
    "feature_data = df.iloc[:, :-1]  # Adjust this to match your actual feature columns\n",
    "\n",
    "feature_min = feature_data.min()\n",
    "feature_max = feature_data.max()\n",
    "\n",
    "# Create the adversarial examples crafter\n",
    "# Creating the adversarial examples crafter\n",
    "# Creating the adversarial examples crafter\n",
    "adversarial_crafter = CarliniL2Method(classifier,\n",
    "                                      confidence=0.0,\n",
    "                                      targeted=False,\n",
    "                                      learning_rate=0.01,\n",
    "                                      binary_search_steps=10,\n",
    "                                      max_iter=10,\n",
    "                                      initial_const=0.01,\n",
    "                                      max_halving=5,\n",
    "                                      max_doubling=5,\n",
    "                                      batch_size=128)\n",
    "\n",
    "# Generate the adversarial examples\n",
    "adversarial_examples = adversarial_crafter.generate(x=x_test.cpu())\n",
    "\n",
    "# Convert adversarial examples to torch tensors\n",
    "adversarial_examples = torch.from_numpy(adversarial_examples).float()\n",
    "\n",
    "# Ensure the perturbation for each feature stays within the observed min-max range\n",
    "for i, (min_val, max_val) in enumerate(zip(feature_min, feature_max)):\n",
    "    adversarial_examples[:, i] = torch.clamp(adversarial_examples[:, i], min=min_val, max=max_val)\n",
    "\n",
    "adversarial_examples = adversarial_examples.to(torch.device('cuda' if torch.cuda.is_available() else 'cpu'))\n",
    "\n",
    "# Continue with the evaluation and processing\n",
    "stat_model(model, x_test, y_test, adversarial_examples, y_test)\n",
    "\n",
    "# Convert to CPU numpy arrays for further analysis\n",
    "adversarial_examples_cpu = np.array(adversarial_examples.cpu())\n",
    "x_test_cpu = np.array(x_test.cpu())\n",
    "\n",
    "# Evaluate the model on adversarial examples\n",
    "_, predictions_adv = model(adversarial_examples, softmax=True).max(dim=1)\n",
    "accuracy_adv = evaluate(predictions=predictions_adv.long(), real=y_test)\n",
    "attack = 'CW2'\n",
    "adv_results[attack] = [accuracy_adv] + adv_norms(x_test_cpu, adversarial_examples_cpu)\n",
    "adv_inv[attack] = adv_criteria(x_test_cpu, adversarial_examples_cpu)\n",
    "\n",
    "# Export the adjusted adversarial examples to a CSV file\n",
    "pd.DataFrame(np.hstack((adversarial_examples_cpu, y_test.cpu().reshape(y_test.shape[0], 1))), columns=df.columns).to_csv(\"adjusted_adversarial_examples_CW2-IIoT.csv\")\n",
    "\n",
    "print(adv_results[attack])\n",
    "print(adv_inv[attack])\n"
   ]
  },
  {
   "cell_type": "code",
   "execution_count": 64,
   "id": "3ae322ca",
   "metadata": {},
   "outputs": [],
   "source": [
    "import pandas as pd\n",
    "\n",
    "# Load the datasets\n",
    "data_x1 = pd.read_csv('clean_examples.csv')  # Original dataset\n",
    "data_x2 = pd.read_csv('adjusted_adversarial_examples_CW2-IIoT.csv')  # Perturbed dataset\n",
    "# List of columns to keep in x2\n",
    "columns_to_keep =['Scr_IP','Scr_port', 'Des_IP', 'Des_port','Servicewebsocket', 'Servicessh', 'Servicesmtp', 'Servicesimple_service_discovery', 'Serviceprivate', 'Serviceother', 'Servicenetbios-ns', 'Servicemysql', 'Servicemqtt', 'Servicemodbus', 'Serviceimap', 'Servicehttps', 'Servicehttp', 'Serviceecho', 'Servicedns', 'Servicedhcp', 'Servicecoap', 'Protocoludp', 'Protocoltcp', 'Protocolicmp', 'Conn_state', 'is_syn_only', 'Is_SYN_ACK', 'is_pure_ack', 'is_with_payload', 'FIN or RST', 'OSSEC_alert', 'Login_attempt', 'Succesful_login', 'File_activity', 'Process_activity', 'read_write_physical.process', 'is_privileged']\n",
    "\n",
    "# Ensure column names are consistent and exist in both dataframes\n",
    "columns_to_keep = [col for col in columns_to_keep if col in data_x2.columns and col in data_x1.columns]\n",
    "\n",
    "# Columns to replace in x2 with values from x1 (all columns not in 'columns_to_keep')\n",
    "columns_to_replace = [col for col in data_x2.columns if col not in columns_to_keep]\n",
    "\n",
    "# Replace the values\n",
    "data_x2[columns_to_replace] = data_x1[columns_to_replace]\n",
    "# Save the modified x2 dataset\n",
    "data_x2.to_csv('OFF_CW2.csv', index=False)\n"
   ]
  },
  {
   "cell_type": "code",
   "execution_count": 65,
   "id": "9422430e",
   "metadata": {},
   "outputs": [
    {
     "name": "stderr",
     "output_type": "stream",
     "text": [
      "C&W L_inf: 100%|█████████████████████████████████████████████████████████████████████| 625/625 [01:45<00:00,  5.95it/s]\n"
     ]
    },
    {
     "name": "stdout",
     "output_type": "stream",
     "text": [
      "Final Training Accuracy: 97.0344%\n",
      "Final Testing Accuracy : 3.1646%\n",
      "Classification Report :\n",
      "              precision    recall  f1-score   support\n",
      "\n",
      "         0.0       0.00      0.00      0.00         0\n",
      "         1.0       1.00      0.03      0.06     79884\n",
      "\n",
      "    accuracy                           0.03     79884\n",
      "   macro avg       0.50      0.02      0.03     79884\n",
      "weighted avg       1.00      0.03      0.06     79884\n",
      "\n"
     ]
    },
    {
     "name": "stderr",
     "output_type": "stream",
     "text": [
      "C:\\Users\\Juba\\.conda\\envs\\py3.6\\lib\\site-packages\\sklearn\\metrics\\_classification.py:1248: UndefinedMetricWarning: Recall and F-score are ill-defined and being set to 0.0 in labels with no true samples. Use `zero_division` parameter to control this behavior.\n",
      "  _warn_prf(average, modifier, msg_start, len(result))\n",
      "C:\\Users\\Juba\\.conda\\envs\\py3.6\\lib\\site-packages\\sklearn\\metrics\\_classification.py:1248: UndefinedMetricWarning: Recall and F-score are ill-defined and being set to 0.0 in labels with no true samples. Use `zero_division` parameter to control this behavior.\n",
      "  _warn_prf(average, modifier, msg_start, len(result))\n",
      "C:\\Users\\Juba\\.conda\\envs\\py3.6\\lib\\site-packages\\sklearn\\metrics\\_classification.py:1248: UndefinedMetricWarning: Recall and F-score are ill-defined and being set to 0.0 in labels with no true samples. Use `zero_division` parameter to control this behavior.\n",
      "  _warn_prf(average, modifier, msg_start, len(result))\n"
     ]
    },
    {
     "name": "stdout",
     "output_type": "stream",
     "text": [
      "Accuracy                                3.164589\n",
      "Mean perturbed features   [Mean L0]    77.694632\n",
      "Max perturbed features    [Max  L0]    78.000000\n",
      "Mean Euclidiant distance  [Mean L2]     0.226900\n",
      "Max Euclidiant distance   [Max  L2]     0.496392\n",
      "Mean Maximum perturbation [Mean Li]     0.098768\n",
      "Max Maximum perturbation  [Max  Li]     0.100000\n",
      "Name: CWinf, dtype: float64\n",
      "Invalid value range          0.000000\n",
      "Invalid binary values       99.788443\n",
      "Invalid class belonging    100.000000\n",
      "Name: CWinf, dtype: float64\n"
     ]
    }
   ],
   "source": [
    "import numpy as np\n",
    "import torch\n",
    "import pandas as pd\n",
    "\n",
    "# Assuming 'x_test', 'model', 'classifier', and 'y_test' are already defined and loaded\n",
    "# Assuming 'data' is a DataFrame containing your entire dataset (training + testing)\n",
    "\n",
    "# Calculate min and max values for each feature from the entire dataset\n",
    "feature_data = df.iloc[:, :-1]  # Adjust this to match your actual feature columns\n",
    "\n",
    "feature_min = feature_data.min()\n",
    "feature_max = feature_data.max()\n",
    "\n",
    "# Create the adversarial examples crafter\n",
    "# Creating the adversarial examples crafter\n",
    "# Creating the adversarial examples crafter\n",
    "adversarial_crafter = CarliniLInfMethod(classifier,\n",
    "                                        confidence=0.0,\n",
    "                                        targeted=False,\n",
    "                                        learning_rate=0.01,\n",
    "                                        max_iter=10,\n",
    "                                        max_halving=5,\n",
    "                                        max_doubling=5,\n",
    "                                        eps=0.1,\n",
    "                                        batch_size=128)\n",
    "\n",
    "# Generate the adversarial examples\n",
    "adversarial_examples = adversarial_crafter.generate(x=x_test.cpu())\n",
    "\n",
    "# Convert adversarial examples to torch tensors\n",
    "adversarial_examples = torch.from_numpy(adversarial_examples).float()\n",
    "\n",
    "# Ensure the perturbation for each feature stays within the observed min-max range\n",
    "for i, (min_val, max_val) in enumerate(zip(feature_min, feature_max)):\n",
    "    adversarial_examples[:, i] = torch.clamp(adversarial_examples[:, i], min=min_val, max=max_val)\n",
    "\n",
    "adversarial_examples = adversarial_examples.to(torch.device('cuda' if torch.cuda.is_available() else 'cpu'))\n",
    "\n",
    "# Continue with the evaluation and processing\n",
    "stat_model(model, x_test, y_test, adversarial_examples, y_test)\n",
    "\n",
    "# Convert to CPU numpy arrays for further analysis\n",
    "adversarial_examples_cpu = np.array(adversarial_examples.cpu())\n",
    "x_test_cpu = np.array(x_test.cpu())\n",
    "\n",
    "# Evaluate the model on adversarial examples\n",
    "_, predictions_adv = model(adversarial_examples, softmax=True).max(dim=1)\n",
    "accuracy_adv = evaluate(predictions=predictions_adv.long(), real=y_test)\n",
    "attack = 'CWinf'\n",
    "adv_results[attack] = [accuracy_adv] + adv_norms(x_test_cpu, adversarial_examples_cpu)\n",
    "adv_inv[attack] = adv_criteria(x_test_cpu, adversarial_examples_cpu)\n",
    "\n",
    "# Export the adjusted adversarial examples to a CSV file\n",
    "pd.DataFrame(np.hstack((adversarial_examples_cpu, y_test.cpu().reshape(y_test.shape[0], 1))), columns=df.columns).to_csv(\"adjusted_adversarial_examples_CWinf-IIoT.csv\")\n",
    "\n",
    "print(adv_results[attack])\n",
    "print(adv_inv[attack])\n"
   ]
  },
  {
   "cell_type": "code",
   "execution_count": 66,
   "id": "cbee8c8f",
   "metadata": {},
   "outputs": [],
   "source": [
    "import pandas as pd\n",
    "\n",
    "# Load the datasets\n",
    "data_x1 = pd.read_csv('clean_examples.csv')  # Original dataset\n",
    "data_x2 = pd.read_csv('adjusted_adversarial_examples_CWinf-IIoT.csv')  # Perturbed dataset\n",
    "# List of columns to keep in x2\n",
    "columns_to_keep =['Scr_IP','Scr_port', 'Des_IP', 'Des_port','Servicewebsocket', 'Servicessh', 'Servicesmtp', 'Servicesimple_service_discovery', 'Serviceprivate', 'Serviceother', 'Servicenetbios-ns', 'Servicemysql', 'Servicemqtt', 'Servicemodbus', 'Serviceimap', 'Servicehttps', 'Servicehttp', 'Serviceecho', 'Servicedns', 'Servicedhcp', 'Servicecoap', 'Protocoludp', 'Protocoltcp', 'Protocolicmp', 'Conn_state', 'is_syn_only', 'Is_SYN_ACK', 'is_pure_ack', 'is_with_payload', 'FIN or RST', 'OSSEC_alert', 'Login_attempt', 'Succesful_login', 'File_activity', 'Process_activity', 'read_write_physical.process', 'is_privileged']\n",
    "\n",
    "# Ensure column names are consistent and exist in both dataframes\n",
    "columns_to_keep = [col for col in columns_to_keep if col in data_x2.columns and col in data_x1.columns]\n",
    "\n",
    "# Columns to replace in x2 with values from x1 (all columns not in 'columns_to_keep')\n",
    "columns_to_replace = [col for col in data_x2.columns if col not in columns_to_keep]\n",
    "\n",
    "# Replace the values\n",
    "data_x2[columns_to_replace] = data_x1[columns_to_replace]\n",
    "# Save the modified x2 dataset\n",
    "data_x2.to_csv('OFF_CWinf.csv', index=False)\n"
   ]
  },
  {
   "cell_type": "code",
   "execution_count": 68,
   "id": "2a0f0a96",
   "metadata": {},
   "outputs": [],
   "source": [
    "df_training.to_csv('df_training.csv', index=False)"
   ]
  },
  {
   "cell_type": "code",
   "execution_count": 69,
   "id": "2589f38b",
   "metadata": {},
   "outputs": [],
   "source": [
    "df_testing.to_csv('df_testing.csv', index=False)"
   ]
  },
  {
   "cell_type": "code",
   "execution_count": null,
   "id": "447edc81",
   "metadata": {},
   "outputs": [],
   "source": []
  },
  {
   "cell_type": "code",
   "execution_count": null,
   "id": "ab93ccf6",
   "metadata": {},
   "outputs": [],
   "source": []
  }
 ],
 "metadata": {
  "kernelspec": {
   "display_name": "Python 3 (ipykernel)",
   "language": "python",
   "name": "python3"
  },
  "language_info": {
   "codemirror_mode": {
    "name": "ipython",
    "version": 3
   },
   "file_extension": ".py",
   "mimetype": "text/x-python",
   "name": "python",
   "nbconvert_exporter": "python",
   "pygments_lexer": "ipython3",
   "version": "3.6.13"
  }
 },
 "nbformat": 4,
 "nbformat_minor": 5
}
