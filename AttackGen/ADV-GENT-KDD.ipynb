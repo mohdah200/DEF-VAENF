{
 "cells": [
  {
   "cell_type": "code",
   "execution_count": 2,
   "id": "71ccf438",
   "metadata": {},
   "outputs": [],
   "source": [
    "import pandas as pd\n",
    "import numpy as np\n",
    "\n",
    "missing_values = [\"n/a\", \"na\", \"Infinity\", \"NaN\",\"nan\",\"-\",\"excel\",\"?\",\"#DIV/0!\",\"aza\"]\n",
    "\n",
    "df_testing = pd.read_csv(\"test-KDD.csv\", na_values = missing_values, engine='python', skipinitialspace=True)\n",
    "df_training = pd.read_csv(\"train-KDD.csv\", na_values = missing_values, engine='python', skipinitialspace=True)\n",
    "\n",
    "''' \n",
    "columns_to_drop = [ 'Bad_checksum', 'is_SYN_with_RST']\n",
    "df_testing = df_testing.drop(columns_to_drop, axis=1)\n",
    "df_training = df_training.drop(columns_to_drop, axis=1)\n",
    "'''\n",
    "\n",
    "df_training=df_training.fillna(df_training.median())\n",
    "df_testing=df_testing.fillna(df_testing.median())\n",
    "\n",
    "data = pd.concat([df_training, df_testing], axis=0) "
   ]
  },
  {
   "cell_type": "code",
   "execution_count": 1,
   "id": "7640fdf4",
   "metadata": {},
   "outputs": [
    {
     "name": "stdout",
     "output_type": "stream",
     "text": [
      "C:\\adversarial_analysis-master\\Investigating_the_Practicality_of_Adversarial_Evasion_Attacks_on_Network_Intrusion_Detection\\NSL-KDD\n"
     ]
    }
   ],
   "source": [
    "cd C:\\adversarial_analysis-master\\Investigating_the_Practicality_of_Adversarial_Evasion_Attacks_on_Network_Intrusion_Detection\\NSL-KDD"
   ]
  },
  {
   "cell_type": "code",
   "execution_count": 29,
   "id": "63686547",
   "metadata": {},
   "outputs": [
    {
     "name": "stdout",
     "output_type": "stream",
     "text": [
      "Indices of binary columns: [1, 2, 3, 4, 5, 6, 7, 8, 9, 10, 11, 12, 13, 14, 15, 16, 17, 18, 19, 20, 21, 22, 23, 24, 25, 26, 27, 28, 29, 30, 31, 32, 33, 34, 35, 36, 37, 38, 39, 40, 41, 42, 43, 44, 45, 46, 47, 48, 49, 50, 51, 52, 53, 54, 55, 56, 57, 58, 59, 60, 61, 62, 63, 64, 65, 66, 67, 68, 69, 70, 71, 72, 73, 74, 75, 76, 77, 78, 79, 80, 81, 82, 83, 84, 87, 92, 94, 100, 101, 121]\n"
     ]
    }
   ],
   "source": [
    "import pandas as pd\n",
    "\n",
    "# Assuming 'data' is your DataFrame\n",
    "\n",
    "# Initialize an empty list to store indices of binary columns\n",
    "binary_column_indices = []\n",
    "\n",
    "# Iterate through each column and check for binary features\n",
    "for index, column in enumerate(data.columns):\n",
    "    if data[column].nunique() == 2:\n",
    "        # Add the index to the list instead of printing it\n",
    "        binary_column_indices.append(index)\n",
    "\n",
    "# Now 'binary_column_indices' contains the indices of all binary columns\n",
    "print(\"Indices of binary columns:\", binary_column_indices)\n"
   ]
  },
  {
   "cell_type": "code",
   "execution_count": 28,
   "id": "633efa5b",
   "metadata": {},
   "outputs": [
    {
     "name": "stdout",
     "output_type": "stream",
     "text": [
      "Column '2 Protocol-type : udp' at index 1 is binary.\n",
      "Column '2 Protocol-type : tcp' at index 2 is binary.\n",
      "Column '2 Protocol-type : icmp' at index 3 is binary.\n",
      "Column '3 Service : whois' at index 4 is binary.\n",
      "Column '3 Service : vmnet' at index 5 is binary.\n",
      "Column '3 Service : uucp_path' at index 6 is binary.\n",
      "Column '3 Service : uucp' at index 7 is binary.\n",
      "Column '3 Service : urp_i' at index 8 is binary.\n",
      "Column '3 Service : urh_i' at index 9 is binary.\n",
      "Column '3 Service : time' at index 10 is binary.\n",
      "Column '3 Service : tim_i' at index 11 is binary.\n",
      "Column '3 Service : tftp_u' at index 12 is binary.\n",
      "Column '3 Service : telnet' at index 13 is binary.\n",
      "Column '3 Service : systat' at index 14 is binary.\n",
      "Column '3 Service : supdup' at index 15 is binary.\n",
      "Column '3 Service : sunrpc' at index 16 is binary.\n",
      "Column '3 Service : ssh' at index 17 is binary.\n",
      "Column '3 Service : sql_net' at index 18 is binary.\n",
      "Column '3 Service : smtp' at index 19 is binary.\n",
      "Column '3 Service : shell' at index 20 is binary.\n",
      "Column '3 Service : rje' at index 21 is binary.\n",
      "Column '3 Service : remote_job' at index 22 is binary.\n",
      "Column '3 Service : red_i' at index 23 is binary.\n",
      "Column '3 Service : private' at index 24 is binary.\n",
      "Column '3 Service : printer' at index 25 is binary.\n",
      "Column '3 Service : pop_3' at index 26 is binary.\n",
      "Column '3 Service : pop_2' at index 27 is binary.\n",
      "Column '3 Service : pm_dump' at index 28 is binary.\n",
      "Column '3 Service : other' at index 29 is binary.\n",
      "Column '3 Service : ntp_u' at index 30 is binary.\n",
      "Column '3 Service : nntp' at index 31 is binary.\n",
      "Column '3 Service : nnsp' at index 32 is binary.\n",
      "Column '3 Service : netstat' at index 33 is binary.\n",
      "Column '3 Service : netbios_ssn' at index 34 is binary.\n",
      "Column '3 Service : netbios_ns' at index 35 is binary.\n",
      "Column '3 Service : netbios_dgm' at index 36 is binary.\n",
      "Column '3 Service : name' at index 37 is binary.\n",
      "Column '3 Service : mtp' at index 38 is binary.\n",
      "Column '3 Service : login' at index 39 is binary.\n",
      "Column '3 Service : link' at index 40 is binary.\n",
      "Column '3 Service : ldap' at index 41 is binary.\n",
      "Column '3 Service : kshell' at index 42 is binary.\n",
      "Column '3 Service : klogin' at index 43 is binary.\n",
      "Column '3 Service : iso_tsap' at index 44 is binary.\n",
      "Column '3 Service : imap4' at index 45 is binary.\n",
      "Column '3 Service : http_8001' at index 46 is binary.\n",
      "Column '3 Service : http_443' at index 47 is binary.\n",
      "Column '3 Service : http_2784' at index 48 is binary.\n",
      "Column '3 Service : http' at index 49 is binary.\n",
      "Column '3 Service : hostnames' at index 50 is binary.\n",
      "Column '3 Service : harvest' at index 51 is binary.\n",
      "Column '3 Service : gopher' at index 52 is binary.\n",
      "Column '3 Service : ftp_data' at index 53 is binary.\n",
      "Column '3 Service : ftp' at index 54 is binary.\n",
      "Column '3 Service : finger' at index 55 is binary.\n",
      "Column '3 Service : exec' at index 56 is binary.\n",
      "Column '3 Service : efs' at index 57 is binary.\n",
      "Column '3 Service : ecr_i' at index 58 is binary.\n",
      "Column '3 Service : eco_i' at index 59 is binary.\n",
      "Column '3 Service : echo' at index 60 is binary.\n",
      "Column '3 Service : domain_u' at index 61 is binary.\n",
      "Column '3 Service : domain' at index 62 is binary.\n",
      "Column '3 Service : discard' at index 63 is binary.\n",
      "Column '3 Service : daytime' at index 64 is binary.\n",
      "Column '3 Service : ctf' at index 65 is binary.\n",
      "Column '3 Service : csnet_ns' at index 66 is binary.\n",
      "Column '3 Service : courier' at index 67 is binary.\n",
      "Column '3 Service : bgp' at index 68 is binary.\n",
      "Column '3 Service : auth' at index 69 is binary.\n",
      "Column '3 Service : aol' at index 70 is binary.\n",
      "Column '3 Service : Z39_50' at index 71 is binary.\n",
      "Column '3 Service : X11' at index 72 is binary.\n",
      "Column '3 Service : IRC' at index 73 is binary.\n",
      "Column '4 Flag : SH' at index 74 is binary.\n",
      "Column '4 Flag : SF' at index 75 is binary.\n",
      "Column '4 Flag : S3' at index 76 is binary.\n",
      "Column '4 Flag : S2' at index 77 is binary.\n",
      "Column '4 Flag : S1' at index 78 is binary.\n",
      "Column '4 Flag : S0' at index 79 is binary.\n",
      "Column '4 Flag : RSTR' at index 80 is binary.\n",
      "Column '4 Flag : RSTOS0' at index 81 is binary.\n",
      "Column '4 Flag : RSTO' at index 82 is binary.\n",
      "Column '4 Flag : REJ' at index 83 is binary.\n",
      "Column '4 Flag : OTH' at index 84 is binary.\n",
      "Column '7 Land' at index 87 is binary.\n",
      "Column '12 Logged-in' at index 92 is binary.\n",
      "Column '14 Root-shell' at index 94 is binary.\n",
      "Column '21 Is-host-login' at index 100 is binary.\n",
      "Column '22 Is-guest-login' at index 101 is binary.\n",
      "Column '42 Labels' at index 121 is binary.\n"
     ]
    }
   ],
   "source": [
    "# Iterate through each column and check for binary features\n",
    "for index, column in enumerate(data.columns):\n",
    "    if data[column].nunique() == 2:\n",
    "        print(f\"Column '{column}' at index {index} is binary.\")"
   ]
  },
  {
   "cell_type": "code",
   "execution_count": 39,
   "id": "545321fb",
   "metadata": {},
   "outputs": [
    {
     "name": "stdout",
     "output_type": "stream",
     "text": [
      "1 Duration\n",
      "5 Src-bytes\n",
      "6 Dst-bytes\n",
      "8 Wrong-fragment\n",
      "9 Urgent\n",
      "10 Hot\n",
      "11 Num-failed-logins\n",
      "13 Num-compromised\n",
      "15 Su-attempted\n",
      "16 Num-root\n",
      "17 Num-file-creations\n",
      "18 Num-shells\n",
      "19 Num-access-files\n",
      "23 Count\n",
      "24 Srv-count\n",
      "25 Serror-rate\n",
      "26 Srv-serror-rate\n",
      "27 Rerror-rate\n",
      "28 Srv-rerror-rate\n",
      "29 Same-srv-rate\n",
      "30 Diff-srv-rate\n",
      "31 Srv-diff-host-rate\n",
      "32 Dst-host-count\n",
      "33 Dst-host-srv-count\n",
      "34 Dst-host-same-srv-rate\n",
      "35 Dst-host-diff-srv-rate\n",
      "36 Dst-host-same-src-port-rate\n",
      "37 Dst-host-srv-diff-host-rate\n",
      "38 Dst-host-serror-rate\n",
      "39 Dst-host-srv-serror-rate\n",
      "40 Dst-host-rerror-rate\n",
      "41 Dst-host-srv-rerror-rate\n"
     ]
    }
   ],
   "source": [
    "# Iterate through each column and check for non-binary features\n",
    "for index, column in enumerate(data.columns):\n",
    "    if data[column].nunique() > 2:\n",
    "        print(column)\n"
   ]
  },
  {
   "cell_type": "code",
   "execution_count": 37,
   "id": "2c58156f",
   "metadata": {},
   "outputs": [
    {
     "name": "stdout",
     "output_type": "stream",
     "text": [
      "Indices of non-binary columns: [0, 85, 86, 88, 89, 90, 91, 93, 95, 96, 97, 98, 99, 102, 103, 104, 105, 106, 107, 108, 109, 110, 111, 112, 113, 114, 115, 116, 117, 118, 119, 120]\n"
     ]
    }
   ],
   "source": [
    "# Initialize an empty list to store indices of non-binary columns\n",
    "non_binary_column_indices = []\n",
    "\n",
    "# Iterate through each column and check for non-binary features\n",
    "for index, column in enumerate(data.columns):\n",
    "    if data[column].nunique() > 2:\n",
    "        # Add the index to the list instead of printing it\n",
    "        non_binary_column_indices.append(index)\n",
    "\n",
    "# Now 'non_binary_column_indices' contains the indices of all non-binary columns\n",
    "print(\"Indices of non-binary columns:\", non_binary_column_indices)\n"
   ]
  },
  {
   "cell_type": "code",
   "execution_count": 4,
   "id": "1791a2b5",
   "metadata": {},
   "outputs": [
    {
     "name": "stderr",
     "output_type": "stream",
     "text": [
      "C:\\Users\\Juba\\.conda\\envs\\py3.6\\lib\\site-packages\\tqdm\\auto.py:22: TqdmWarning: IProgress not found. Please update jupyter and ipywidgets. See https://ipywidgets.readthedocs.io/en/stable/user_install.html\n",
      "  from .autonotebook import tqdm as notebook_tqdm\n",
      "C:\\Users\\Juba\\.conda\\envs\\py3.6\\lib\\site-packages\\ipykernel_launcher.py:21: DeprecationWarning: The module art.classifiers will be removed in ART 1.8.0 and replaced with art.estimators.classification\n"
     ]
    }
   ],
   "source": [
    "import numpy as np\n",
    "import pandas as pd\n",
    "import matplotlib.pyplot as plt\n",
    "import seaborn as sb\n",
    "import copy\n",
    "import time as time\n",
    "\n",
    "import torch\n",
    "import torch.nn as nn\n",
    "import torch.nn.functional as F\n",
    "import torch.optim as optim\n",
    "\n",
    "from sklearn.metrics import classification_report\n",
    "from sklearn.decomposition import PCA\n",
    "from sklearn.feature_selection import chi2\n",
    "\n",
    "#!pip install adversarial-robustness-toolbox >/dev/null\n",
    "import os,sys\n",
    "sys.path.append(os.path.dirname('../adversarial-robustness-toolbox/'))\n",
    "from art.attacks.evasion import FastGradientMethod, BasicIterativeMethod, DeepFool, SaliencyMapMethod, CarliniL2Method, CarliniLInfMethod, CarliniL0Method\n",
    "from art.classifiers import PyTorchClassifier\n",
    "\n",
    "%matplotlib inline\n",
    "\n",
    "pd.options.display.max_columns = 200\n",
    "pd.options.display.max_rows = 200"
   ]
  },
  {
   "cell_type": "code",
   "execution_count": 5,
   "id": "563b55d8",
   "metadata": {},
   "outputs": [
    {
     "data": {
      "text/plain": [
       "0"
      ]
     },
     "execution_count": 5,
     "metadata": {},
     "output_type": "execute_result"
    }
   ],
   "source": [
    "data.isnull().sum().sum()"
   ]
  },
  {
   "cell_type": "code",
   "execution_count": 6,
   "id": "0370daed",
   "metadata": {},
   "outputs": [
    {
     "data": {
      "text/plain": [
       "'C:\\\\adversarial_analysis-master\\\\Investigating_the_Practicality_of_Adversarial_Evasion_Attacks_on_Network_Intrusion_Detection\\\\NSL-KDD'"
      ]
     },
     "execution_count": 6,
     "metadata": {},
     "output_type": "execute_result"
    }
   ],
   "source": [
    "pwd"
   ]
  },
  {
   "cell_type": "code",
   "execution_count": 7,
   "id": "6c83e573",
   "metadata": {},
   "outputs": [
    {
     "data": {
      "text/plain": [
       "Index(['1 Duration', '2 Protocol-type : udp', '2 Protocol-type : tcp',\n",
       "       '2 Protocol-type : icmp', '3 Service : whois', '3 Service : vmnet',\n",
       "       '3 Service : uucp_path', '3 Service : uucp', '3 Service : urp_i',\n",
       "       '3 Service : urh_i',\n",
       "       ...\n",
       "       '33 Dst-host-srv-count', '34 Dst-host-same-srv-rate',\n",
       "       '35 Dst-host-diff-srv-rate', '36 Dst-host-same-src-port-rate',\n",
       "       '37 Dst-host-srv-diff-host-rate', '38 Dst-host-serror-rate',\n",
       "       '39 Dst-host-srv-serror-rate', '40 Dst-host-rerror-rate',\n",
       "       '41 Dst-host-srv-rerror-rate', '42 Labels'],\n",
       "      dtype='object', length=122)"
      ]
     },
     "execution_count": 7,
     "metadata": {},
     "output_type": "execute_result"
    }
   ],
   "source": [
    "df_testing.columns\n"
   ]
  },
  {
   "cell_type": "code",
   "execution_count": 8,
   "id": "9c9947be",
   "metadata": {},
   "outputs": [],
   "source": [
    "#df_training['Scr_IP'].head"
   ]
  },
  {
   "cell_type": "code",
   "execution_count": null,
   "id": "78026782",
   "metadata": {},
   "outputs": [],
   "source": []
  },
  {
   "cell_type": "code",
   "execution_count": 9,
   "id": "98f60063",
   "metadata": {},
   "outputs": [],
   "source": [
    "import numpy as np\n",
    "import pandas as pd\n",
    "import matplotlib.pyplot as plt\n",
    "import seaborn as sb\n",
    "import copy\n",
    "import time as time\n",
    "import seaborn as sns\n",
    "import torch\n",
    "import torch.nn as nn\n",
    "import torch.nn.functional as F\n",
    "import torch.optim as optim\n",
    "\n",
    "from sklearn.metrics import classification_report\n",
    "from sklearn.decomposition import PCA\n",
    "from sklearn.feature_selection import chi2\n",
    "\n",
    "#!pip install adversarial-robustness-toolbox >/dev/null\n",
    "import os,sys\n",
    "sys.path.append(os.path.dirname('../adversarial-robustness-toolbox/'))\n",
    "from art.attacks.evasion import ZooAttack,ElasticNet,FastGradientMethod, BasicIterativeMethod, DeepFool, SaliencyMapMethod, CarliniL2Method, CarliniLInfMethod, CarliniL0Method\n",
    "from art.classifiers import PyTorchClassifier\n",
    "\n",
    "%matplotlib inline\n",
    "\n",
    "pd.options.display.max_columns = 200\n",
    "pd.options.display.max_rows = 200"
   ]
  },
  {
   "cell_type": "code",
   "execution_count": 10,
   "id": "9b6f14ad",
   "metadata": {},
   "outputs": [],
   "source": [
    "min = data[:df_training.shape[0]].min()\n",
    "max = data[:df_training.shape[0]].max()\n",
    "\n",
    "for i in df_testing.columns:\n",
    "    # The min and max are computed on the training set\n",
    "    data[i] = (data[i] - min[i]) / (max[i] - min[i])"
   ]
  },
  {
   "cell_type": "code",
   "execution_count": 11,
   "id": "2b1a31ef",
   "metadata": {},
   "outputs": [],
   "source": [
    "# Split training and testing sets\n",
    "df_training = data[:df_training.shape[0]]    \n",
    "df_testing = data[df_training.shape[0]:]"
   ]
  },
  {
   "cell_type": "code",
   "execution_count": 12,
   "id": "19bf416b",
   "metadata": {},
   "outputs": [],
   "source": [
    "# Get NumPy arrays from DataFrames\n",
    "nd_training = df_training.values\n",
    "nd_testing = df_testing.values"
   ]
  },
  {
   "cell_type": "code",
   "execution_count": 13,
   "id": "097893e2",
   "metadata": {},
   "outputs": [],
   "source": [
    "# Separating arguments (x) from lables (y)\n",
    "x_train = nd_training[:, :-1]\n",
    "y_train = nd_training[:, -1]\n",
    "x_test = nd_testing[:, :-1]\n",
    "y_test = nd_testing[:, -1]"
   ]
  },
  {
   "cell_type": "code",
   "execution_count": 14,
   "id": "1d3724e4",
   "metadata": {},
   "outputs": [],
   "source": [
    "# Make a copy of the data set as NumPy arrays\n",
    "x_train_np = x_train.copy()\n",
    "y_train_np = y_train.copy()\n",
    "x_test_np = x_test.copy()\n",
    "y_test_np = y_test.copy()"
   ]
  },
  {
   "cell_type": "code",
   "execution_count": 15,
   "id": "f7c941f1",
   "metadata": {},
   "outputs": [],
   "source": [
    "import os,sys\n",
    "sys.path.append(os.path.dirname('../adversarial-robustness-toolbox/'))\n",
    "from art.attacks.evasion import FastGradientMethod, BasicIterativeMethod, DeepFool, SaliencyMapMethod, CarliniL2Method, CarliniLInfMethod, CarliniL0Method\n",
    "from art.classifiers import PyTorchClassifier\n"
   ]
  },
  {
   "cell_type": "code",
   "execution_count": 16,
   "id": "8979cf34",
   "metadata": {},
   "outputs": [],
   "source": [
    "# Convert from numpy array to torch tensors\n",
    "x_train = torch.from_numpy(x_train).float()\n",
    "y_train = torch.from_numpy(y_train).long()\n",
    "x_test = torch.from_numpy(x_test).float()\n",
    "y_test = torch.from_numpy(y_test).long()"
   ]
  },
  {
   "cell_type": "code",
   "execution_count": 17,
   "id": "49b0b1c8",
   "metadata": {},
   "outputs": [],
   "source": [
    "class Network(nn.Module):\n",
    "    def __init__(self, input_size, hidden_size, output_size):\n",
    "        super().__init__()\n",
    "        self.fc1 = nn.Linear(input_size, hidden_size[0])\n",
    "        self.fc2 = nn.Linear(hidden_size[0], hidden_size[1])\n",
    "        self.fc3 = nn.Linear(hidden_size[1], output_size)\n",
    "\n",
    "    def forward(self, x, softmax=False): \n",
    "        a = self.fc3(F.relu(self.fc2(F.relu(self.fc1(x.float())))))\n",
    "        if softmax:\n",
    "            y_pred = F.softmax(a, dim=1)\n",
    "        else:\n",
    "            y_pred = a\n",
    "\n",
    "        return y_pred"
   ]
  },
  {
   "cell_type": "code",
   "execution_count": 18,
   "id": "ca1c2882",
   "metadata": {},
   "outputs": [],
   "source": [
    "def evaluate(predictions, real):\n",
    "    n_correct = torch.eq(predictions, real).sum().item()\n",
    "    accuracy = n_correct / len(predictions)\n",
    "    return accuracy * 100"
   ]
  },
  {
   "cell_type": "code",
   "execution_count": 19,
   "id": "54fd962b",
   "metadata": {},
   "outputs": [],
   "source": [
    "def stat_model(model, x_train, y_train, x_test, y_test):\n",
    "    _, predictions_train = model(x_train, softmax=True).max(dim=1)\n",
    "    accuracy_train = evaluate(predictions=predictions_train.long(), real=y_train)\n",
    "\n",
    "    _, predictions_test = model(x_test, softmax=True).max(dim=1)\n",
    "    accuracy_test = evaluate(predictions=predictions_test.long(), real=y_test)\n",
    "    \n",
    "    print(\"Final Training Accuracy: {0:.4f}%\\nFinal Testing Accuracy : {1:.4f}%\"\n",
    "          .format(accuracy_train, accuracy_test))\n",
    "    # Move the tensors back to CPU\n",
    "    label_test_final = y_test.cpu().numpy()\n",
    "    predictions_test_final = predictions_test.cpu().numpy()\n",
    "    report = classification_report(label_test_final, predictions_test_final)\n",
    "    print(\"Classification Report :\")\n",
    "    print(report)"
   ]
  },
  {
   "cell_type": "code",
   "execution_count": 20,
   "id": "64df2782",
   "metadata": {},
   "outputs": [
    {
     "name": "stdout",
     "output_type": "stream",
     "text": [
      "Training on : cpu\n",
      "epoch:    0 | loss: 0.6862 | Train accuracy: 53.4281% | Test accuracy: 43.0625% [43.0625%] | Running for : 0m 1s\n",
      "epoch:  100 | loss: 0.0154 | Train accuracy: 99.4650% | Test accuracy: 79.5023% [80.4959%] | Running for : 1m 58s\n",
      "Training complete in 1m 59s\n"
     ]
    }
   ],
   "source": [
    "# Initialising the model\n",
    "input_size=x_train.shape[1]\n",
    "hidden_size=[256,256]\n",
    "output_size=2\n",
    "model = Network(input_size, hidden_size, output_size)\n",
    "\n",
    "# Setting device\n",
    "device = torch.device('cuda' if torch.cuda.is_available() else 'cpu')\n",
    "print(\"Training on : {}\".format(device))\n",
    "\n",
    "# Transfering model and data to GPU\n",
    "model = model.to(device)\n",
    "x_train = x_train.to(device)\n",
    "y_train = y_train.to(device)\n",
    "x_test = x_test.to(device)\n",
    "y_test = y_test.to(device)\n",
    "\n",
    "# Setting the Loss function and Adam learning rate\n",
    "criterion = nn.CrossEntropyLoss()\n",
    "lr = 0.01\n",
    "optimizer = optim.Adam(model.parameters(), lr=lr)\n",
    "\n",
    "# Variables to store the best performences (weights and accuracy)\n",
    "best_model_weights = copy.deepcopy(model.state_dict())\n",
    "best_accuracy = 0.0\n",
    "\n",
    "# DataFrame for the learning curve plot\n",
    "trace = pd.DataFrame(columns=['epoch', 'train_acc', 'test_acc'])\n",
    "# Iterrating on the dataset\n",
    "since = time.time()\n",
    "for epoch in range(100+1):\n",
    "    # Forward pass\n",
    "    y_pred = model(x_train)\n",
    "    _, predictions = y_pred.max(dim=1)\n",
    "    # Compute accuracy\n",
    "    accuracy_train = evaluate(predictions=predictions.long(), real=y_train)\n",
    "    # Compute loss\n",
    "    loss = criterion(y_pred, y_train)\n",
    "\n",
    "    # Testing model on the test set\n",
    "    if epoch%10 == 0:\n",
    "        _, predictions_test = model(x_test, softmax=True).max(dim=1)\n",
    "        accuracy_test = evaluate(predictions=predictions_test.long(), real=y_test)\n",
    "        # Keep track of the accuracies for the learning curve\n",
    "        trace = trace.append([{'epoch':epoch,\n",
    "                                'train_acc':accuracy_train,\n",
    "                                'test_acc':accuracy_test}])\n",
    "        # Save the best model's accuracy and parameters\n",
    "        if accuracy_test > best_accuracy:\n",
    "            best_accuracy = accuracy_test\n",
    "            best_model_weights = copy.deepcopy(model.state_dict())\n",
    "        # Displap statistics\n",
    "        if epoch%100 == 0:\n",
    "            time_elapsed = time.time() - since\n",
    "            print(\"epoch: {0:4d} | loss: {1:.4f} | Train accuracy: {2:.4f}% | Test accuracy: {3:.4f}% [{4:.4f}%] | Running for : {5:.0f}m {6:.0f}s\"\n",
    "                  .format(epoch,\n",
    "                          loss,\n",
    "                          accuracy_train,\n",
    "                          accuracy_test,\n",
    "                          best_accuracy,\n",
    "                          time_elapsed // 60,\n",
    "                          time_elapsed % 60))\n",
    "\n",
    "    # Zero all gradients\n",
    "    optimizer.zero_grad()\n",
    "    # Backward pass\n",
    "    loss.backward()\n",
    "    # Update weights\n",
    "    optimizer.step()\n",
    "\n",
    "# Compute the training time\n",
    "time_elapsed = time.time() - since\n",
    "print('Training complete in {:.0f}m {:.0f}s'.format(\n",
    "    time_elapsed // 60, time_elapsed % 60))"
   ]
  },
  {
   "cell_type": "code",
   "execution_count": 21,
   "id": "38d260ff",
   "metadata": {},
   "outputs": [
    {
     "name": "stderr",
     "output_type": "stream",
     "text": [
      "The PostScript backend does not support transparency; partially transparent artists will be rendered opaque.\n",
      "The PostScript backend does not support transparency; partially transparent artists will be rendered opaque.\n"
     ]
    },
    {
     "name": "stdout",
     "output_type": "stream",
     "text": [
      "Final Training Accuracy: 98.8259%\n",
      "Final Testing Accuracy : 80.4959%\n",
      "Classification Report :\n",
      "              precision    recall  f1-score   support\n",
      "\n",
      "           0       0.70      0.96      0.81      9711\n",
      "           1       0.95      0.69      0.80     12833\n",
      "\n",
      "    accuracy                           0.80     22544\n",
      "   macro avg       0.83      0.82      0.80     22544\n",
      "weighted avg       0.84      0.80      0.80     22544\n",
      "\n"
     ]
    },
    {
     "data": {
      "image/png": "[encoded data removed]",
      "text/plain": [
       "<Figure size 1440x720 with 1 Axes>"
      ]
     },
     "metadata": {
      "needs_background": "light"
     },
     "output_type": "display_data"
    }
   ],
   "source": [
    "# Draw the learning curve\n",
    "plt.figure(figsize=(20, 10))\n",
    "plt.scatter(data=trace, x='epoch', y='train_acc', c=\"b\", s=5)\n",
    "plt.scatter(data=trace, x='epoch', y='test_acc', c=\"r\", s=5)\n",
    "plt.plot(trace['epoch'], trace['train_acc'], c=\"b\")\n",
    "plt.plot(trace['epoch'], trace['test_acc'], c=\"r\")\n",
    "plt.ylim((0, 100))\n",
    "plt.yticks(np.arange(0, 100, 5))\n",
    "plt.grid()\n",
    "plt.legend()\n",
    "plt.savefig(\"learning_curve.eps\", format=\"eps\", bbox_inches='tight')\n",
    "\n",
    "# Loading the best weights and displaying the best model's performances\n",
    "model.load_state_dict(best_model_weights)\n",
    "stat_model(model, x_train, y_train, x_test, y_test)"
   ]
  },
  {
   "cell_type": "code",
   "execution_count": 22,
   "id": "d2f90043",
   "metadata": {},
   "outputs": [
    {
     "data": {
      "text/plain": [
       "<All keys matched successfully>"
      ]
     },
     "execution_count": 22,
     "metadata": {},
     "output_type": "execute_result"
    }
   ],
   "source": [
    "torch.save(model.state_dict(), \"./model.pytorch\")\n",
    "model.load_state_dict(torch.load(\"./model.pytorch\"))"
   ]
  },
  {
   "cell_type": "code",
   "execution_count": 23,
   "id": "ee923dbd",
   "metadata": {},
   "outputs": [],
   "source": [
    "adv_feat_stats = pd.DataFrame(index=df_training.columns[:-1])\n",
    "\n",
    "adv_results = pd.DataFrame(index=['Accuracy', \n",
    "                                  'Mean perturbed features   [Mean L0]', \n",
    "                                  'Max perturbed features    [Max  L0]', \n",
    "                                  'Mean Euclidiant distance  [Mean L2]', \n",
    "                                  'Max Euclidiant distance   [Max  L2]', \n",
    "                                  'Mean Maximum perturbation [Mean Li]', \n",
    "                                  'Max Maximum perturbation  [Max  Li]'])\n",
    "\n",
    "adv_inv = pd.DataFrame(index=['Invalid value range',\n",
    "                              'Invalid binary values',\n",
    "                              'Invalid class belonging'])"
   ]
  },
  {
   "cell_type": "code",
   "execution_count": 24,
   "id": "ae01b1fb",
   "metadata": {},
   "outputs": [],
   "source": [
    "def adv_norms(x_test_cpu, adversarial_examples_cpu):\n",
    "    mean_l0 = np.mean(np.sum(x_test_cpu != adversarial_examples_cpu, axis=1))\n",
    "    max_l0 = np.max(np.sum(x_test_cpu != adversarial_examples_cpu, axis=1))\n",
    "    mean_l2 = np.mean(np.sum(np.power(x_test_cpu - adversarial_examples_cpu, 2), axis=1, keepdims=True))\n",
    "    max_l2 = np.max(np.sum(np.power(x_test_cpu - adversarial_examples_cpu, 2), axis=1, keepdims=True))\n",
    "    mean_li = np.mean(np.max(np.abs(x_test_cpu - adversarial_examples_cpu), axis=1, keepdims=True))\n",
    "    max_li = np.max(np.max(np.abs(x_test_cpu - adversarial_examples_cpu), axis=1, keepdims=True))\n",
    "    return [mean_l0, max_l0, mean_l2, max_l2, mean_li, max_li]"
   ]
  },
  {
   "cell_type": "code",
   "execution_count": 25,
   "id": "b42f6970",
   "metadata": {},
   "outputs": [
    {
     "data": {
      "text/plain": [
       "Index(['1 Duration', '2 Protocol-type : udp', '2 Protocol-type : tcp',\n",
       "       '2 Protocol-type : icmp', '3 Service : whois', '3 Service : vmnet',\n",
       "       '3 Service : uucp_path', '3 Service : uucp', '3 Service : urp_i',\n",
       "       '3 Service : urh_i',\n",
       "       ...\n",
       "       '33 Dst-host-srv-count', '34 Dst-host-same-srv-rate',\n",
       "       '35 Dst-host-diff-srv-rate', '36 Dst-host-same-src-port-rate',\n",
       "       '37 Dst-host-srv-diff-host-rate', '38 Dst-host-serror-rate',\n",
       "       '39 Dst-host-srv-serror-rate', '40 Dst-host-rerror-rate',\n",
       "       '41 Dst-host-srv-rerror-rate', '42 Labels'],\n",
       "      dtype='object', length=122)"
      ]
     },
     "execution_count": 25,
     "metadata": {},
     "output_type": "execute_result"
    }
   ],
   "source": [
    "data.columns"
   ]
  },
  {
   "cell_type": "code",
   "execution_count": 30,
   "id": "1c2412e8",
   "metadata": {},
   "outputs": [],
   "source": [
    "def adv_criteria(x_test_cpu, adversarial_examples_cpu):\n",
    "    # Verify value ranges\n",
    "    min = x_test_cpu.min(axis=1, keepdims=True)\n",
    "    max = x_test_cpu.max(axis=1, keepdims=True)\n",
    "    adv_range = (adversarial_examples_cpu < min) | (adversarial_examples_cpu > max)\n",
    "    adv_range = adv_range.any(axis=1, keepdims=True)\n",
    "    adv_range = adv_range.sum(axis=0)\n",
    "\n",
    "    # Binary values\n",
    "    binary_feat_ind =  [1, 2, 3, 4, 5, 6, 7, 8, 9, 10, 11, 12, 13, 14, 15, 16, 17, 18, 19, 20, 21, 22, 23, 24, 25, 26, 27, 28, 29, 30, 31, 32, 33, 34, 35, 36, 37, 38, 39, 40, 41, 42, 43, 44, 45, 46, 47, 48, 49, 50, 51, 52, 53, 54, 55, 56, 57, 58, 59, 60, 61, 62, 63, 64, 65, 66, 67, 68, 69, 70, 71, 72, 73, 74, 75, 76, 77, 78, 79, 80, 81, 82, 83, 84, 87, 92, 94, 100, 101]#[1, 2, 3, 4, 5, 6, 7, 8, 9, 10, 11, 12, 13, 14, 15, 16, 17, 18, 19, 20, 27, 29, 30, 31, 32, 33, 70, 72, 73, 74, 75, 76, 77]\n",
    "    adv_bin = adversarial_examples_cpu[:, binary_feat_ind]\n",
    "    adv_bin = (adv_bin != 1) & ( adv_bin != 0)\n",
    "    adv_bin = adv_bin.any(axis=1, keepdims=True)\n",
    "    adv_bin = adv_bin.sum(axis=0)\n",
    "\n",
    "    # Multi class\n",
    "    adv1 = adversarial_examples_cpu[:, 1:4] != 0\n",
    "    adv1 = adv1.astype(int).sum(axis=1, keepdims=True) != 1\n",
    "    adv1 = adv1.sum(axis=1, keepdims=True)\n",
    "\n",
    "    adv2 = adversarial_examples_cpu[:, 4:74] != 0\n",
    "    adv2 = adv2.astype(int).sum(axis=1, keepdims=True) != 1\n",
    "    adv2 = adv2.sum(axis=1, keepdims=True)\n",
    "\n",
    "    adv3 = adversarial_examples_cpu[:, 74:85] != 0\n",
    "    adv3 = adv3.astype(int).sum(axis=1, keepdims=True) != 1\n",
    "    adv3 = adv3.sum(axis=1, keepdims=True)\n",
    "\n",
    "    adv_cat = adv1 | adv2 | adv3\n",
    "    adv_cat = adv_cat.sum(axis=0)\n",
    "\n",
    "    return [adv_range[0]*100/x_test.shape[0], adv_bin[0]*100/x_test.shape[0], adv_cat[0]*100/x_test.shape[0]]"
   ]
  },
  {
   "cell_type": "code",
   "execution_count": 31,
   "id": "a6dea0ad",
   "metadata": {},
   "outputs": [],
   "source": [
    "positive_examples = df_testing[df_testing['42 Labels'] == 1].values\n",
    "x_test = torch.from_numpy((positive_examples[:, :-1])).float()\n",
    "y_test = torch.from_numpy((positive_examples[:, -1])).float()\n",
    "x_test = x_test.to(device)\n",
    "y_test = y_test.to(device)"
   ]
  },
  {
   "cell_type": "code",
   "execution_count": 32,
   "id": "637730a0",
   "metadata": {},
   "outputs": [],
   "source": [
    "classifier = PyTorchClassifier(model=model, loss=criterion, optimizer=optimizer, input_shape=input_size, nb_classes=output_size)"
   ]
  },
  {
   "cell_type": "code",
   "execution_count": 33,
   "id": "ca27a5d8",
   "metadata": {},
   "outputs": [
    {
     "name": "stdout",
     "output_type": "stream",
     "text": [
      "Accuracy                               69.079716\n",
      "Mean perturbed features   [Mean L0]     0.000000\n",
      "Max perturbed features    [Max  L0]     0.000000\n",
      "Mean Euclidiant distance  [Mean L2]     0.000000\n",
      "Max Euclidiant distance   [Max  L2]     0.000000\n",
      "Mean Maximum perturbation [Mean Li]     0.000000\n",
      "Max Maximum perturbation  [Max  Li]     0.000000\n",
      "Name: Clean, dtype: float64\n",
      "Invalid value range        0.0\n",
      "Invalid binary values      0.0\n",
      "Invalid class belonging    0.0\n",
      "Name: Clean, dtype: float64\n"
     ]
    }
   ],
   "source": [
    "_, predictions_clean = model(x_test, softmax=True).max(dim=1)\n",
    "accuracy_clean = evaluate(predictions=predictions_clean.long(), real=y_test)\n",
    "\n",
    "attack='Clean'\n",
    "\n",
    "# Exporting the clean positive examples in a .csv file\n",
    "pd.DataFrame(np.hstack((x_test.cpu().numpy(),y_test.cpu().numpy().reshape(y_test.shape[0], 1))), columns=data.columns).to_csv(\"clean_examples.csv\")\n",
    "\n",
    "x_test_cpu = np.array(x_test.cpu())\n",
    "adv_results[attack] = [accuracy_clean] + adv_norms(x_test_cpu, x_test_cpu)\n",
    "adv_inv[attack] = adv_criteria(x_test_cpu, x_test_cpu)\n",
    "\n",
    "print(adv_results[attack])\n",
    "print(adv_inv[attack])"
   ]
  },
  {
   "cell_type": "code",
   "execution_count": 34,
   "id": "29a205e7",
   "metadata": {},
   "outputs": [
    {
     "name": "stdout",
     "output_type": "stream",
     "text": [
      "Binary columns:  ['2 Protocol-type : udp', '2 Protocol-type : tcp', '2 Protocol-type : icmp', '3 Service : whois', '3 Service : vmnet', '3 Service : uucp_path', '3 Service : uucp', '3 Service : urp_i', '3 Service : urh_i', '3 Service : time', '3 Service : tim_i', '3 Service : tftp_u', '3 Service : telnet', '3 Service : systat', '3 Service : supdup', '3 Service : sunrpc', '3 Service : ssh', '3 Service : sql_net', '3 Service : smtp', '3 Service : shell', '3 Service : rje', '3 Service : remote_job', '3 Service : red_i', '3 Service : private', '3 Service : printer', '3 Service : pop_3', '3 Service : pop_2', '3 Service : pm_dump', '3 Service : other', '3 Service : ntp_u', '3 Service : nntp', '3 Service : nnsp', '3 Service : netstat', '3 Service : netbios_ssn', '3 Service : netbios_ns', '3 Service : netbios_dgm', '3 Service : name', '3 Service : mtp', '3 Service : login', '3 Service : link', '3 Service : ldap', '3 Service : kshell', '3 Service : klogin', '3 Service : iso_tsap', '3 Service : imap4', '3 Service : http_8001', '3 Service : http_443', '3 Service : http_2784', '3 Service : http', '3 Service : hostnames', '3 Service : harvest', '3 Service : gopher', '3 Service : ftp_data', '3 Service : ftp', '3 Service : finger', '3 Service : exec', '3 Service : efs', '3 Service : ecr_i', '3 Service : eco_i', '3 Service : echo', '3 Service : domain_u', '3 Service : domain', '3 Service : discard', '3 Service : daytime', '3 Service : ctf', '3 Service : csnet_ns', '3 Service : courier', '3 Service : bgp', '3 Service : auth', '3 Service : aol', '3 Service : Z39_50', '3 Service : X11', '3 Service : IRC', '4 Flag : SH', '4 Flag : SF', '4 Flag : S3', '4 Flag : S2', '4 Flag : S1', '4 Flag : S0', '4 Flag : RSTR', '4 Flag : RSTOS0', '4 Flag : RSTO', '4 Flag : REJ', '4 Flag : OTH', '7 Land', '12 Logged-in', '14 Root-shell', '21 Is-host-login', '22 Is-guest-login', '42 Labels']\n",
      "Index positions of binary columns:  [1, 2, 3, 4, 5, 6, 7, 8, 9, 10, 11, 12, 13, 14, 15, 16, 17, 18, 19, 20, 21, 22, 23, 24, 25, 26, 27, 28, 29, 30, 31, 32, 33, 34, 35, 36, 37, 38, 39, 40, 41, 42, 43, 44, 45, 46, 47, 48, 49, 50, 51, 52, 53, 54, 55, 56, 57, 58, 59, 60, 61, 62, 63, 64, 65, 66, 67, 68, 69, 70, 71, 72, 73, 74, 75, 76, 77, 78, 79, 80, 81, 82, 83, 84, 87, 92, 94, 100, 101, 121]\n"
     ]
    }
   ],
   "source": [
    "binary_cols = []\n",
    "for col in data.columns:\n",
    "    if data[col].dropna().isin([0, 1]).all():\n",
    "        binary_cols.append(col)\n",
    "\n",
    "# Get the index positions of the binary columns\n",
    "binary_cols_index = [data.columns.get_loc(col) for col in binary_cols]\n",
    "\n",
    "# Print the binary columns and their index positions\n",
    "print(\"Binary columns: \", binary_cols)\n",
    "print(\"Index positions of binary columns: \", binary_cols_index)"
   ]
  },
  {
   "cell_type": "code",
   "execution_count": 35,
   "id": "29531ec3",
   "metadata": {},
   "outputs": [
    {
     "name": "stdout",
     "output_type": "stream",
     "text": [
      "Final Training Accuracy: 69.0797%\n",
      "Final Testing Accuracy : 41.5180%\n",
      "Classification Report :\n",
      "              precision    recall  f1-score   support\n",
      "\n",
      "         0.0       0.00      0.00      0.00         0\n",
      "         1.0       1.00      0.42      0.59     12833\n",
      "\n",
      "    accuracy                           0.42     12833\n",
      "   macro avg       0.50      0.21      0.29     12833\n",
      "weighted avg       1.00      0.42      0.59     12833\n",
      "\n"
     ]
    },
    {
     "name": "stderr",
     "output_type": "stream",
     "text": [
      "C:\\Users\\Juba\\.conda\\envs\\py3.6\\lib\\site-packages\\sklearn\\metrics\\_classification.py:1248: UndefinedMetricWarning: Recall and F-score are ill-defined and being set to 0.0 in labels with no true samples. Use `zero_division` parameter to control this behavior.\n",
      "  _warn_prf(average, modifier, msg_start, len(result))\n",
      "C:\\Users\\Juba\\.conda\\envs\\py3.6\\lib\\site-packages\\sklearn\\metrics\\_classification.py:1248: UndefinedMetricWarning: Recall and F-score are ill-defined and being set to 0.0 in labels with no true samples. Use `zero_division` parameter to control this behavior.\n",
      "  _warn_prf(average, modifier, msg_start, len(result))\n",
      "C:\\Users\\Juba\\.conda\\envs\\py3.6\\lib\\site-packages\\sklearn\\metrics\\_classification.py:1248: UndefinedMetricWarning: Recall and F-score are ill-defined and being set to 0.0 in labels with no true samples. Use `zero_division` parameter to control this behavior.\n",
      "  _warn_prf(average, modifier, msg_start, len(result))\n"
     ]
    },
    {
     "name": "stdout",
     "output_type": "stream",
     "text": [
      "Accuracy                               41.517962\n",
      "Mean perturbed features   [Mean L0]    58.733655\n",
      "Max perturbed features    [Max  L0]    93.000000\n",
      "Mean Euclidiant distance  [Mean L2]     0.564629\n",
      "Max Euclidiant distance   [Max  L2]     0.909999\n",
      "Mean Maximum perturbation [Mean Li]     0.100000\n",
      "Max Maximum perturbation  [Max  Li]     0.100000\n",
      "Name: FGSM, dtype: float64\n",
      "Invalid value range          0.007792\n",
      "Invalid binary values      100.000000\n",
      "Invalid class belonging    100.000000\n",
      "Name: FGSM, dtype: float64\n"
     ]
    }
   ],
   "source": [
    "import numpy as np\n",
    "import torch\n",
    "import pandas as pd\n",
    "\n",
    "# Assuming 'x_test', 'model', 'classifier', and 'y_test' are already defined and loaded\n",
    "# Assuming 'data' is a DataFrame containing your entire dataset (training + testing)\n",
    "\n",
    "# Calculate min and max values for each feature from the entire dataset\n",
    "feature_data = data.iloc[:, :-1]  # Adjust this to match your actual feature columns\n",
    "\n",
    "feature_min = feature_data.min()\n",
    "feature_max = feature_data.max()\n",
    "\n",
    "# Create the adversarial examples crafter\n",
    "adversarial_crafter = FastGradientMethod(\n",
    "    classifier,\n",
    "    norm=np.inf,\n",
    "    eps=0.1,\n",
    "    targeted=False,\n",
    "    num_random_init=0,\n",
    "    batch_size=128,\n",
    ")\n",
    "\n",
    "# Generate the adversarial examples\n",
    "adversarial_examples = adversarial_crafter.generate(x=x_test.cpu())\n",
    "\n",
    "# Convert adversarial examples to torch tensors\n",
    "adversarial_examples = torch.from_numpy(adversarial_examples).float()\n",
    "\n",
    "# Ensure the perturbation for each feature stays within the observed min-max range\n",
    "for i, (min_val, max_val) in enumerate(zip(feature_min, feature_max)):\n",
    "    adversarial_examples[:, i] = torch.clamp(adversarial_examples[:, i], min=min_val, max=max_val)\n",
    "\n",
    "adversarial_examples = adversarial_examples.to(torch.device('cuda' if torch.cuda.is_available() else 'cpu'))\n",
    "\n",
    "# Continue with the evaluation and processing\n",
    "stat_model(model, x_test, y_test, adversarial_examples, y_test)\n",
    "\n",
    "# Convert to CPU numpy arrays for further analysis\n",
    "adversarial_examples_cpu = np.array(adversarial_examples.cpu())\n",
    "x_test_cpu = np.array(x_test.cpu())\n",
    "\n",
    "# Evaluate the model on adversarial examples\n",
    "_, predictions_adv = model(adversarial_examples, softmax=True).max(dim=1)\n",
    "accuracy_adv = evaluate(predictions=predictions_adv.long(), real=y_test)\n",
    "attack = 'FGSM'\n",
    "adv_results[attack] = [accuracy_adv] + adv_norms(x_test_cpu, adversarial_examples_cpu)\n",
    "adv_inv[attack] = adv_criteria(x_test_cpu, adversarial_examples_cpu)\n",
    "\n",
    "# Export the adjusted adversarial examples to a CSV file\n",
    "pd.DataFrame(np.hstack((adversarial_examples_cpu, y_test.cpu().reshape(y_test.shape[0], 1))), columns=data.columns).to_csv(\"adjusted_adversarial_examples_FGSM-KDD.csv\")\n",
    "\n",
    "print(adv_results[attack])\n",
    "print(adv_inv[attack])\n"
   ]
  },
  {
   "cell_type": "code",
   "execution_count": 40,
   "id": "689caad9",
   "metadata": {},
   "outputs": [],
   "source": [
    "import pandas as pd\n",
    "\n",
    "# Load the datasets\n",
    "data_x1 = pd.read_csv('clean_examples.csv')  # Original dataset\n",
    "data_x2 = pd.read_csv('adjusted_adversarial_examples_FGSM-KDD.csv')  # Perturbed dataset\n",
    "# List of columns to keep in x2\n",
    "columns_to_keep = [\n",
    "    '1 Duration', '5 Src-bytes', '6 Dst-bytes', '8 Wrong-fragment', '9 Urgent',\n",
    "    '10 Hot', '11 Num-failed-logins', '13 Num-compromised', '15 Su-attempted',\n",
    "    '16 Num-root', '17 Num-file-creations', '18 Num-shells', '19 Num-access-files',\n",
    "    '23 Count', '24 Srv-count', '25 Serror-rate', '26 Srv-serror-rate', '27 Rerror-rate',\n",
    "    '28 Srv-rerror-rate', '29 Same-srv-rate', '30 Diff-srv-rate', '31 Srv-diff-host-rate',\n",
    "    '32 Dst-host-count', '33 Dst-host-srv-count', '34 Dst-host-same-srv-rate',\n",
    "    '35 Dst-host-diff-srv-rate', '36 Dst-host-same-src-port-rate', '37 Dst-host-srv-diff-host-rate',\n",
    "    '38 Dst-host-serror-rate', '39 Dst-host-srv-serror-rate', '40 Dst-host-rerror-rate',\n",
    "    '41 Dst-host-srv-rerror-rate'\n",
    "]\n",
    "\n",
    "# Ensure column names are consistent and exist in both dataframes\n",
    "columns_to_keep = [col for col in columns_to_keep if col in data_x2.columns and col in data_x1.columns]\n",
    "\n",
    "# Columns to replace in x2 with values from x1 (all columns not in 'columns_to_keep')\n",
    "columns_to_replace = [col for col in data_x2.columns if col not in columns_to_keep]\n",
    "\n",
    "# Replace the values\n",
    "data_x2[columns_to_replace] = data_x1[columns_to_replace]\n",
    "# Save the modified x2 dataset\n",
    "data_x2.to_csv('modified_x2.csv', index=False)\n"
   ]
  },
  {
   "cell_type": "code",
   "execution_count": 41,
   "id": "7fda231b",
   "metadata": {},
   "outputs": [
    {
     "name": "stderr",
     "output_type": "stream",
     "text": [
      "                                                                                                                       \r"
     ]
    },
    {
     "name": "stdout",
     "output_type": "stream",
     "text": [
      "Final Training Accuracy: 69.0797%\n",
      "Final Testing Accuracy : 42.5621%\n",
      "Classification Report :\n",
      "              precision    recall  f1-score   support\n",
      "\n",
      "         0.0       0.00      0.00      0.00         0\n",
      "         1.0       1.00      0.43      0.60     12833\n",
      "\n",
      "    accuracy                           0.43     12833\n",
      "   macro avg       0.50      0.21      0.30     12833\n",
      "weighted avg       1.00      0.43      0.60     12833\n",
      "\n"
     ]
    },
    {
     "name": "stderr",
     "output_type": "stream",
     "text": [
      "C:\\Users\\Juba\\.conda\\envs\\py3.6\\lib\\site-packages\\sklearn\\metrics\\_classification.py:1248: UndefinedMetricWarning: Recall and F-score are ill-defined and being set to 0.0 in labels with no true samples. Use `zero_division` parameter to control this behavior.\n",
      "  _warn_prf(average, modifier, msg_start, len(result))\n",
      "C:\\Users\\Juba\\.conda\\envs\\py3.6\\lib\\site-packages\\sklearn\\metrics\\_classification.py:1248: UndefinedMetricWarning: Recall and F-score are ill-defined and being set to 0.0 in labels with no true samples. Use `zero_division` parameter to control this behavior.\n",
      "  _warn_prf(average, modifier, msg_start, len(result))\n",
      "C:\\Users\\Juba\\.conda\\envs\\py3.6\\lib\\site-packages\\sklearn\\metrics\\_classification.py:1248: UndefinedMetricWarning: Recall and F-score are ill-defined and being set to 0.0 in labels with no true samples. Use `zero_division` parameter to control this behavior.\n",
      "  _warn_prf(average, modifier, msg_start, len(result))\n"
     ]
    },
    {
     "name": "stdout",
     "output_type": "stream",
     "text": [
      "Accuracy                               42.562144\n",
      "Mean perturbed features   [Mean L0]    57.634770\n",
      "Max perturbed features    [Max  L0]    90.000000\n",
      "Mean Euclidiant distance  [Mean L2]     0.456023\n",
      "Max Euclidiant distance   [Max  L2]     0.803989\n",
      "Mean Maximum perturbation [Mean Li]     0.100000\n",
      "Max Maximum perturbation  [Max  Li]     0.100000\n",
      "Name: BIM, dtype: float64\n",
      "Invalid value range          0.023377\n",
      "Invalid binary values      100.000000\n",
      "Invalid class belonging    100.000000\n",
      "Name: BIM, dtype: float64\n"
     ]
    }
   ],
   "source": [
    "import numpy as np\n",
    "import torch\n",
    "import pandas as pd\n",
    "\n",
    "# Assuming 'x_test', 'model', 'classifier', and 'y_test' are already defined and loaded\n",
    "# Assuming 'data' is a DataFrame containing your entire dataset (training + testing)\n",
    "\n",
    "# Calculate min and max values for each feature from the entire dataset\n",
    "feature_data = data.iloc[:, :-1]  # Adjust this to match your actual feature columns\n",
    "\n",
    "feature_min = feature_data.min()\n",
    "feature_max = feature_data.max()\n",
    "\n",
    "# Create the adversarial examples crafter\n",
    "adversarial_crafter = BasicIterativeMethod(classifier, \n",
    "                                           eps=0.1, \n",
    "                                           eps_step=0.001,\n",
    "                                           max_iter=100, \n",
    "                                           targeted=False, \n",
    "                                           batch_size=128)\n",
    "\n",
    "# Generate the adversarial examples\n",
    "adversarial_examples = adversarial_crafter.generate(x=x_test.cpu())\n",
    "\n",
    "# Convert adversarial examples to torch tensors\n",
    "adversarial_examples = torch.from_numpy(adversarial_examples).float()\n",
    "\n",
    "# Ensure the perturbation for each feature stays within the observed min-max range\n",
    "for i, (min_val, max_val) in enumerate(zip(feature_min, feature_max)):\n",
    "    adversarial_examples[:, i] = torch.clamp(adversarial_examples[:, i], min=min_val, max=max_val)\n",
    "\n",
    "adversarial_examples = adversarial_examples.to(torch.device('cuda' if torch.cuda.is_available() else 'cpu'))\n",
    "\n",
    "# Continue with the evaluation and processing\n",
    "stat_model(model, x_test, y_test, adversarial_examples, y_test)\n",
    "\n",
    "# Convert to CPU numpy arrays for further analysis\n",
    "adversarial_examples_cpu = np.array(adversarial_examples.cpu())\n",
    "x_test_cpu = np.array(x_test.cpu())\n",
    "\n",
    "# Evaluate the model on adversarial examples\n",
    "_, predictions_adv = model(adversarial_examples, softmax=True).max(dim=1)\n",
    "accuracy_adv = evaluate(predictions=predictions_adv.long(), real=y_test)\n",
    "attack = 'BIM'\n",
    "adv_results[attack] = [accuracy_adv] + adv_norms(x_test_cpu, adversarial_examples_cpu)\n",
    "adv_inv[attack] = adv_criteria(x_test_cpu, adversarial_examples_cpu)\n",
    "\n",
    "# Export the adjusted adversarial examples to a CSV file\n",
    "pd.DataFrame(np.hstack((adversarial_examples_cpu, y_test.cpu().reshape(y_test.shape[0], 1))), columns=data.columns).to_csv(\"adjusted_adversarial_examples_BIM-KDD.csv\")\n",
    "\n",
    "print(adv_results[attack])\n",
    "print(adv_inv[attack])\n"
   ]
  },
  {
   "cell_type": "code",
   "execution_count": 42,
   "id": "397479d3",
   "metadata": {},
   "outputs": [],
   "source": [
    "import pandas as pd\n",
    "\n",
    "# Load the datasets\n",
    "data_x1 = pd.read_csv('clean_examples.csv')  # Original dataset\n",
    "data_x2 = pd.read_csv('adjusted_adversarial_examples_BIM-KDD.csv')  # Perturbed dataset\n",
    "# List of columns to keep in x2\n",
    "columns_to_keep = [\n",
    "    '1 Duration', '5 Src-bytes', '6 Dst-bytes', '8 Wrong-fragment', '9 Urgent',\n",
    "    '10 Hot', '11 Num-failed-logins', '13 Num-compromised', '15 Su-attempted',\n",
    "    '16 Num-root', '17 Num-file-creations', '18 Num-shells', '19 Num-access-files',\n",
    "    '23 Count', '24 Srv-count', '25 Serror-rate', '26 Srv-serror-rate', '27 Rerror-rate',\n",
    "    '28 Srv-rerror-rate', '29 Same-srv-rate', '30 Diff-srv-rate', '31 Srv-diff-host-rate',\n",
    "    '32 Dst-host-count', '33 Dst-host-srv-count', '34 Dst-host-same-srv-rate',\n",
    "    '35 Dst-host-diff-srv-rate', '36 Dst-host-same-src-port-rate', '37 Dst-host-srv-diff-host-rate',\n",
    "    '38 Dst-host-serror-rate', '39 Dst-host-srv-serror-rate', '40 Dst-host-rerror-rate',\n",
    "    '41 Dst-host-srv-rerror-rate'\n",
    "]\n",
    "\n",
    "# Ensure column names are consistent and exist in both dataframes\n",
    "columns_to_keep = [col for col in columns_to_keep if col in data_x2.columns and col in data_x1.columns]\n",
    "\n",
    "# Columns to replace in x2 with values from x1 (all columns not in 'columns_to_keep')\n",
    "columns_to_replace = [col for col in data_x2.columns if col not in columns_to_keep]\n",
    "\n",
    "# Replace the values\n",
    "data_x2[columns_to_replace] = data_x1[columns_to_replace]\n",
    "# Save the modified x2 dataset\n",
    "data_x2.to_csv('modified_x2.csv', index=False)\n"
   ]
  },
  {
   "cell_type": "code",
   "execution_count": 48,
   "id": "498cae7a",
   "metadata": {},
   "outputs": [
    {
     "name": "stdout",
     "output_type": "stream",
     "text": [
      "Final Training Accuracy: 99.9467%\n",
      "Final Testing Accuracy : 0.2085%\n",
      "Classification Report :\n",
      "              precision    recall  f1-score   support\n",
      "\n",
      "         0.0       0.00      0.00      0.00         0\n",
      "         1.0       1.00      0.00      0.00     41243\n",
      "\n",
      "    accuracy                           0.00     41243\n",
      "   macro avg       0.50      0.00      0.00     41243\n",
      "weighted avg       1.00      0.00      0.00     41243\n",
      "\n"
     ]
    },
    {
     "name": "stderr",
     "output_type": "stream",
     "text": [
      "C:\\Users\\Juba\\.conda\\envs\\py3.6\\lib\\site-packages\\sklearn\\metrics\\_classification.py:1248: UndefinedMetricWarning: Recall and F-score are ill-defined and being set to 0.0 in labels with no true samples. Use `zero_division` parameter to control this behavior.\n",
      "  _warn_prf(average, modifier, msg_start, len(result))\n",
      "C:\\Users\\Juba\\.conda\\envs\\py3.6\\lib\\site-packages\\sklearn\\metrics\\_classification.py:1248: UndefinedMetricWarning: Recall and F-score are ill-defined and being set to 0.0 in labels with no true samples. Use `zero_division` parameter to control this behavior.\n",
      "  _warn_prf(average, modifier, msg_start, len(result))\n",
      "C:\\Users\\Juba\\.conda\\envs\\py3.6\\lib\\site-packages\\sklearn\\metrics\\_classification.py:1248: UndefinedMetricWarning: Recall and F-score are ill-defined and being set to 0.0 in labels with no true samples. Use `zero_division` parameter to control this behavior.\n",
      "  _warn_prf(average, modifier, msg_start, len(result))\n"
     ]
    },
    {
     "name": "stdout",
     "output_type": "stream",
     "text": [
      "Accuracy                                 0.208520\n",
      "Mean perturbed features   [Mean L0]     97.358437\n",
      "Max perturbed features    [Max  L0]    100.000000\n",
      "Mean Euclidiant distance  [Mean L2]      0.661638\n",
      "Max Euclidiant distance   [Max  L2]      0.963897\n",
      "Mean Maximum perturbation [Mean Li]      0.099918\n",
      "Max Maximum perturbation  [Max  Li]      0.100000\n",
      "Name: FGSM, dtype: float64\n",
      "Invalid value range         99.292001\n",
      "Invalid binary values        0.000000\n",
      "Invalid class belonging    100.000000\n",
      "Name: FGSM, dtype: float64\n"
     ]
    }
   ],
   "source": []
  },
  {
   "cell_type": "code",
   "execution_count": 43,
   "id": "2d02db59",
   "metadata": {},
   "outputs": [
    {
     "name": "stderr",
     "output_type": "stream",
     "text": [
      "DeepFool: 100%|██████████████████████████████████████████████████████████████████████| 101/101 [01:08<00:00,  1.49it/s]\n"
     ]
    },
    {
     "name": "stdout",
     "output_type": "stream",
     "text": [
      "Final Training Accuracy: 69.0797%\n",
      "Final Testing Accuracy : 69.1654%\n",
      "Classification Report :\n",
      "              precision    recall  f1-score   support\n",
      "\n",
      "         0.0       0.00      0.00      0.00         0\n",
      "         1.0       1.00      0.69      0.82     12833\n",
      "\n",
      "    accuracy                           0.69     12833\n",
      "   macro avg       0.50      0.35      0.41     12833\n",
      "weighted avg       1.00      0.69      0.82     12833\n",
      "\n"
     ]
    },
    {
     "name": "stderr",
     "output_type": "stream",
     "text": [
      "C:\\Users\\Juba\\.conda\\envs\\py3.6\\lib\\site-packages\\sklearn\\metrics\\_classification.py:1248: UndefinedMetricWarning: Recall and F-score are ill-defined and being set to 0.0 in labels with no true samples. Use `zero_division` parameter to control this behavior.\n",
      "  _warn_prf(average, modifier, msg_start, len(result))\n",
      "C:\\Users\\Juba\\.conda\\envs\\py3.6\\lib\\site-packages\\sklearn\\metrics\\_classification.py:1248: UndefinedMetricWarning: Recall and F-score are ill-defined and being set to 0.0 in labels with no true samples. Use `zero_division` parameter to control this behavior.\n",
      "  _warn_prf(average, modifier, msg_start, len(result))\n",
      "C:\\Users\\Juba\\.conda\\envs\\py3.6\\lib\\site-packages\\sklearn\\metrics\\_classification.py:1248: UndefinedMetricWarning: Recall and F-score are ill-defined and being set to 0.0 in labels with no true samples. Use `zero_division` parameter to control this behavior.\n",
      "  _warn_prf(average, modifier, msg_start, len(result))\n"
     ]
    },
    {
     "name": "stdout",
     "output_type": "stream",
     "text": [
      "Accuracy                               69.165433\n",
      "Mean perturbed features   [Mean L0]    58.754227\n",
      "Max perturbed features    [Max  L0]    93.000000\n",
      "Mean Euclidiant distance  [Mean L2]     0.009717\n",
      "Max Euclidiant distance   [Max  L2]     0.084135\n",
      "Mean Maximum perturbation [Mean Li]     0.042677\n",
      "Max Maximum perturbation  [Max  Li]     0.143524\n",
      "Name: DF, dtype: float64\n",
      "Invalid value range          0.007792\n",
      "Invalid binary values      100.000000\n",
      "Invalid class belonging    100.000000\n",
      "Name: DF, dtype: float64\n"
     ]
    }
   ],
   "source": [
    "import numpy as np\n",
    "import torch\n",
    "import pandas as pd\n",
    "\n",
    "# Assuming 'x_test', 'model', 'classifier', and 'y_test' are already defined and loaded\n",
    "# Assuming 'data' is a DataFrame containing your entire dataset (training + testing)\n",
    "\n",
    "# Calculate min and max values for each feature from the entire dataset\n",
    "feature_data = data.iloc[:, :-1]  # Adjust this to match your actual feature columns\n",
    "\n",
    "feature_min = feature_data.min()\n",
    "feature_max = feature_data.max()\n",
    "\n",
    "# Create the adversarial examples crafter\n",
    "# Creating the adversarial examples crafter\n",
    "adversarial_crafter = DeepFool(classifier, \n",
    "                               max_iter=100, \n",
    "                               epsilon=1e-6, \n",
    "                               nb_grads=10, \n",
    "                               batch_size=128)\n",
    "\n",
    "# Generate the adversarial examples\n",
    "adversarial_examples = adversarial_crafter.generate(x=x_test.cpu())\n",
    "\n",
    "# Convert adversarial examples to torch tensors\n",
    "adversarial_examples = torch.from_numpy(adversarial_examples).float()\n",
    "\n",
    "# Ensure the perturbation for each feature stays within the observed min-max range\n",
    "for i, (min_val, max_val) in enumerate(zip(feature_min, feature_max)):\n",
    "    adversarial_examples[:, i] = torch.clamp(adversarial_examples[:, i], min=min_val, max=max_val)\n",
    "\n",
    "adversarial_examples = adversarial_examples.to(torch.device('cuda' if torch.cuda.is_available() else 'cpu'))\n",
    "\n",
    "# Continue with the evaluation and processing\n",
    "stat_model(model, x_test, y_test, adversarial_examples, y_test)\n",
    "\n",
    "# Convert to CPU numpy arrays for further analysis\n",
    "adversarial_examples_cpu = np.array(adversarial_examples.cpu())\n",
    "x_test_cpu = np.array(x_test.cpu())\n",
    "\n",
    "# Evaluate the model on adversarial examples\n",
    "_, predictions_adv = model(adversarial_examples, softmax=True).max(dim=1)\n",
    "accuracy_adv = evaluate(predictions=predictions_adv.long(), real=y_test)\n",
    "attack = 'DF'\n",
    "adv_results[attack] = [accuracy_adv] + adv_norms(x_test_cpu, adversarial_examples_cpu)\n",
    "adv_inv[attack] = adv_criteria(x_test_cpu, adversarial_examples_cpu)\n",
    "\n",
    "# Export the adjusted adversarial examples to a CSV file\n",
    "pd.DataFrame(np.hstack((adversarial_examples_cpu, y_test.cpu().reshape(y_test.shape[0], 1))), columns=data.columns).to_csv(\"adjusted_adversarial_examples_DF-KDD.csv\")\n",
    "\n",
    "print(adv_results[attack])\n",
    "print(adv_inv[attack])\n"
   ]
  },
  {
   "cell_type": "code",
   "execution_count": 44,
   "id": "dcdc637e",
   "metadata": {},
   "outputs": [],
   "source": [
    "import pandas as pd\n",
    "\n",
    "# Load the datasets\n",
    "data_x1 = pd.read_csv('clean_examples.csv')  # Original dataset\n",
    "data_x2 = pd.read_csv('adjusted_adversarial_examples_DF-KDD.csv')  # Perturbed dataset\n",
    "# List of columns to keep in x2\n",
    "columns_to_keep = [\n",
    "    '1 Duration', '5 Src-bytes', '6 Dst-bytes', '8 Wrong-fragment', '9 Urgent',\n",
    "    '10 Hot', '11 Num-failed-logins', '13 Num-compromised', '15 Su-attempted',\n",
    "    '16 Num-root', '17 Num-file-creations', '18 Num-shells', '19 Num-access-files',\n",
    "    '23 Count', '24 Srv-count', '25 Serror-rate', '26 Srv-serror-rate', '27 Rerror-rate',\n",
    "    '28 Srv-rerror-rate', '29 Same-srv-rate', '30 Diff-srv-rate', '31 Srv-diff-host-rate',\n",
    "    '32 Dst-host-count', '33 Dst-host-srv-count', '34 Dst-host-same-srv-rate',\n",
    "    '35 Dst-host-diff-srv-rate', '36 Dst-host-same-src-port-rate', '37 Dst-host-srv-diff-host-rate',\n",
    "    '38 Dst-host-serror-rate', '39 Dst-host-srv-serror-rate', '40 Dst-host-rerror-rate',\n",
    "    '41 Dst-host-srv-rerror-rate'\n",
    "]\n",
    "\n",
    "# Ensure column names are consistent and exist in both dataframes\n",
    "columns_to_keep = [col for col in columns_to_keep if col in data_x2.columns and col in data_x1.columns]\n",
    "\n",
    "# Columns to replace in x2 with values from x1 (all columns not in 'columns_to_keep')\n",
    "columns_to_replace = [col for col in data_x2.columns if col not in columns_to_keep]\n",
    "\n",
    "# Replace the values\n",
    "data_x2[columns_to_replace] = data_x1[columns_to_replace]\n",
    "# Save the modified x2 dataset\n",
    "data_x2.to_csv('modified_x2.csv', index=False)\n"
   ]
  },
  {
   "cell_type": "code",
   "execution_count": 45,
   "id": "b574b71d",
   "metadata": {},
   "outputs": [
    {
     "name": "stderr",
     "output_type": "stream",
     "text": [
      "JSMA: 100%|██████████████████████████████████████████████████████████████████████████| 101/101 [00:03<00:00, 25.39it/s]\n"
     ]
    },
    {
     "name": "stdout",
     "output_type": "stream",
     "text": [
      "Final Training Accuracy: 69.0797%\n",
      "Final Testing Accuracy : 30.9203%\n",
      "Classification Report :\n",
      "              precision    recall  f1-score   support\n",
      "\n",
      "         0.0       0.00      0.00      0.00         0\n",
      "         1.0       1.00      0.31      0.47     12833\n",
      "\n",
      "    accuracy                           0.31     12833\n",
      "   macro avg       0.50      0.15      0.24     12833\n",
      "weighted avg       1.00      0.31      0.47     12833\n",
      "\n"
     ]
    },
    {
     "name": "stderr",
     "output_type": "stream",
     "text": [
      "C:\\Users\\Juba\\.conda\\envs\\py3.6\\lib\\site-packages\\sklearn\\metrics\\_classification.py:1248: UndefinedMetricWarning: Recall and F-score are ill-defined and being set to 0.0 in labels with no true samples. Use `zero_division` parameter to control this behavior.\n",
      "  _warn_prf(average, modifier, msg_start, len(result))\n",
      "C:\\Users\\Juba\\.conda\\envs\\py3.6\\lib\\site-packages\\sklearn\\metrics\\_classification.py:1248: UndefinedMetricWarning: Recall and F-score are ill-defined and being set to 0.0 in labels with no true samples. Use `zero_division` parameter to control this behavior.\n",
      "  _warn_prf(average, modifier, msg_start, len(result))\n",
      "C:\\Users\\Juba\\.conda\\envs\\py3.6\\lib\\site-packages\\sklearn\\metrics\\_classification.py:1248: UndefinedMetricWarning: Recall and F-score are ill-defined and being set to 0.0 in labels with no true samples. Use `zero_division` parameter to control this behavior.\n",
      "  _warn_prf(average, modifier, msg_start, len(result))\n"
     ]
    },
    {
     "name": "stdout",
     "output_type": "stream",
     "text": [
      "Accuracy                               30.920284\n",
      "Mean perturbed features   [Mean L0]     2.087820\n",
      "Max perturbed features    [Max  L0]     3.000000\n",
      "Mean Euclidiant distance  [Mean L2]     0.223912\n",
      "Max Euclidiant distance   [Max  L2]     1.280000\n",
      "Mean Maximum perturbation [Mean Li]     0.286542\n",
      "Max Maximum perturbation  [Max  Li]     0.800000\n",
      "Name: JSMA, dtype: float64\n",
      "Invalid value range         0.000000\n",
      "Invalid binary values      44.019325\n",
      "Invalid class belonging    44.019325\n",
      "Name: JSMA, dtype: float64\n"
     ]
    }
   ],
   "source": [
    "import numpy as np\n",
    "import torch\n",
    "import pandas as pd\n",
    "\n",
    "# Assuming 'x_test', 'model', 'classifier', and 'y_test' are already defined and loaded\n",
    "# Assuming 'data' is a DataFrame containing your entire dataset (training + testing)\n",
    "\n",
    "# Calculate min and max values for each feature from the entire dataset\n",
    "feature_data = data.iloc[:, :-1]  # Adjust this to match your actual feature columns\n",
    "\n",
    "feature_min = feature_data.min()\n",
    "feature_max = feature_data.max()\n",
    "\n",
    "# Create the adversarial examples crafter\n",
    "# Creating the adversarial examples crafter\n",
    "adversarial_crafter = SaliencyMapMethod(classifier,\n",
    "                                        theta = 0.1,\n",
    "                                        gamma = 1.0,\n",
    "                                        batch_size=128)\n",
    "\n",
    "# Generate the adversarial examples\n",
    "adversarial_examples = adversarial_crafter.generate(x=x_test.cpu())\n",
    "\n",
    "# Convert adversarial examples to torch tensors\n",
    "adversarial_examples = torch.from_numpy(adversarial_examples).float()\n",
    "\n",
    "# Ensure the perturbation for each feature stays within the observed min-max range\n",
    "for i, (min_val, max_val) in enumerate(zip(feature_min, feature_max)):\n",
    "    adversarial_examples[:, i] = torch.clamp(adversarial_examples[:, i], min=min_val, max=max_val)\n",
    "\n",
    "adversarial_examples = adversarial_examples.to(torch.device('cuda' if torch.cuda.is_available() else 'cpu'))\n",
    "\n",
    "# Continue with the evaluation and processing\n",
    "stat_model(model, x_test, y_test, adversarial_examples, y_test)\n",
    "\n",
    "# Convert to CPU numpy arrays for further analysis\n",
    "adversarial_examples_cpu = np.array(adversarial_examples.cpu())\n",
    "x_test_cpu = np.array(x_test.cpu())\n",
    "\n",
    "# Evaluate the model on adversarial examples\n",
    "_, predictions_adv = model(adversarial_examples, softmax=True).max(dim=1)\n",
    "accuracy_adv = evaluate(predictions=predictions_adv.long(), real=y_test)\n",
    "attack = 'JSMA'\n",
    "adv_results[attack] = [accuracy_adv] + adv_norms(x_test_cpu, adversarial_examples_cpu)\n",
    "adv_inv[attack] = adv_criteria(x_test_cpu, adversarial_examples_cpu)\n",
    "\n",
    "# Export the adjusted adversarial examples to a CSV file\n",
    "pd.DataFrame(np.hstack((adversarial_examples_cpu, y_test.cpu().reshape(y_test.shape[0], 1))), columns=data.columns).to_csv(\"adjusted_adversarial_examples_JSMA-KDD.csv\")\n",
    "\n",
    "print(adv_results[attack])\n",
    "print(adv_inv[attack])\n"
   ]
  },
  {
   "cell_type": "code",
   "execution_count": 47,
   "id": "75b6ba4d",
   "metadata": {},
   "outputs": [],
   "source": [
    "import pandas as pd\n",
    "\n",
    "# Load the datasets\n",
    "data_x1 = pd.read_csv('clean_examples.csv')  # Original dataset\n",
    "data_x2 = pd.read_csv('adjusted_adversarial_examples_JSMA-KDD.csv')  # Perturbed dataset\n",
    "# List of columns to keep in x2\n",
    "columns_to_keep = [\n",
    "    '1 Duration', '5 Src-bytes', '6 Dst-bytes', '8 Wrong-fragment', '9 Urgent',\n",
    "    '10 Hot', '11 Num-failed-logins', '13 Num-compromised', '15 Su-attempted',\n",
    "    '16 Num-root', '17 Num-file-creations', '18 Num-shells', '19 Num-access-files',\n",
    "    '23 Count', '24 Srv-count', '25 Serror-rate', '26 Srv-serror-rate', '27 Rerror-rate',\n",
    "    '28 Srv-rerror-rate', '29 Same-srv-rate', '30 Diff-srv-rate', '31 Srv-diff-host-rate',\n",
    "    '32 Dst-host-count', '33 Dst-host-srv-count', '34 Dst-host-same-srv-rate',\n",
    "    '35 Dst-host-diff-srv-rate', '36 Dst-host-same-src-port-rate', '37 Dst-host-srv-diff-host-rate',\n",
    "    '38 Dst-host-serror-rate', '39 Dst-host-srv-serror-rate', '40 Dst-host-rerror-rate',\n",
    "    '41 Dst-host-srv-rerror-rate'\n",
    "]\n",
    "\n",
    "# Ensure column names are consistent and exist in both dataframes\n",
    "columns_to_keep = [col for col in columns_to_keep if col in data_x2.columns and col in data_x1.columns]\n",
    "\n",
    "# Columns to replace in x2 with values from x1 (all columns not in 'columns_to_keep')\n",
    "columns_to_replace = [col for col in data_x2.columns if col not in columns_to_keep]\n",
    "\n",
    "# Replace the values\n",
    "data_x2[columns_to_replace] = data_x1[columns_to_replace]\n",
    "# Save the modified x2 dataset\n",
    "data_x2.to_csv('modified_x2.csv', index=False)\n"
   ]
  },
  {
   "cell_type": "code",
   "execution_count": 48,
   "id": "c9f09620",
   "metadata": {},
   "outputs": [
    {
     "name": "stderr",
     "output_type": "stream",
     "text": [
      "C&W L_2: 100%|███████████████████████████████████████████████████████████████████████| 101/101 [04:05<00:00,  2.43s/it]\n"
     ]
    },
    {
     "name": "stdout",
     "output_type": "stream",
     "text": [
      "Final Training Accuracy: 69.0797%\n",
      "Final Testing Accuracy : 61.8172%\n",
      "Classification Report :\n",
      "              precision    recall  f1-score   support\n",
      "\n",
      "         0.0       0.00      0.00      0.00         0\n",
      "         1.0       1.00      0.62      0.76     12833\n",
      "\n",
      "    accuracy                           0.62     12833\n",
      "   macro avg       0.50      0.31      0.38     12833\n",
      "weighted avg       1.00      0.62      0.76     12833\n",
      "\n"
     ]
    },
    {
     "name": "stderr",
     "output_type": "stream",
     "text": [
      "C:\\Users\\Juba\\.conda\\envs\\py3.6\\lib\\site-packages\\sklearn\\metrics\\_classification.py:1248: UndefinedMetricWarning: Recall and F-score are ill-defined and being set to 0.0 in labels with no true samples. Use `zero_division` parameter to control this behavior.\n",
      "  _warn_prf(average, modifier, msg_start, len(result))\n",
      "C:\\Users\\Juba\\.conda\\envs\\py3.6\\lib\\site-packages\\sklearn\\metrics\\_classification.py:1248: UndefinedMetricWarning: Recall and F-score are ill-defined and being set to 0.0 in labels with no true samples. Use `zero_division` parameter to control this behavior.\n",
      "  _warn_prf(average, modifier, msg_start, len(result))\n",
      "C:\\Users\\Juba\\.conda\\envs\\py3.6\\lib\\site-packages\\sklearn\\metrics\\_classification.py:1248: UndefinedMetricWarning: Recall and F-score are ill-defined and being set to 0.0 in labels with no true samples. Use `zero_division` parameter to control this behavior.\n",
      "  _warn_prf(average, modifier, msg_start, len(result))\n"
     ]
    },
    {
     "name": "stdout",
     "output_type": "stream",
     "text": [
      "Accuracy                                61.817190\n",
      "Mean perturbed features   [Mean L0]    118.509468\n",
      "Max perturbed features    [Max  L0]    121.000000\n",
      "Mean Euclidiant distance  [Mean L2]      1.212284\n",
      "Max Euclidiant distance   [Max  L2]      7.401898\n",
      "Mean Maximum perturbation [Mean Li]      0.528034\n",
      "Max Maximum perturbation  [Max  Li]      1.000000\n",
      "Name: CW2, dtype: float64\n",
      "Invalid value range          0.007792\n",
      "Invalid binary values      100.000000\n",
      "Invalid class belonging    100.000000\n",
      "Name: CW2, dtype: float64\n"
     ]
    }
   ],
   "source": [
    "import numpy as np\n",
    "import torch\n",
    "import pandas as pd\n",
    "\n",
    "# Assuming 'x_test', 'model', 'classifier', and 'y_test' are already defined and loaded\n",
    "# Assuming 'data' is a DataFrame containing your entire dataset (training + testing)\n",
    "\n",
    "# Calculate min and max values for each feature from the entire dataset\n",
    "feature_data = data.iloc[:, :-1]  # Adjust this to match your actual feature columns\n",
    "\n",
    "feature_min = feature_data.min()\n",
    "feature_max = feature_data.max()\n",
    "\n",
    "# Create the adversarial examples crafter\n",
    "# Creating the adversarial examples crafter\n",
    "# Creating the adversarial examples crafter\n",
    "adversarial_crafter = CarliniL2Method(classifier,\n",
    "                                      confidence=0.0,\n",
    "                                      targeted=False,\n",
    "                                      learning_rate=0.01,\n",
    "                                      binary_search_steps=10,\n",
    "                                      max_iter=10,\n",
    "                                      initial_const=0.01,\n",
    "                                      max_halving=5,\n",
    "                                      max_doubling=5,\n",
    "                                      batch_size=128)\n",
    "\n",
    "# Generate the adversarial examples\n",
    "adversarial_examples = adversarial_crafter.generate(x=x_test.cpu())\n",
    "\n",
    "# Convert adversarial examples to torch tensors\n",
    "adversarial_examples = torch.from_numpy(adversarial_examples).float()\n",
    "\n",
    "# Ensure the perturbation for each feature stays within the observed min-max range\n",
    "for i, (min_val, max_val) in enumerate(zip(feature_min, feature_max)):\n",
    "    adversarial_examples[:, i] = torch.clamp(adversarial_examples[:, i], min=min_val, max=max_val)\n",
    "\n",
    "adversarial_examples = adversarial_examples.to(torch.device('cuda' if torch.cuda.is_available() else 'cpu'))\n",
    "\n",
    "# Continue with the evaluation and processing\n",
    "stat_model(model, x_test, y_test, adversarial_examples, y_test)\n",
    "\n",
    "# Convert to CPU numpy arrays for further analysis\n",
    "adversarial_examples_cpu = np.array(adversarial_examples.cpu())\n",
    "x_test_cpu = np.array(x_test.cpu())\n",
    "\n",
    "# Evaluate the model on adversarial examples\n",
    "_, predictions_adv = model(adversarial_examples, softmax=True).max(dim=1)\n",
    "accuracy_adv = evaluate(predictions=predictions_adv.long(), real=y_test)\n",
    "attack = 'CW2'\n",
    "adv_results[attack] = [accuracy_adv] + adv_norms(x_test_cpu, adversarial_examples_cpu)\n",
    "adv_inv[attack] = adv_criteria(x_test_cpu, adversarial_examples_cpu)\n",
    "\n",
    "# Export the adjusted adversarial examples to a CSV file\n",
    "pd.DataFrame(np.hstack((adversarial_examples_cpu, y_test.cpu().reshape(y_test.shape[0], 1))), columns=data.columns).to_csv(\"adjusted_adversarial_examples_CW2.csv\")\n",
    "\n",
    "print(adv_results[attack])\n",
    "print(adv_inv[attack])\n"
   ]
  },
  {
   "cell_type": "code",
   "execution_count": 49,
   "id": "1e4722f9",
   "metadata": {},
   "outputs": [],
   "source": [
    "import pandas as pd\n",
    "\n",
    "# Load the datasets\n",
    "data_x1 = pd.read_csv('clean_examples.csv')  # Original dataset\n",
    "data_x2 = pd.read_csv('adjusted_adversarial_examples_CW2.csv')  # Perturbed dataset\n",
    "# List of columns to keep in x2\n",
    "columns_to_keep = [\n",
    "    '1 Duration', '5 Src-bytes', '6 Dst-bytes', '8 Wrong-fragment', '9 Urgent',\n",
    "    '10 Hot', '11 Num-failed-logins', '13 Num-compromised', '15 Su-attempted',\n",
    "    '16 Num-root', '17 Num-file-creations', '18 Num-shells', '19 Num-access-files',\n",
    "    '23 Count', '24 Srv-count', '25 Serror-rate', '26 Srv-serror-rate', '27 Rerror-rate',\n",
    "    '28 Srv-rerror-rate', '29 Same-srv-rate', '30 Diff-srv-rate', '31 Srv-diff-host-rate',\n",
    "    '32 Dst-host-count', '33 Dst-host-srv-count', '34 Dst-host-same-srv-rate',\n",
    "    '35 Dst-host-diff-srv-rate', '36 Dst-host-same-src-port-rate', '37 Dst-host-srv-diff-host-rate',\n",
    "    '38 Dst-host-serror-rate', '39 Dst-host-srv-serror-rate', '40 Dst-host-rerror-rate',\n",
    "    '41 Dst-host-srv-rerror-rate'\n",
    "]\n",
    "\n",
    "# Ensure column names are consistent and exist in both dataframes\n",
    "columns_to_keep = [col for col in columns_to_keep if col in data_x2.columns and col in data_x1.columns]\n",
    "\n",
    "# Columns to replace in x2 with values from x1 (all columns not in 'columns_to_keep')\n",
    "columns_to_replace = [col for col in data_x2.columns if col not in columns_to_keep]\n",
    "\n",
    "# Replace the values\n",
    "data_x2[columns_to_replace] = data_x1[columns_to_replace]\n",
    "# Save the modified x2 dataset\n",
    "data_x2.to_csv('modified_x2.csv', index=False)\n"
   ]
  },
  {
   "cell_type": "code",
   "execution_count": 50,
   "id": "9422430e",
   "metadata": {},
   "outputs": [
    {
     "name": "stderr",
     "output_type": "stream",
     "text": [
      "C&W L_inf: 100%|█████████████████████████████████████████████████████████████████████| 101/101 [00:37<00:00,  2.72it/s]\n"
     ]
    },
    {
     "name": "stdout",
     "output_type": "stream",
     "text": [
      "Final Training Accuracy: 69.0797%\n",
      "Final Testing Accuracy : 48.0324%\n",
      "Classification Report :\n",
      "              precision    recall  f1-score   support\n",
      "\n",
      "         0.0       0.00      0.00      0.00         0\n",
      "         1.0       1.00      0.48      0.65     12833\n",
      "\n",
      "    accuracy                           0.48     12833\n",
      "   macro avg       0.50      0.24      0.32     12833\n",
      "weighted avg       1.00      0.48      0.65     12833\n",
      "\n"
     ]
    },
    {
     "name": "stderr",
     "output_type": "stream",
     "text": [
      "C:\\Users\\Juba\\.conda\\envs\\py3.6\\lib\\site-packages\\sklearn\\metrics\\_classification.py:1248: UndefinedMetricWarning: Recall and F-score are ill-defined and being set to 0.0 in labels with no true samples. Use `zero_division` parameter to control this behavior.\n",
      "  _warn_prf(average, modifier, msg_start, len(result))\n",
      "C:\\Users\\Juba\\.conda\\envs\\py3.6\\lib\\site-packages\\sklearn\\metrics\\_classification.py:1248: UndefinedMetricWarning: Recall and F-score are ill-defined and being set to 0.0 in labels with no true samples. Use `zero_division` parameter to control this behavior.\n",
      "  _warn_prf(average, modifier, msg_start, len(result))\n",
      "C:\\Users\\Juba\\.conda\\envs\\py3.6\\lib\\site-packages\\sklearn\\metrics\\_classification.py:1248: UndefinedMetricWarning: Recall and F-score are ill-defined and being set to 0.0 in labels with no true samples. Use `zero_division` parameter to control this behavior.\n",
      "  _warn_prf(average, modifier, msg_start, len(result))\n"
     ]
    },
    {
     "name": "stdout",
     "output_type": "stream",
     "text": [
      "Accuracy                                48.032416\n",
      "Mean perturbed features   [Mean L0]     82.099665\n",
      "Max perturbed features    [Max  L0]    121.000000\n",
      "Mean Euclidiant distance  [Mean L2]      0.116756\n",
      "Max Euclidiant distance   [Max  L2]      0.520288\n",
      "Mean Maximum perturbation [Mean Li]      0.073765\n",
      "Max Maximum perturbation  [Max  Li]      0.100000\n",
      "Name: CWinf, dtype: float64\n",
      "Invalid value range         0.007792\n",
      "Invalid binary values      80.191693\n",
      "Invalid class belonging    80.191693\n",
      "Name: CWinf, dtype: float64\n"
     ]
    }
   ],
   "source": [
    "import numpy as np\n",
    "import torch\n",
    "import pandas as pd\n",
    "\n",
    "# Assuming 'x_test', 'model', 'classifier', and 'y_test' are already defined and loaded\n",
    "# Assuming 'data' is a DataFrame containing your entire dataset (training + testing)\n",
    "\n",
    "# Calculate min and max values for each feature from the entire dataset\n",
    "feature_data = data.iloc[:, :-1]  # Adjust this to match your actual feature columns\n",
    "\n",
    "feature_min = feature_data.min()\n",
    "feature_max = feature_data.max()\n",
    "\n",
    "# Create the adversarial examples crafter\n",
    "# Creating the adversarial examples crafter\n",
    "# Creating the adversarial examples crafter\n",
    "adversarial_crafter = CarliniLInfMethod(classifier,\n",
    "                                        confidence=0.0,\n",
    "                                        targeted=False,\n",
    "                                        learning_rate=0.01,\n",
    "                                        max_iter=10,\n",
    "                                        max_halving=5,\n",
    "                                        max_doubling=5,\n",
    "                                        eps=0.1,\n",
    "                                        batch_size=128)\n",
    "\n",
    "# Generate the adversarial examples\n",
    "adversarial_examples = adversarial_crafter.generate(x=x_test.cpu())\n",
    "\n",
    "# Convert adversarial examples to torch tensors\n",
    "adversarial_examples = torch.from_numpy(adversarial_examples).float()\n",
    "\n",
    "# Ensure the perturbation for each feature stays within the observed min-max range\n",
    "for i, (min_val, max_val) in enumerate(zip(feature_min, feature_max)):\n",
    "    adversarial_examples[:, i] = torch.clamp(adversarial_examples[:, i], min=min_val, max=max_val)\n",
    "\n",
    "adversarial_examples = adversarial_examples.to(torch.device('cuda' if torch.cuda.is_available() else 'cpu'))\n",
    "\n",
    "# Continue with the evaluation and processing\n",
    "stat_model(model, x_test, y_test, adversarial_examples, y_test)\n",
    "\n",
    "# Convert to CPU numpy arrays for further analysis\n",
    "adversarial_examples_cpu = np.array(adversarial_examples.cpu())\n",
    "x_test_cpu = np.array(x_test.cpu())\n",
    "\n",
    "# Evaluate the model on adversarial examples\n",
    "_, predictions_adv = model(adversarial_examples, softmax=True).max(dim=1)\n",
    "accuracy_adv = evaluate(predictions=predictions_adv.long(), real=y_test)\n",
    "attack = 'CWinf'\n",
    "adv_results[attack] = [accuracy_adv] + adv_norms(x_test_cpu, adversarial_examples_cpu)\n",
    "adv_inv[attack] = adv_criteria(x_test_cpu, adversarial_examples_cpu)\n",
    "\n",
    "# Export the adjusted adversarial examples to a CSV file\n",
    "pd.DataFrame(np.hstack((adversarial_examples_cpu, y_test.cpu().reshape(y_test.shape[0], 1))), columns=data.columns).to_csv(\"adjusted_adversarial_examples_CWinf-KDD.csv\")\n",
    "\n",
    "print(adv_results[attack])\n",
    "print(adv_inv[attack])\n"
   ]
  },
  {
   "cell_type": "code",
   "execution_count": 51,
   "id": "54e4c010",
   "metadata": {},
   "outputs": [],
   "source": [
    "import pandas as pd\n",
    "\n",
    "# Load the datasets\n",
    "data_x1 = pd.read_csv('clean_examples.csv')  # Original dataset\n",
    "data_x2 = pd.read_csv('adjusted_adversarial_examples_CW2.csv')  # Perturbed dataset\n",
    "# List of columns to keep in x2\n",
    "columns_to_keep = [\n",
    "    '1 Duration', '5 Src-bytes', '6 Dst-bytes', '8 Wrong-fragment', '9 Urgent',\n",
    "    '10 Hot', '11 Num-failed-logins', '13 Num-compromised', '15 Su-attempted',\n",
    "    '16 Num-root', '17 Num-file-creations', '18 Num-shells', '19 Num-access-files',\n",
    "    '23 Count', '24 Srv-count', '25 Serror-rate', '26 Srv-serror-rate', '27 Rerror-rate',\n",
    "    '28 Srv-rerror-rate', '29 Same-srv-rate', '30 Diff-srv-rate', '31 Srv-diff-host-rate',\n",
    "    '32 Dst-host-count', '33 Dst-host-srv-count', '34 Dst-host-same-srv-rate',\n",
    "    '35 Dst-host-diff-srv-rate', '36 Dst-host-same-src-port-rate', '37 Dst-host-srv-diff-host-rate',\n",
    "    '38 Dst-host-serror-rate', '39 Dst-host-srv-serror-rate', '40 Dst-host-rerror-rate',\n",
    "    '41 Dst-host-srv-rerror-rate'\n",
    "]\n",
    "\n",
    "# Ensure column names are consistent and exist in both dataframes\n",
    "columns_to_keep = [col for col in columns_to_keep if col in data_x2.columns and col in data_x1.columns]\n",
    "\n",
    "# Columns to replace in x2 with values from x1 (all columns not in 'columns_to_keep')\n",
    "columns_to_replace = [col for col in data_x2.columns if col not in columns_to_keep]\n",
    "\n",
    "# Replace the values\n",
    "data_x2[columns_to_replace] = data_x1[columns_to_replace]\n",
    "# Save the modified x2 dataset\n",
    "data_x2.to_csv('modified_x2.csv', index=False)\n"
   ]
  },
  {
   "cell_type": "code",
   "execution_count": null,
   "id": "2a0f0a96",
   "metadata": {},
   "outputs": [],
   "source": []
  },
  {
   "cell_type": "code",
   "execution_count": 54,
   "id": "cbc08b67",
   "metadata": {},
   "outputs": [
    {
     "data": {
      "text/plain": [
       "'\\n# Creating the adversarial examples crafter\\nadversarial_crafter = ElasticNet(classifier,\\n                                         norm=\\'inf\\',\\n                                        \\n                                         targeted=False,\\n                                        \\n                                         batch_size=32,\\n                                         )\\n\\n# Generating the adversarial examples\\nadversarial_examples = adversarial_crafter.generate(x=x_test.cpu())\\n\\nadversarial_examples = torch.from_numpy(adversarial_examples).float()\\nadversarial_examples = adversarial_examples.to(torch.device(\\'cuda\\' if torch.cuda.is_available() else \\'cpu\\'))\\nstat_model(model, x_test, y_test, adversarial_examples, y_test)\\n\\nadversarial_examples_cpu = np.array(adversarial_examples.cpu())\\nx_test_cpu = np.array(x_test.cpu())\\n\\n_, predictions_adv = model(adversarial_examples, softmax=True).max(dim=1)\\naccuracy_adv = evaluate(predictions=predictions_adv.long(), real=y_test)\\nattack = \\'Wasserstein\\'\\nadv_results[attack] = [accuracy_adv] + adv_norms(x_test_cpu, adversarial_examples_cpu)\\nadv_inv[attack] = adv_criteria(x_test_cpu, adversarial_examples_cpu)\\n\\n# Exporting the adversarial examples in a .csv file\\npd.DataFrame(np.hstack((adversarial_examples_cpu,y_test.cpu().reshape(y_test.shape[0], 1))), columns=data.columns).to_csv(\"adversarial_examples_FGSM.csv\")\\n\\n# Saving the statistics in a table\\nperturbation = np.abs(adversarial_examples_cpu - x_test_cpu)\\nadv_feat_stats[attack] = ((perturbation > 10e-6).sum(axis=0) / perturbation.shape[0]) * 100\\n\\nprint(adv_results[attack])\\nprint(adv_inv[attack])'"
      ]
     },
     "execution_count": 54,
     "metadata": {},
     "output_type": "execute_result"
    }
   ],
   "source": [
    "'''\n",
    "# Creating the adversarial examples crafter\n",
    "adversarial_crafter = ElasticNet(classifier,\n",
    "                                         norm='inf',\n",
    "                                        \n",
    "                                         targeted=False,\n",
    "                                        \n",
    "                                         batch_size=32,\n",
    "                                         )\n",
    "\n",
    "# Generating the adversarial examples\n",
    "adversarial_examples = adversarial_crafter.generate(x=x_test.cpu())\n",
    "\n",
    "adversarial_examples = torch.from_numpy(adversarial_examples).float()\n",
    "adversarial_examples = adversarial_examples.to(torch.device('cuda' if torch.cuda.is_available() else 'cpu'))\n",
    "stat_model(model, x_test, y_test, adversarial_examples, y_test)\n",
    "\n",
    "adversarial_examples_cpu = np.array(adversarial_examples.cpu())\n",
    "x_test_cpu = np.array(x_test.cpu())\n",
    "\n",
    "_, predictions_adv = model(adversarial_examples, softmax=True).max(dim=1)\n",
    "accuracy_adv = evaluate(predictions=predictions_adv.long(), real=y_test)\n",
    "attack = 'Wasserstein'\n",
    "adv_results[attack] = [accuracy_adv] + adv_norms(x_test_cpu, adversarial_examples_cpu)\n",
    "adv_inv[attack] = adv_criteria(x_test_cpu, adversarial_examples_cpu)\n",
    "\n",
    "# Exporting the adversarial examples in a .csv file\n",
    "pd.DataFrame(np.hstack((adversarial_examples_cpu,y_test.cpu().reshape(y_test.shape[0], 1))), columns=data.columns).to_csv(\"adversarial_examples_FGSM.csv\")\n",
    "\n",
    "# Saving the statistics in a table\n",
    "perturbation = np.abs(adversarial_examples_cpu - x_test_cpu)\n",
    "adv_feat_stats[attack] = ((perturbation > 10e-6).sum(axis=0) / perturbation.shape[0]) * 100\n",
    "\n",
    "print(adv_results[attack])\n",
    "print(adv_inv[attack])'''"
   ]
  },
  {
   "cell_type": "code",
   "execution_count": 55,
   "id": "2589f38b",
   "metadata": {},
   "outputs": [
    {
     "ename": "ValueError",
     "evalue": "zero-size array to reduction operation fmin which has no identity",
     "output_type": "error",
     "traceback": [
      "\u001b[1;31m---------------------------------------------------------------------------\u001b[0m",
      "\u001b[1;31mValueError\u001b[0m                                Traceback (most recent call last)",
      "\u001b[1;32m<ipython-input-55-118f365b622d>\u001b[0m in \u001b[0;36m<module>\u001b[1;34m\u001b[0m\n\u001b[0;32m      7\u001b[0m \u001b[0mfig\u001b[0m\u001b[1;33m,\u001b[0m \u001b[0max\u001b[0m \u001b[1;33m=\u001b[0m \u001b[0mplt\u001b[0m\u001b[1;33m.\u001b[0m\u001b[0msubplots\u001b[0m\u001b[1;33m(\u001b[0m\u001b[0mfigsize\u001b[0m\u001b[1;33m=\u001b[0m\u001b[1;33m(\u001b[0m\u001b[1;36m7\u001b[0m\u001b[1;33m,\u001b[0m\u001b[1;36m40\u001b[0m\u001b[1;33m)\u001b[0m\u001b[1;33m)\u001b[0m\u001b[1;33m\u001b[0m\u001b[1;33m\u001b[0m\u001b[0m\n\u001b[0;32m      8\u001b[0m \u001b[1;33m\u001b[0m\u001b[0m\n\u001b[1;32m----> 9\u001b[1;33m \u001b[0msb\u001b[0m\u001b[1;33m.\u001b[0m\u001b[0mheatmap\u001b[0m\u001b[1;33m(\u001b[0m\u001b[0madv_feat_stats\u001b[0m\u001b[1;33m.\u001b[0m\u001b[0mround\u001b[0m\u001b[1;33m(\u001b[0m\u001b[0mdecimals\u001b[0m\u001b[1;33m=\u001b[0m\u001b[1;36m2\u001b[0m\u001b[1;33m)\u001b[0m\u001b[1;33m,\u001b[0m \u001b[0mannot\u001b[0m\u001b[1;33m=\u001b[0m\u001b[1;32mTrue\u001b[0m\u001b[1;33m,\u001b[0m \u001b[0mcmap\u001b[0m\u001b[1;33m=\u001b[0m\u001b[1;34m'YlOrRd'\u001b[0m\u001b[1;33m,\u001b[0m \u001b[0mfmt\u001b[0m\u001b[1;33m=\u001b[0m\u001b[1;34m'g'\u001b[0m\u001b[1;33m)\u001b[0m\u001b[1;33m\u001b[0m\u001b[1;33m\u001b[0m\u001b[0m\n\u001b[0m\u001b[0;32m     10\u001b[0m \u001b[1;33m\u001b[0m\u001b[0m\n\u001b[0;32m     11\u001b[0m \u001b[0mplt\u001b[0m\u001b[1;33m.\u001b[0m\u001b[0msavefig\u001b[0m\u001b[1;33m(\u001b[0m\u001b[1;34m\"hmap_features_stats.eps\"\u001b[0m\u001b[1;33m,\u001b[0m \u001b[0mformat\u001b[0m\u001b[1;33m=\u001b[0m\u001b[1;34m\"eps\"\u001b[0m\u001b[1;33m,\u001b[0m \u001b[0mbbox_inches\u001b[0m\u001b[1;33m=\u001b[0m\u001b[1;34m'tight'\u001b[0m\u001b[1;33m)\u001b[0m\u001b[1;33m\u001b[0m\u001b[1;33m\u001b[0m\u001b[0m\n",
      "\u001b[1;32m~\\.conda\\envs\\py3.6\\lib\\site-packages\\seaborn\\_decorators.py\u001b[0m in \u001b[0;36minner_f\u001b[1;34m(*args, **kwargs)\u001b[0m\n\u001b[0;32m     44\u001b[0m             )\n\u001b[0;32m     45\u001b[0m         \u001b[0mkwargs\u001b[0m\u001b[1;33m.\u001b[0m\u001b[0mupdate\u001b[0m\u001b[1;33m(\u001b[0m\u001b[1;33m{\u001b[0m\u001b[0mk\u001b[0m\u001b[1;33m:\u001b[0m \u001b[0marg\u001b[0m \u001b[1;32mfor\u001b[0m \u001b[0mk\u001b[0m\u001b[1;33m,\u001b[0m \u001b[0marg\u001b[0m \u001b[1;32min\u001b[0m \u001b[0mzip\u001b[0m\u001b[1;33m(\u001b[0m\u001b[0msig\u001b[0m\u001b[1;33m.\u001b[0m\u001b[0mparameters\u001b[0m\u001b[1;33m,\u001b[0m \u001b[0margs\u001b[0m\u001b[1;33m)\u001b[0m\u001b[1;33m}\u001b[0m\u001b[1;33m)\u001b[0m\u001b[1;33m\u001b[0m\u001b[1;33m\u001b[0m\u001b[0m\n\u001b[1;32m---> 46\u001b[1;33m         \u001b[1;32mreturn\u001b[0m \u001b[0mf\u001b[0m\u001b[1;33m(\u001b[0m\u001b[1;33m**\u001b[0m\u001b[0mkwargs\u001b[0m\u001b[1;33m)\u001b[0m\u001b[1;33m\u001b[0m\u001b[1;33m\u001b[0m\u001b[0m\n\u001b[0m\u001b[0;32m     47\u001b[0m     \u001b[1;32mreturn\u001b[0m \u001b[0minner_f\u001b[0m\u001b[1;33m\u001b[0m\u001b[1;33m\u001b[0m\u001b[0m\n\u001b[0;32m     48\u001b[0m \u001b[1;33m\u001b[0m\u001b[0m\n",
      "\u001b[1;32m~\\.conda\\envs\\py3.6\\lib\\site-packages\\seaborn\\matrix.py\u001b[0m in \u001b[0;36mheatmap\u001b[1;34m(data, vmin, vmax, cmap, center, robust, annot, fmt, annot_kws, linewidths, linecolor, cbar, cbar_kws, cbar_ax, square, xticklabels, yticklabels, mask, ax, **kwargs)\u001b[0m\n\u001b[0;32m    540\u001b[0m     plotter = _HeatMapper(data, vmin, vmax, cmap, center, robust, annot, fmt,\n\u001b[0;32m    541\u001b[0m                           \u001b[0mannot_kws\u001b[0m\u001b[1;33m,\u001b[0m \u001b[0mcbar\u001b[0m\u001b[1;33m,\u001b[0m \u001b[0mcbar_kws\u001b[0m\u001b[1;33m,\u001b[0m \u001b[0mxticklabels\u001b[0m\u001b[1;33m,\u001b[0m\u001b[1;33m\u001b[0m\u001b[1;33m\u001b[0m\u001b[0m\n\u001b[1;32m--> 542\u001b[1;33m                           yticklabels, mask)\n\u001b[0m\u001b[0;32m    543\u001b[0m \u001b[1;33m\u001b[0m\u001b[0m\n\u001b[0;32m    544\u001b[0m     \u001b[1;31m# Add the pcolormesh kwargs here\u001b[0m\u001b[1;33m\u001b[0m\u001b[1;33m\u001b[0m\u001b[1;33m\u001b[0m\u001b[0m\n",
      "\u001b[1;32m~\\.conda\\envs\\py3.6\\lib\\site-packages\\seaborn\\matrix.py\u001b[0m in \u001b[0;36m__init__\u001b[1;34m(self, data, vmin, vmax, cmap, center, robust, annot, fmt, annot_kws, cbar, cbar_kws, xticklabels, yticklabels, mask)\u001b[0m\n\u001b[0;32m    158\u001b[0m         \u001b[1;31m# Determine good default values for the colormapping\u001b[0m\u001b[1;33m\u001b[0m\u001b[1;33m\u001b[0m\u001b[1;33m\u001b[0m\u001b[0m\n\u001b[0;32m    159\u001b[0m         self._determine_cmap_params(plot_data, vmin, vmax,\n\u001b[1;32m--> 160\u001b[1;33m                                     cmap, center, robust)\n\u001b[0m\u001b[0;32m    161\u001b[0m \u001b[1;33m\u001b[0m\u001b[0m\n\u001b[0;32m    162\u001b[0m         \u001b[1;31m# Sort out the annotations\u001b[0m\u001b[1;33m\u001b[0m\u001b[1;33m\u001b[0m\u001b[1;33m\u001b[0m\u001b[0m\n",
      "\u001b[1;32m~\\.conda\\envs\\py3.6\\lib\\site-packages\\seaborn\\matrix.py\u001b[0m in \u001b[0;36m_determine_cmap_params\u001b[1;34m(self, plot_data, vmin, vmax, cmap, center, robust)\u001b[0m\n\u001b[0;32m    196\u001b[0m                 \u001b[0mvmin\u001b[0m \u001b[1;33m=\u001b[0m \u001b[0mnp\u001b[0m\u001b[1;33m.\u001b[0m\u001b[0mnanpercentile\u001b[0m\u001b[1;33m(\u001b[0m\u001b[0mcalc_data\u001b[0m\u001b[1;33m,\u001b[0m \u001b[1;36m2\u001b[0m\u001b[1;33m)\u001b[0m\u001b[1;33m\u001b[0m\u001b[1;33m\u001b[0m\u001b[0m\n\u001b[0;32m    197\u001b[0m             \u001b[1;32melse\u001b[0m\u001b[1;33m:\u001b[0m\u001b[1;33m\u001b[0m\u001b[1;33m\u001b[0m\u001b[0m\n\u001b[1;32m--> 198\u001b[1;33m                 \u001b[0mvmin\u001b[0m \u001b[1;33m=\u001b[0m \u001b[0mnp\u001b[0m\u001b[1;33m.\u001b[0m\u001b[0mnanmin\u001b[0m\u001b[1;33m(\u001b[0m\u001b[0mcalc_data\u001b[0m\u001b[1;33m)\u001b[0m\u001b[1;33m\u001b[0m\u001b[1;33m\u001b[0m\u001b[0m\n\u001b[0m\u001b[0;32m    199\u001b[0m         \u001b[1;32mif\u001b[0m \u001b[0mvmax\u001b[0m \u001b[1;32mis\u001b[0m \u001b[1;32mNone\u001b[0m\u001b[1;33m:\u001b[0m\u001b[1;33m\u001b[0m\u001b[1;33m\u001b[0m\u001b[0m\n\u001b[0;32m    200\u001b[0m             \u001b[1;32mif\u001b[0m \u001b[0mrobust\u001b[0m\u001b[1;33m:\u001b[0m\u001b[1;33m\u001b[0m\u001b[1;33m\u001b[0m\u001b[0m\n",
      "\u001b[1;32m<__array_function__ internals>\u001b[0m in \u001b[0;36mnanmin\u001b[1;34m(*args, **kwargs)\u001b[0m\n",
      "\u001b[1;32m~\\.conda\\envs\\py3.6\\lib\\site-packages\\numpy\\lib\\nanfunctions.py\u001b[0m in \u001b[0;36mnanmin\u001b[1;34m(a, axis, out, keepdims)\u001b[0m\n\u001b[0;32m    317\u001b[0m         \u001b[1;31m# Fast, but not safe for subclasses of ndarray, or object arrays,\u001b[0m\u001b[1;33m\u001b[0m\u001b[1;33m\u001b[0m\u001b[1;33m\u001b[0m\u001b[0m\n\u001b[0;32m    318\u001b[0m         \u001b[1;31m# which do not implement isnan (gh-9009), or fmin correctly (gh-8975)\u001b[0m\u001b[1;33m\u001b[0m\u001b[1;33m\u001b[0m\u001b[1;33m\u001b[0m\u001b[0m\n\u001b[1;32m--> 319\u001b[1;33m         \u001b[0mres\u001b[0m \u001b[1;33m=\u001b[0m \u001b[0mnp\u001b[0m\u001b[1;33m.\u001b[0m\u001b[0mfmin\u001b[0m\u001b[1;33m.\u001b[0m\u001b[0mreduce\u001b[0m\u001b[1;33m(\u001b[0m\u001b[0ma\u001b[0m\u001b[1;33m,\u001b[0m \u001b[0maxis\u001b[0m\u001b[1;33m=\u001b[0m\u001b[0maxis\u001b[0m\u001b[1;33m,\u001b[0m \u001b[0mout\u001b[0m\u001b[1;33m=\u001b[0m\u001b[0mout\u001b[0m\u001b[1;33m,\u001b[0m \u001b[1;33m**\u001b[0m\u001b[0mkwargs\u001b[0m\u001b[1;33m)\u001b[0m\u001b[1;33m\u001b[0m\u001b[1;33m\u001b[0m\u001b[0m\n\u001b[0m\u001b[0;32m    320\u001b[0m         \u001b[1;32mif\u001b[0m \u001b[0mnp\u001b[0m\u001b[1;33m.\u001b[0m\u001b[0misnan\u001b[0m\u001b[1;33m(\u001b[0m\u001b[0mres\u001b[0m\u001b[1;33m)\u001b[0m\u001b[1;33m.\u001b[0m\u001b[0many\u001b[0m\u001b[1;33m(\u001b[0m\u001b[1;33m)\u001b[0m\u001b[1;33m:\u001b[0m\u001b[1;33m\u001b[0m\u001b[1;33m\u001b[0m\u001b[0m\n\u001b[0;32m    321\u001b[0m             warnings.warn(\"All-NaN slice encountered\", RuntimeWarning,\n",
      "\u001b[1;31mValueError\u001b[0m: zero-size array to reduction operation fmin which has no identity"
     ]
    },
    {
     "data": {
      "image/png": "[encoded data removed]",
      "text/plain": [
       "<Figure size 504x2880 with 1 Axes>"
      ]
     },
     "metadata": {
      "needs_background": "light"
     },
     "output_type": "display_data"
    }
   ],
   "source": [
    "adv_results.to_csv(\"adv_results1.csv\")\n",
    "adv_results\n",
    "\n",
    "adv_feat_stats.to_csv(\"adv_feat_stats1.csv\")\n",
    "adv_feat_stats\n",
    "\n",
    "fig, ax = plt.subplots(figsize=(7,40))\n",
    "\n",
    "sb.heatmap(adv_feat_stats.round(decimals=2), annot=True, cmap='YlOrRd', fmt='g')\n",
    "\n",
    "plt.savefig(\"hmap_features_stats.eps\", format=\"eps\", bbox_inches='tight')\n",
    "plt.show()\n",
    "\n",
    "adv_inv.to_csv(\"./adv_inv\")\n",
    "adv_inv"
   ]
  },
  {
   "cell_type": "code",
   "execution_count": null,
   "id": "447edc81",
   "metadata": {},
   "outputs": [],
   "source": []
  }
 ],
 "metadata": {
  "kernelspec": {
   "display_name": "Python 3 (ipykernel)",
   "language": "python",
   "name": "python3"
  },
  "language_info": {
   "codemirror_mode": {
    "name": "ipython",
    "version": 3
   },
   "file_extension": ".py",
   "mimetype": "text/x-python",
   "name": "python",
   "nbconvert_exporter": "python",
   "pygments_lexer": "ipython3",
   "version": "3.6.13"
  }
 },
 "nbformat": 4,
 "nbformat_minor": 5
}
