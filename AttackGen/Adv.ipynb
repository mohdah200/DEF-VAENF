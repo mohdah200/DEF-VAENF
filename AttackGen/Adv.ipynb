{
 "cells": [
  {
   "cell_type": "code",
   "execution_count": 1,
   "id": "71ccf438",
   "metadata": {},
   "outputs": [],
   "source": [
    "import pandas as pd\n",
    "import numpy as np\n",
    "\n",
    "missing_values = [\"n/a\", \"na\", \"Infinity\", \"NaN\",\"nan\",\"-\",\"excel\",\"?\",\"#DIV/0!\",\"aza\"]\n",
    "df = pd.read_csv(\"output.csv\", na_values = missing_values, engine='python', skipinitialspace=True)\n",
    "\n",
    "df['class3'].value_counts()\n",
    "df['class3'] = (df['class3'] != 'Normal').astype('int64')\n"
   ]
  },
  {
   "cell_type": "code",
   "execution_count": 2,
   "id": "2a6deb43",
   "metadata": {},
   "outputs": [
    {
     "data": {
      "text/html": [
       "<div>\n",
       "<style scoped>\n",
       "    .dataframe tbody tr th:only-of-type {\n",
       "        vertical-align: middle;\n",
       "    }\n",
       "\n",
       "    .dataframe tbody tr th {\n",
       "        vertical-align: top;\n",
       "    }\n",
       "\n",
       "    .dataframe thead th {\n",
       "        text-align: right;\n",
       "    }\n",
       "</style>\n",
       "<table border=\"1\" class=\"dataframe\">\n",
       "  <thead>\n",
       "    <tr style=\"text-align: right;\">\n",
       "      <th></th>\n",
       "      <th>Scr_port</th>\n",
       "      <th>Des_port</th>\n",
       "      <th>Duration</th>\n",
       "      <th>Scr_bytes</th>\n",
       "      <th>Des_bytes</th>\n",
       "      <th>Conn_state</th>\n",
       "      <th>missed_bytes</th>\n",
       "      <th>Scr_pkts</th>\n",
       "      <th>Scr_ip_bytes</th>\n",
       "      <th>Des_pkts</th>\n",
       "      <th>...</th>\n",
       "      <th>std_num_cswch/s</th>\n",
       "      <th>OSSEC_alert</th>\n",
       "      <th>OSSEC_alert_level</th>\n",
       "      <th>Login_attempt</th>\n",
       "      <th>Succesful_login</th>\n",
       "      <th>File_activity</th>\n",
       "      <th>Process_activity</th>\n",
       "      <th>read_write_physical.process</th>\n",
       "      <th>is_privileged</th>\n",
       "      <th>class3</th>\n",
       "    </tr>\n",
       "  </thead>\n",
       "  <tbody>\n",
       "    <tr>\n",
       "      <th>count</th>\n",
       "      <td>820834.000000</td>\n",
       "      <td>820834.000000</td>\n",
       "      <td>820834.000000</td>\n",
       "      <td>8.208340e+05</td>\n",
       "      <td>8.208340e+05</td>\n",
       "      <td>820834.000000</td>\n",
       "      <td>8.208340e+05</td>\n",
       "      <td>820834.000000</td>\n",
       "      <td>8.208340e+05</td>\n",
       "      <td>820834.000000</td>\n",
       "      <td>...</td>\n",
       "      <td>820834.000000</td>\n",
       "      <td>820834.000000</td>\n",
       "      <td>820834.000000</td>\n",
       "      <td>820834.000000</td>\n",
       "      <td>820834.000000</td>\n",
       "      <td>820834.000000</td>\n",
       "      <td>820834.000000</td>\n",
       "      <td>820834.000000</td>\n",
       "      <td>820834.000000</td>\n",
       "      <td>820834.000000</td>\n",
       "    </tr>\n",
       "    <tr>\n",
       "      <th>mean</th>\n",
       "      <td>45797.080445</td>\n",
       "      <td>2241.951010</td>\n",
       "      <td>8.836006</td>\n",
       "      <td>1.543171e+03</td>\n",
       "      <td>4.106793e+04</td>\n",
       "      <td>0.851623</td>\n",
       "      <td>3.561576e+01</td>\n",
       "      <td>19.982422</td>\n",
       "      <td>2.617461e+03</td>\n",
       "      <td>28.034107</td>\n",
       "      <td>...</td>\n",
       "      <td>622.803246</td>\n",
       "      <td>0.051186</td>\n",
       "      <td>0.267717</td>\n",
       "      <td>0.087305</td>\n",
       "      <td>0.082730</td>\n",
       "      <td>0.072650</td>\n",
       "      <td>0.082620</td>\n",
       "      <td>0.355309</td>\n",
       "      <td>0.082456</td>\n",
       "      <td>0.486599</td>\n",
       "    </tr>\n",
       "    <tr>\n",
       "      <th>std</th>\n",
       "      <td>12262.366538</td>\n",
       "      <td>4851.426032</td>\n",
       "      <td>113.660584</td>\n",
       "      <td>7.438088e+03</td>\n",
       "      <td>2.806001e+05</td>\n",
       "      <td>0.355474</td>\n",
       "      <td>3.979548e+03</td>\n",
       "      <td>270.645899</td>\n",
       "      <td>1.929378e+04</td>\n",
       "      <td>262.657795</td>\n",
       "      <td>...</td>\n",
       "      <td>862.925868</td>\n",
       "      <td>0.220377</td>\n",
       "      <td>1.178027</td>\n",
       "      <td>0.282282</td>\n",
       "      <td>0.275475</td>\n",
       "      <td>0.259562</td>\n",
       "      <td>0.275307</td>\n",
       "      <td>0.478607</td>\n",
       "      <td>0.275059</td>\n",
       "      <td>0.499821</td>\n",
       "    </tr>\n",
       "    <tr>\n",
       "      <th>min</th>\n",
       "      <td>3.000000</td>\n",
       "      <td>0.000000</td>\n",
       "      <td>0.000001</td>\n",
       "      <td>0.000000e+00</td>\n",
       "      <td>0.000000e+00</td>\n",
       "      <td>0.000000</td>\n",
       "      <td>0.000000e+00</td>\n",
       "      <td>0.000000</td>\n",
       "      <td>0.000000e+00</td>\n",
       "      <td>0.000000</td>\n",
       "      <td>...</td>\n",
       "      <td>-1918.070330</td>\n",
       "      <td>0.000000</td>\n",
       "      <td>0.000000</td>\n",
       "      <td>0.000000</td>\n",
       "      <td>0.000000</td>\n",
       "      <td>0.000000</td>\n",
       "      <td>0.000000</td>\n",
       "      <td>0.000000</td>\n",
       "      <td>0.000000</td>\n",
       "      <td>0.000000</td>\n",
       "    </tr>\n",
       "    <tr>\n",
       "      <th>25%</th>\n",
       "      <td>39134.000000</td>\n",
       "      <td>53.000000</td>\n",
       "      <td>0.000248</td>\n",
       "      <td>7.400000e+01</td>\n",
       "      <td>3.700000e+01</td>\n",
       "      <td>1.000000</td>\n",
       "      <td>0.000000e+00</td>\n",
       "      <td>1.000000</td>\n",
       "      <td>1.340000e+02</td>\n",
       "      <td>1.000000</td>\n",
       "      <td>...</td>\n",
       "      <td>233.921354</td>\n",
       "      <td>0.000000</td>\n",
       "      <td>0.000000</td>\n",
       "      <td>0.000000</td>\n",
       "      <td>0.000000</td>\n",
       "      <td>0.000000</td>\n",
       "      <td>0.000000</td>\n",
       "      <td>0.000000</td>\n",
       "      <td>0.000000</td>\n",
       "      <td>0.000000</td>\n",
       "    </tr>\n",
       "    <tr>\n",
       "      <th>50%</th>\n",
       "      <td>48346.000000</td>\n",
       "      <td>80.000000</td>\n",
       "      <td>0.015397</td>\n",
       "      <td>1.560000e+02</td>\n",
       "      <td>7.200000e+01</td>\n",
       "      <td>1.000000</td>\n",
       "      <td>0.000000e+00</td>\n",
       "      <td>2.000000</td>\n",
       "      <td>5.900000e+02</td>\n",
       "      <td>1.000000</td>\n",
       "      <td>...</td>\n",
       "      <td>314.989222</td>\n",
       "      <td>0.000000</td>\n",
       "      <td>0.000000</td>\n",
       "      <td>0.000000</td>\n",
       "      <td>0.000000</td>\n",
       "      <td>0.000000</td>\n",
       "      <td>0.000000</td>\n",
       "      <td>0.000000</td>\n",
       "      <td>0.000000</td>\n",
       "      <td>0.000000</td>\n",
       "    </tr>\n",
       "    <tr>\n",
       "      <th>75%</th>\n",
       "      <td>54492.000000</td>\n",
       "      <td>5355.000000</td>\n",
       "      <td>4.961307</td>\n",
       "      <td>6.080000e+02</td>\n",
       "      <td>3.100000e+02</td>\n",
       "      <td>1.000000</td>\n",
       "      <td>0.000000e+00</td>\n",
       "      <td>6.000000</td>\n",
       "      <td>9.280000e+02</td>\n",
       "      <td>5.000000</td>\n",
       "      <td>...</td>\n",
       "      <td>468.824157</td>\n",
       "      <td>0.000000</td>\n",
       "      <td>0.000000</td>\n",
       "      <td>0.000000</td>\n",
       "      <td>0.000000</td>\n",
       "      <td>0.000000</td>\n",
       "      <td>0.000000</td>\n",
       "      <td>1.000000</td>\n",
       "      <td>0.000000</td>\n",
       "      <td>1.000000</td>\n",
       "    </tr>\n",
       "    <tr>\n",
       "      <th>max</th>\n",
       "      <td>65535.000000</td>\n",
       "      <td>65389.000000</td>\n",
       "      <td>9331.420034</td>\n",
       "      <td>1.665228e+06</td>\n",
       "      <td>1.935968e+07</td>\n",
       "      <td>1.000000</td>\n",
       "      <td>1.882937e+06</td>\n",
       "      <td>65541.000000</td>\n",
       "      <td>4.194548e+06</td>\n",
       "      <td>65575.000000</td>\n",
       "      <td>...</td>\n",
       "      <td>7250.787108</td>\n",
       "      <td>1.000000</td>\n",
       "      <td>10.000000</td>\n",
       "      <td>1.000000</td>\n",
       "      <td>1.000000</td>\n",
       "      <td>1.000000</td>\n",
       "      <td>1.000000</td>\n",
       "      <td>1.000000</td>\n",
       "      <td>1.000000</td>\n",
       "      <td>1.000000</td>\n",
       "    </tr>\n",
       "  </tbody>\n",
       "</table>\n",
       "<p>8 rows × 52 columns</p>\n",
       "</div>"
      ],
      "text/plain": [
       "            Scr_port       Des_port       Duration     Scr_bytes  \\\n",
       "count  820834.000000  820834.000000  820834.000000  8.208340e+05   \n",
       "mean    45797.080445    2241.951010       8.836006  1.543171e+03   \n",
       "std     12262.366538    4851.426032     113.660584  7.438088e+03   \n",
       "min         3.000000       0.000000       0.000001  0.000000e+00   \n",
       "25%     39134.000000      53.000000       0.000248  7.400000e+01   \n",
       "50%     48346.000000      80.000000       0.015397  1.560000e+02   \n",
       "75%     54492.000000    5355.000000       4.961307  6.080000e+02   \n",
       "max     65535.000000   65389.000000    9331.420034  1.665228e+06   \n",
       "\n",
       "          Des_bytes     Conn_state  missed_bytes       Scr_pkts  Scr_ip_bytes  \\\n",
       "count  8.208340e+05  820834.000000  8.208340e+05  820834.000000  8.208340e+05   \n",
       "mean   4.106793e+04       0.851623  3.561576e+01      19.982422  2.617461e+03   \n",
       "std    2.806001e+05       0.355474  3.979548e+03     270.645899  1.929378e+04   \n",
       "min    0.000000e+00       0.000000  0.000000e+00       0.000000  0.000000e+00   \n",
       "25%    3.700000e+01       1.000000  0.000000e+00       1.000000  1.340000e+02   \n",
       "50%    7.200000e+01       1.000000  0.000000e+00       2.000000  5.900000e+02   \n",
       "75%    3.100000e+02       1.000000  0.000000e+00       6.000000  9.280000e+02   \n",
       "max    1.935968e+07       1.000000  1.882937e+06   65541.000000  4.194548e+06   \n",
       "\n",
       "            Des_pkts  ...  std_num_cswch/s    OSSEC_alert  OSSEC_alert_level  \\\n",
       "count  820834.000000  ...    820834.000000  820834.000000      820834.000000   \n",
       "mean       28.034107  ...       622.803246       0.051186           0.267717   \n",
       "std       262.657795  ...       862.925868       0.220377           1.178027   \n",
       "min         0.000000  ...     -1918.070330       0.000000           0.000000   \n",
       "25%         1.000000  ...       233.921354       0.000000           0.000000   \n",
       "50%         1.000000  ...       314.989222       0.000000           0.000000   \n",
       "75%         5.000000  ...       468.824157       0.000000           0.000000   \n",
       "max     65575.000000  ...      7250.787108       1.000000          10.000000   \n",
       "\n",
       "       Login_attempt  Succesful_login  File_activity  Process_activity  \\\n",
       "count  820834.000000    820834.000000  820834.000000     820834.000000   \n",
       "mean        0.087305         0.082730       0.072650          0.082620   \n",
       "std         0.282282         0.275475       0.259562          0.275307   \n",
       "min         0.000000         0.000000       0.000000          0.000000   \n",
       "25%         0.000000         0.000000       0.000000          0.000000   \n",
       "50%         0.000000         0.000000       0.000000          0.000000   \n",
       "75%         0.000000         0.000000       0.000000          0.000000   \n",
       "max         1.000000         1.000000       1.000000          1.000000   \n",
       "\n",
       "       read_write_physical.process  is_privileged         class3  \n",
       "count                820834.000000  820834.000000  820834.000000  \n",
       "mean                      0.355309       0.082456       0.486599  \n",
       "std                       0.478607       0.275059       0.499821  \n",
       "min                       0.000000       0.000000       0.000000  \n",
       "25%                       0.000000       0.000000       0.000000  \n",
       "50%                       0.000000       0.000000       0.000000  \n",
       "75%                       1.000000       0.000000       1.000000  \n",
       "max                       1.000000       1.000000       1.000000  \n",
       "\n",
       "[8 rows x 52 columns]"
      ]
     },
     "execution_count": 2,
     "metadata": {},
     "output_type": "execute_result"
    }
   ],
   "source": [
    "#Check the data distribution of each feature\n",
    "df.describe()\n"
   ]
  },
  {
   "cell_type": "code",
   "execution_count": 3,
   "id": "11b7c2a3",
   "metadata": {},
   "outputs": [
    {
     "data": {
      "text/plain": [
       "Index(['Scr_IP', 'Scr_port', 'Des_IP', 'Des_port', 'Protocol', 'Service',\n",
       "       'Duration', 'Scr_bytes', 'Des_bytes', 'Conn_state', 'missed_bytes',\n",
       "       'is_syn_only', 'Is_SYN_ACK', 'is_pure_ack', 'is_with_payload',\n",
       "       'FIN or RST', 'Bad_checksum', 'is_SYN_with_RST', 'Scr_pkts',\n",
       "       'Scr_ip_bytes', 'Des_pkts', 'Des_ip_bytes', 'anomaly_alert',\n",
       "       'total_bytes', 'total_packet', 'paket_rate', 'byte_rate',\n",
       "       'Scr_packts_ratio', 'Des_pkts_ratio', 'Scr_bytes_ratio',\n",
       "       'Des_bytes_ratio', 'Avg_user_time', 'Std_user_time', 'Avg_nice_time',\n",
       "       'Std_nice_time', 'Avg_system_time', 'Std_system_time',\n",
       "       'Avg_iowait_time', 'Std_iowait_time', 'Avg_ideal_time',\n",
       "       'Std_ideal_time', 'Avg_tps', 'Std_tps', 'Avg_rtps', 'Std_rtps',\n",
       "       'Avg_wtps', 'Std_wtps', 'Avg_ldavg_1', 'Std_ldavg_1', 'Avg_kbmemused',\n",
       "       'Std_kbmemused', 'Avg_num_Proc/s', 'Std_num_proc/s', 'Avg_num_cswch/s',\n",
       "       'std_num_cswch/s', 'OSSEC_alert', 'OSSEC_alert_level', 'Login_attempt',\n",
       "       'Succesful_login', 'File_activity', 'Process_activity',\n",
       "       'read_write_physical.process', 'is_privileged', 'class3'],\n",
       "      dtype='object')"
      ]
     },
     "execution_count": 3,
     "metadata": {},
     "output_type": "execute_result"
    }
   ],
   "source": [
    "df.columns"
   ]
  },
  {
   "cell_type": "code",
   "execution_count": 4,
   "id": "322da9c1",
   "metadata": {},
   "outputs": [],
   "source": [
    "import matplotlib.pyplot as plt\n",
    "\n",
    "#df.hist(bins=50, figsize=(20,15))\n",
    "#plt.show()\n"
   ]
  },
  {
   "cell_type": "code",
   "execution_count": 5,
   "id": "0e87d76a",
   "metadata": {},
   "outputs": [
    {
     "data": {
      "image/png": "[encoded data removed]",
      "text/plain": [
       "<Figure size 432x288 with 1 Axes>"
      ]
     },
     "metadata": {
      "needs_background": "light"
     },
     "output_type": "display_data"
    }
   ],
   "source": [
    "label_counts = df.iloc[:, -1].value_counts()\n",
    "label_counts.plot(kind='bar')\n",
    "plt.title(\"Label Distribution\")\n",
    "plt.xlabel(\"Label\")\n",
    "plt.ylabel(\"Count\")\n",
    "plt.show()\n"
   ]
  },
  {
   "cell_type": "code",
   "execution_count": 6,
   "id": "95b3ce46",
   "metadata": {},
   "outputs": [
    {
     "name": "stderr",
     "output_type": "stream",
     "text": [
      "C:\\Users\\Juba\\.conda\\envs\\py3.6\\lib\\site-packages\\tqdm\\auto.py:22: TqdmWarning: IProgress not found. Please update jupyter and ipywidgets. See https://ipywidgets.readthedocs.io/en/stable/user_install.html\n",
      "  from .autonotebook import tqdm as notebook_tqdm\n"
     ]
    }
   ],
   "source": [
    "import torch\n",
    "import torch.nn as nn\n",
    "import torch.optim as optim\n",
    "import pandas as pd\n",
    "from sklearn.model_selection import train_test_split\n",
    "from sklearn.metrics import confusion_matrix, classification_report"
   ]
  },
  {
   "cell_type": "code",
   "execution_count": 7,
   "id": "dad65af7",
   "metadata": {},
   "outputs": [],
   "source": [
    "# Split the data frame based on the \"attack\" and \"normal\" labels\n",
    "attack_df = df[df['class3'] == 1]\n",
    "normal_df = df[df['class3'] == 0]\n",
    "\n",
    "# Split the \"attack\" and \"normal\" data frames into training and testing sets\n",
    "attack_train_df, attack_test_df = train_test_split(attack_df, test_size=0.2)\n",
    "normal_train_df, normal_test_df = train_test_split(normal_df, test_size=0.2)\n",
    "\n",
    "# Concatenate the training and testing sets of both \"attack\" and \"normal\" data frames\n",
    "df_training = pd.concat([attack_train_df, normal_train_df])\n",
    "df_testing = pd.concat([attack_test_df, normal_test_df])"
   ]
  },
  {
   "cell_type": "code",
   "execution_count": 8,
   "id": "302a537a",
   "metadata": {},
   "outputs": [],
   "source": [
    "\n",
    "\n",
    "\n",
    "#df_testing = pd.read_csv(\"train_df.csv\", na_values = missing_values, engine='python', skipinitialspace=True)\n",
    "#df_training = pd.read_csv(\"test_df.csv\", na_values = missing_values, engine='python', skipinitialspace=True)\n",
    "columns_to_drop = [ 'Bad_checksum', 'is_SYN_with_RST','anomaly_alert','Scr_IP', 'Scr_port', 'Des_IP', 'Des_port']\n",
    "df_testing = df_testing.drop(columns_to_drop, axis=1)\n",
    "df_training = df_training.drop(columns_to_drop, axis=1)\n",
    "df_training=df_training.fillna(df_training.median())\n",
    "df_testing=df_testing.fillna(df_testing.median())\n",
    "for i in ['Protocol', 'Service']:\n",
    "    # Create the One Hot Encode DataFrame\n",
    "    dum = pd.get_dummies(df_training[i])\n",
    "    # Insert into the dataset DataFrame by Series\n",
    "    for column_name in list(dum.columns):\n",
    "        df_training.insert(1, str(i)+column_name, dum[column_name])\n",
    "        df_training[str(i)+column_name] = df_training[str(i)+column_name].astype('int64')\n",
    "    # Drop the old attribute's column\n",
    "    df_training.drop(i, inplace=True, axis=1)\n",
    "df_training[['is_syn_only', 'Is_SYN_ACK', 'is_pure_ack', 'is_with_payload', 'FIN or RST']] = df_training[['is_syn_only', 'Is_SYN_ACK', 'is_pure_ack', 'is_with_payload','FIN or RST']].astype(int)\n",
    "for i in ['Protocol', 'Service']:\n",
    "    # Create the One Hot Encode DataFrame\n",
    "    dum = pd.get_dummies(df_testing[i])\n",
    "    # Insert into the dataset DataFrame by Series\n",
    "    for column_name in list(dum.columns):\n",
    "        df_testing.insert(1, str(i)+column_name, dum[column_name])\n",
    "        df_testing[str(i)+column_name] = df_testing[str(i)+column_name].astype('int64')\n",
    "    # Drop the old attribute's column\n",
    "    df_testing.drop(i, inplace=True, axis=1)\n",
    "df_testing[['is_syn_only', 'Is_SYN_ACK', 'is_pure_ack', 'is_with_payload', 'FIN or RST']] = df_testing[['is_syn_only', 'Is_SYN_ACK', 'is_pure_ack', 'is_with_payload','FIN or RST']].astype(int)\n",
    "\n",
    "df = pd.concat([df_training, df_testing], axis=0)"
   ]
  },
  {
   "cell_type": "code",
   "execution_count": 9,
   "id": "ef13059a",
   "metadata": {},
   "outputs": [
    {
     "data": {
      "image/png": "[encoded data removed]",
      "text/plain": [
       "<Figure size 432x288 with 1 Axes>"
      ]
     },
     "metadata": {
      "needs_background": "light"
     },
     "output_type": "display_data"
    },
    {
     "data": {
      "image/png": "[encoded data removed]",
      "text/plain": [
       "<Figure size 432x288 with 1 Axes>"
      ]
     },
     "metadata": {
      "needs_background": "light"
     },
     "output_type": "display_data"
    }
   ],
   "source": [
    "dataframes=[df_training,df_testing]\n",
    "\n",
    "# loop through each DataFrame\n",
    "for i, df in enumerate(dataframes):\n",
    "    # count the number of instances for each label in the last column\n",
    "    label_counts = df.iloc[:, -1].value_counts()\n",
    "    # create a bar plot to visualize the label distribution\n",
    "    label_counts.plot(kind='bar')\n",
    "    plt.title(f\"Label Distribution for DataFrame {i+1} ({len(df)} instances)\")\n",
    "    plt.xlabel(\"Label\")\n",
    "    plt.ylabel(\"Count\")\n",
    "    plt.show()"
   ]
  },
  {
   "cell_type": "code",
   "execution_count": 10,
   "id": "58474344",
   "metadata": {},
   "outputs": [],
   "source": [
    "from sklearn.cluster import KMeans\n",
    "\n",
    "X = df.drop(columns=[\"class3\"]) # assume \"target\" is the name of the binary classification target feature\n",
    "kmeans = KMeans(n_clusters=2, random_state=0).fit(X)\n",
    "labels = kmeans.labels_\n"
   ]
  },
  {
   "cell_type": "code",
   "execution_count": null,
   "id": "b485c24e",
   "metadata": {},
   "outputs": [],
   "source": []
  },
  {
   "cell_type": "code",
   "execution_count": 11,
   "id": "563b55d8",
   "metadata": {},
   "outputs": [
    {
     "data": {
      "text/plain": [
       "0    84284\n",
       "1    79884\n",
       "Name: class3, dtype: int64"
      ]
     },
     "execution_count": 11,
     "metadata": {},
     "output_type": "execute_result"
    }
   ],
   "source": [
    "df.shape\n",
    "\n",
    "df['class3'].value_counts()\n"
   ]
  },
  {
   "cell_type": "code",
   "execution_count": 12,
   "id": "6c83e573",
   "metadata": {},
   "outputs": [
    {
     "name": "stdout",
     "output_type": "stream",
     "text": [
      "(656666, 75)\n",
      "(164168, 75)\n"
     ]
    }
   ],
   "source": [
    "print(df_training.shape)\n",
    "print (df_testing.shape)"
   ]
  },
  {
   "cell_type": "code",
   "execution_count": 13,
   "id": "9c9947be",
   "metadata": {},
   "outputs": [],
   "source": [
    "#df_training['Scr_IP'].head"
   ]
  },
  {
   "cell_type": "code",
   "execution_count": 14,
   "id": "78026782",
   "metadata": {},
   "outputs": [],
   "source": [
    "#164168+656666"
   ]
  },
  {
   "cell_type": "code",
   "execution_count": 15,
   "id": "98f60063",
   "metadata": {},
   "outputs": [
    {
     "name": "stderr",
     "output_type": "stream",
     "text": [
      "C:\\Users\\Juba\\.conda\\envs\\py3.6\\lib\\site-packages\\ipykernel_launcher.py:21: DeprecationWarning: The module art.classifiers will be removed in ART 1.8.0 and replaced with art.estimators.classification\n"
     ]
    }
   ],
   "source": [
    "import numpy as np\n",
    "import pandas as pd\n",
    "import matplotlib.pyplot as plt\n",
    "import seaborn as sb\n",
    "import copy\n",
    "import time as time\n",
    "import seaborn as sns\n",
    "import torch\n",
    "import torch.nn as nn\n",
    "import torch.nn.functional as F\n",
    "import torch.optim as optim\n",
    "\n",
    "from sklearn.metrics import classification_report\n",
    "from sklearn.decomposition import PCA\n",
    "from sklearn.feature_selection import chi2\n",
    "\n",
    "#!pip install adversarial-robustness-toolbox >/dev/null\n",
    "import os,sys\n",
    "sys.path.append(os.path.dirname('../adversarial-robustness-toolbox/'))\n",
    "from art.attacks.evasion import ZooAttack,ElasticNet,FastGradientMethod, BasicIterativeMethod, DeepFool, SaliencyMapMethod, CarliniL2Method, CarliniLInfMethod, CarliniL0Method\n",
    "from art.classifiers import PyTorchClassifier\n",
    "\n",
    "%matplotlib inline\n",
    "\n",
    "pd.options.display.max_columns = 200\n",
    "pd.options.display.max_rows = 200"
   ]
  },
  {
   "cell_type": "code",
   "execution_count": null,
   "id": "56a4a9d4",
   "metadata": {},
   "outputs": [],
   "source": [
    "\n",
    "\n",
    "\n"
   ]
  },
  {
   "cell_type": "code",
   "execution_count": null,
   "id": "0fb6a11f",
   "metadata": {},
   "outputs": [],
   "source": []
  },
  {
   "cell_type": "code",
   "execution_count": 16,
   "id": "4c19c2ef",
   "metadata": {},
   "outputs": [
    {
     "data": {
      "text/plain": [
       "0    337133\n",
       "1    319533\n",
       "Name: class3, dtype: int64"
      ]
     },
     "execution_count": 16,
     "metadata": {},
     "output_type": "execute_result"
    }
   ],
   "source": [
    "df_training['class3'].value_counts()"
   ]
  },
  {
   "cell_type": "code",
   "execution_count": 36,
   "id": "9b6f14ad",
   "metadata": {},
   "outputs": [],
   "source": [
    "min = df[:df_training.shape[0]].min()\n",
    "max = df[:df_training.shape[0]].max()\n",
    "\n",
    "for i in df.iloc[:, :-1].columns.to_numpy():\n",
    "    # The min and max are computed on the training set\n",
    "    df[i] = (df[i] - min[i]) / (max[i] - min[i])"
   ]
  },
  {
   "cell_type": "code",
   "execution_count": 37,
   "id": "2b1a31ef",
   "metadata": {},
   "outputs": [],
   "source": [
    "# Split training and testing sets\n",
    "df_training = df[:df_training.shape[0]]    \n",
    "df_testing = df[df_training.shape[0]:]"
   ]
  },
  {
   "cell_type": "code",
   "execution_count": 59,
   "id": "19bf416b",
   "metadata": {},
   "outputs": [],
   "source": [
    "# Get NumPy arrays from DataFrames\n",
    "nd_training = df_training.values\n",
    "nd_testing = df_testing.values"
   ]
  },
  {
   "cell_type": "code",
   "execution_count": 60,
   "id": "cf0fc601",
   "metadata": {},
   "outputs": [],
   "source": [
    "# Separating arguments (x) from lables (y)\n",
    "x_train = nd_training[:, :-1]\n",
    "y_train = nd_training[:, -1]\n",
    "x_test = nd_testing[:, :-1]\n",
    "y_test = nd_testing[:, -1]"
   ]
  },
  {
   "cell_type": "code",
   "execution_count": 61,
   "id": "097893e2",
   "metadata": {},
   "outputs": [],
   "source": [
    "# Make a copy of the data set as NumPy arrays\n",
    "x_train_np = x_train.copy()\n",
    "y_train_np = y_train.copy()\n",
    "x_test_np = x_test.copy()\n",
    "y_test_np = y_test.copy()"
   ]
  },
  {
   "cell_type": "code",
   "execution_count": 52,
   "id": "405dcf29",
   "metadata": {},
   "outputs": [],
   "source": [
    "from sklearn.metrics import accuracy_score, precision_score, recall_score, f1_score\n"
   ]
  },
  {
   "cell_type": "code",
   "execution_count": null,
   "id": "2e74ec82",
   "metadata": {},
   "outputs": [],
   "source": []
  },
  {
   "cell_type": "code",
   "execution_count": 53,
   "id": "6c61700f",
   "metadata": {},
   "outputs": [
    {
     "name": "stdout",
     "output_type": "stream",
     "text": [
      "Accuracy: 0.98, Precision: 0.99, Recall: 0.96, F1-score: 0.97\n"
     ]
    }
   ],
   "source": []
  },
  {
   "cell_type": "code",
   "execution_count": null,
   "id": "9c8f5a2b",
   "metadata": {},
   "outputs": [],
   "source": []
  },
  {
   "cell_type": "code",
   "execution_count": null,
   "id": "0fdf72e5",
   "metadata": {},
   "outputs": [],
   "source": []
  },
  {
   "cell_type": "code",
   "execution_count": null,
   "id": "b0b3ce06",
   "metadata": {},
   "outputs": [],
   "source": [
    "\n"
   ]
  },
  {
   "cell_type": "code",
   "execution_count": 22,
   "id": "efc12944",
   "metadata": {},
   "outputs": [
    {
     "data": {
      "text/plain": [
       "2"
      ]
     },
     "execution_count": 22,
     "metadata": {},
     "output_type": "execute_result"
    }
   ],
   "source": [
    "len(set(y_train))"
   ]
  },
  {
   "cell_type": "code",
   "execution_count": 62,
   "id": "50046bf4",
   "metadata": {},
   "outputs": [],
   "source": [
    "# Define the neural network model\n",
    "class DNN(nn.Module):\n",
    "    def __init__(self):\n",
    "        super(DNN, self).__init__()\n",
    "        self.fc1 = nn.Linear(x_train.shape[1], 256)\n",
    "        self.fc2 = nn.Linear(256, 64)\n",
    "        self.fc3 = nn.Linear(64, 32)\n",
    "        self.fc4 = nn.Linear(32, len(set(y_train)))\n",
    "        self.relu = nn.ReLU()\n",
    "        self.softmax = nn.Softmax(dim=1)\n",
    "\n",
    "    def forward(self, x):\n",
    "        out = self.relu(self.fc1(x))\n",
    "        out = self.relu(self.fc2(out))\n",
    "        out = self.relu(self.fc3(out))\n",
    "        out = self.softmax(self.fc4(out))\n",
    "        return out\n"
   ]
  },
  {
   "cell_type": "code",
   "execution_count": 63,
   "id": "0d027671",
   "metadata": {},
   "outputs": [
    {
     "name": "stdout",
     "output_type": "stream",
     "text": [
      "Epoch [10/100], Loss: 0.6681\n",
      "Epoch [20/100], Loss: 0.5892\n",
      "Epoch [30/100], Loss: 0.4475\n",
      "Epoch [40/100], Loss: 0.3721\n",
      "Epoch [50/100], Loss: 0.3504\n",
      "Epoch [60/100], Loss: 0.3424\n",
      "Epoch [70/100], Loss: 0.3389\n",
      "Epoch [80/100], Loss: 0.3377\n",
      "Epoch [90/100], Loss: 0.3372\n",
      "Epoch [100/100], Loss: 0.3370\n"
     ]
    }
   ],
   "source": [
    "\n",
    "# Initialize the neural network model\n",
    "model = DNN()\n",
    "\n",
    "# Define the loss function and optimizer\n",
    "criterion = nn.CrossEntropyLoss()\n",
    "optimizer = optim.Adam(model.parameters(), lr=0.001)\n",
    "\n",
    "# Train the model\n",
    "for epoch in range(100):\n",
    "    # Convert input data to PyTorch tensors\n",
    "    inputs = torch.from_numpy((x_train)).float()\n",
    "    targets = torch.from_numpy((y_train)).long()\n",
    "\n",
    "    # Zero the parameter gradients\n",
    "    optimizer.zero_grad()\n",
    "\n",
    "    # Forward pass\n",
    "    outputs = model(inputs)\n",
    "    loss = criterion(outputs, targets)\n",
    "\n",
    "    # Backward pass and optimization\n",
    "    loss.backward()\n",
    "    optimizer.step()\n",
    "\n",
    "    # Print loss every 10 epochs\n",
    "    if (epoch + 1) % 10 == 0:\n",
    "        print(f'Epoch [{epoch+1}/100], Loss: {loss.item():.4f}')\n"
   ]
  },
  {
   "cell_type": "code",
   "execution_count": 50,
   "id": "72b51a79",
   "metadata": {},
   "outputs": [],
   "source": [
    "# Separating arguments (x) from lables (y)\n",
    "x_train = nd_training[:, :-1]\n",
    "y_train = nd_training[:, -1]\n",
    "x_test = nd_testing[:, :-1]\n",
    "y_test = nd_testing[:, -1]"
   ]
  },
  {
   "cell_type": "code",
   "execution_count": 49,
   "id": "4f67aab5",
   "metadata": {},
   "outputs": [
    {
     "ename": "ValueError",
     "evalue": "max() arg is an empty sequence",
     "output_type": "error",
     "traceback": [
      "\u001b[1;31m---------------------------------------------------------------------------\u001b[0m",
      "\u001b[1;31mValueError\u001b[0m                                Traceback (most recent call last)",
      "\u001b[1;32m<ipython-input-49-ac0163b6b80f>\u001b[0m in \u001b[0;36m<module>\u001b[1;34m\u001b[0m\n\u001b[0;32m     10\u001b[0m     \u001b[1;31m# Calculate metrics\u001b[0m\u001b[1;33m\u001b[0m\u001b[1;33m\u001b[0m\u001b[1;33m\u001b[0m\u001b[0m\n\u001b[0;32m     11\u001b[0m     \u001b[0mcm\u001b[0m \u001b[1;33m=\u001b[0m \u001b[0mconfusion_matrix\u001b[0m\u001b[1;33m(\u001b[0m\u001b[0my_test\u001b[0m\u001b[1;33m,\u001b[0m \u001b[0mpredicted\u001b[0m\u001b[1;33m)\u001b[0m\u001b[1;33m\u001b[0m\u001b[1;33m\u001b[0m\u001b[0m\n\u001b[1;32m---> 12\u001b[1;33m     \u001b[0mcr\u001b[0m \u001b[1;33m=\u001b[0m \u001b[0mclassification_report\u001b[0m\u001b[1;33m(\u001b[0m\u001b[0my_test\u001b[0m\u001b[1;33m,\u001b[0m \u001b[0mpredicted\u001b[0m\u001b[1;33m)\u001b[0m\u001b[1;33m\u001b[0m\u001b[1;33m\u001b[0m\u001b[0m\n\u001b[0m\u001b[0;32m     13\u001b[0m \u001b[1;33m\u001b[0m\u001b[0m\n\u001b[0;32m     14\u001b[0m     \u001b[1;31m# Print metrics\u001b[0m\u001b[1;33m\u001b[0m\u001b[1;33m\u001b[0m\u001b[1;33m\u001b[0m\u001b[0m\n",
      "\u001b[1;32m~\\.conda\\envs\\py3.6\\lib\\site-packages\\sklearn\\utils\\validation.py\u001b[0m in \u001b[0;36minner_f\u001b[1;34m(*args, **kwargs)\u001b[0m\n\u001b[0;32m     61\u001b[0m             \u001b[0mextra_args\u001b[0m \u001b[1;33m=\u001b[0m \u001b[0mlen\u001b[0m\u001b[1;33m(\u001b[0m\u001b[0margs\u001b[0m\u001b[1;33m)\u001b[0m \u001b[1;33m-\u001b[0m \u001b[0mlen\u001b[0m\u001b[1;33m(\u001b[0m\u001b[0mall_args\u001b[0m\u001b[1;33m)\u001b[0m\u001b[1;33m\u001b[0m\u001b[1;33m\u001b[0m\u001b[0m\n\u001b[0;32m     62\u001b[0m             \u001b[1;32mif\u001b[0m \u001b[0mextra_args\u001b[0m \u001b[1;33m<=\u001b[0m \u001b[1;36m0\u001b[0m\u001b[1;33m:\u001b[0m\u001b[1;33m\u001b[0m\u001b[1;33m\u001b[0m\u001b[0m\n\u001b[1;32m---> 63\u001b[1;33m                 \u001b[1;32mreturn\u001b[0m \u001b[0mf\u001b[0m\u001b[1;33m(\u001b[0m\u001b[1;33m*\u001b[0m\u001b[0margs\u001b[0m\u001b[1;33m,\u001b[0m \u001b[1;33m**\u001b[0m\u001b[0mkwargs\u001b[0m\u001b[1;33m)\u001b[0m\u001b[1;33m\u001b[0m\u001b[1;33m\u001b[0m\u001b[0m\n\u001b[0m\u001b[0;32m     64\u001b[0m \u001b[1;33m\u001b[0m\u001b[0m\n\u001b[0;32m     65\u001b[0m             \u001b[1;31m# extra_args > 0\u001b[0m\u001b[1;33m\u001b[0m\u001b[1;33m\u001b[0m\u001b[1;33m\u001b[0m\u001b[0m\n",
      "\u001b[1;32m~\\.conda\\envs\\py3.6\\lib\\site-packages\\sklearn\\metrics\\_classification.py\u001b[0m in \u001b[0;36mclassification_report\u001b[1;34m(y_true, y_pred, labels, target_names, sample_weight, digits, output_dict, zero_division)\u001b[0m\n\u001b[0;32m   2018\u001b[0m     \u001b[1;32melse\u001b[0m\u001b[1;33m:\u001b[0m\u001b[1;33m\u001b[0m\u001b[1;33m\u001b[0m\u001b[0m\n\u001b[0;32m   2019\u001b[0m         \u001b[0mlongest_last_line_heading\u001b[0m \u001b[1;33m=\u001b[0m \u001b[1;34m'weighted avg'\u001b[0m\u001b[1;33m\u001b[0m\u001b[1;33m\u001b[0m\u001b[0m\n\u001b[1;32m-> 2020\u001b[1;33m         \u001b[0mname_width\u001b[0m \u001b[1;33m=\u001b[0m \u001b[0mmax\u001b[0m\u001b[1;33m(\u001b[0m\u001b[0mlen\u001b[0m\u001b[1;33m(\u001b[0m\u001b[0mcn\u001b[0m\u001b[1;33m)\u001b[0m \u001b[1;32mfor\u001b[0m \u001b[0mcn\u001b[0m \u001b[1;32min\u001b[0m \u001b[0mtarget_names\u001b[0m\u001b[1;33m)\u001b[0m\u001b[1;33m\u001b[0m\u001b[1;33m\u001b[0m\u001b[0m\n\u001b[0m\u001b[0;32m   2021\u001b[0m         \u001b[0mwidth\u001b[0m \u001b[1;33m=\u001b[0m \u001b[0mmax\u001b[0m\u001b[1;33m(\u001b[0m\u001b[0mname_width\u001b[0m\u001b[1;33m,\u001b[0m \u001b[0mlen\u001b[0m\u001b[1;33m(\u001b[0m\u001b[0mlongest_last_line_heading\u001b[0m\u001b[1;33m)\u001b[0m\u001b[1;33m,\u001b[0m \u001b[0mdigits\u001b[0m\u001b[1;33m)\u001b[0m\u001b[1;33m\u001b[0m\u001b[1;33m\u001b[0m\u001b[0m\n\u001b[0;32m   2022\u001b[0m         \u001b[0mhead_fmt\u001b[0m \u001b[1;33m=\u001b[0m \u001b[1;34m'{:>{width}s} '\u001b[0m \u001b[1;33m+\u001b[0m \u001b[1;34m' {:>9}'\u001b[0m \u001b[1;33m*\u001b[0m \u001b[0mlen\u001b[0m\u001b[1;33m(\u001b[0m\u001b[0mheaders\u001b[0m\u001b[1;33m)\u001b[0m\u001b[1;33m\u001b[0m\u001b[1;33m\u001b[0m\u001b[0m\n",
      "\u001b[1;31mValueError\u001b[0m: max() arg is an empty sequence"
     ]
    }
   ],
   "source": [
    "\n",
    "# Test the model\n",
    "with torch.no_grad():\n",
    "    # Convert test data to PyTorch tensor\n",
    "    inputs = torch.from_numpy(x_test).float()\n",
    "\n",
    "    # Make predictions\n",
    "    outputs = model(inputs)\n",
    "    _, predicted = torch.max(outputs.data, 1)\n",
    "\n",
    "    # Calculate metrics\n",
    "    cm = confusion_matrix(y_test, predicted)\n",
    "    cr = classification_report(y_test, predicted)\n",
    "\n",
    "    # Print metrics\n",
    "    print('Confusion Matrix:')\n",
    "    print(cm)\n",
    "    print('Classification Report:')\n",
    "    print(cr)"
   ]
  },
  {
   "cell_type": "code",
   "execution_count": null,
   "id": "997a40cd",
   "metadata": {},
   "outputs": [],
   "source": [
    "\n"
   ]
  },
  {
   "cell_type": "code",
   "execution_count": null,
   "id": "1d3724e4",
   "metadata": {},
   "outputs": [],
   "source": []
  },
  {
   "cell_type": "code",
   "execution_count": null,
   "id": "8979cf34",
   "metadata": {},
   "outputs": [],
   "source": []
  },
  {
   "cell_type": "code",
   "execution_count": null,
   "id": "49b0b1c8",
   "metadata": {},
   "outputs": [],
   "source": []
  },
  {
   "cell_type": "code",
   "execution_count": null,
   "id": "ca1c2882",
   "metadata": {},
   "outputs": [],
   "source": []
  },
  {
   "cell_type": "code",
   "execution_count": null,
   "id": "54fd962b",
   "metadata": {},
   "outputs": [],
   "source": []
  },
  {
   "cell_type": "code",
   "execution_count": null,
   "id": "64df2782",
   "metadata": {},
   "outputs": [],
   "source": []
  },
  {
   "cell_type": "code",
   "execution_count": null,
   "id": "38d260ff",
   "metadata": {},
   "outputs": [],
   "source": []
  },
  {
   "cell_type": "code",
   "execution_count": null,
   "id": "d2f90043",
   "metadata": {},
   "outputs": [],
   "source": [
    "torch.save(model.state_dict(), \"./model.pytorch\")\n",
    "model.load_state_dict(torch.load(\"./model.pytorch\"))"
   ]
  },
  {
   "cell_type": "code",
   "execution_count": null,
   "id": "ee923dbd",
   "metadata": {},
   "outputs": [],
   "source": []
  },
  {
   "cell_type": "code",
   "execution_count": null,
   "id": "ae01b1fb",
   "metadata": {},
   "outputs": [],
   "source": []
  },
  {
   "cell_type": "code",
   "execution_count": null,
   "id": "b42f6970",
   "metadata": {},
   "outputs": [],
   "source": [
    "#data.columns"
   ]
  },
  {
   "cell_type": "code",
   "execution_count": null,
   "id": "1c2412e8",
   "metadata": {},
   "outputs": [],
   "source": [
    "\n"
   ]
  },
  {
   "cell_type": "code",
   "execution_count": null,
   "id": "6ba3290c",
   "metadata": {},
   "outputs": [],
   "source": []
  },
  {
   "cell_type": "code",
   "execution_count": null,
   "id": "a6dea0ad",
   "metadata": {},
   "outputs": [],
   "source": []
  },
  {
   "cell_type": "code",
   "execution_count": null,
   "id": "637730a0",
   "metadata": {},
   "outputs": [],
   "source": []
  },
  {
   "cell_type": "code",
   "execution_count": null,
   "id": "ca27a5d8",
   "metadata": {},
   "outputs": [],
   "source": []
  },
  {
   "cell_type": "code",
   "execution_count": null,
   "id": "29a205e7",
   "metadata": {},
   "outputs": [],
   "source": []
  },
  {
   "cell_type": "code",
   "execution_count": null,
   "id": "26b06b97",
   "metadata": {},
   "outputs": [],
   "source": []
  },
  {
   "cell_type": "code",
   "execution_count": null,
   "id": "2e7fa065",
   "metadata": {},
   "outputs": [],
   "source": []
  },
  {
   "cell_type": "code",
   "execution_count": null,
   "id": "1fe4ed08",
   "metadata": {},
   "outputs": [],
   "source": []
  },
  {
   "cell_type": "code",
   "execution_count": null,
   "id": "c706aa83",
   "metadata": {},
   "outputs": [],
   "source": []
  },
  {
   "cell_type": "code",
   "execution_count": null,
   "id": "d1127061",
   "metadata": {},
   "outputs": [],
   "source": []
  },
  {
   "cell_type": "code",
   "execution_count": null,
   "id": "96dfd714",
   "metadata": {},
   "outputs": [],
   "source": []
  },
  {
   "cell_type": "code",
   "execution_count": null,
   "id": "2a0f0a96",
   "metadata": {},
   "outputs": [],
   "source": []
  },
  {
   "cell_type": "code",
   "execution_count": null,
   "id": "cbc08b67",
   "metadata": {},
   "outputs": [],
   "source": []
  },
  {
   "cell_type": "code",
   "execution_count": null,
   "id": "8c9c0423",
   "metadata": {},
   "outputs": [],
   "source": [
    "for INPUT_CSV in ['adversarial_examples_FGSMmoh2.csv','adversarial_examples_BIMmoh2.csv']:#, 'adversarial_examples_CW2.csv', 'adversarial_examples_CWi.csv', 'adversarial_examples_DF.csv', 'adversarial_examples_ElasticNet.csv', 'adversarial_examples_FGSM.csv', 'adversarial_examples_JSMA.csv']:\n",
    "       \n",
    "    # Read the second file for testing and combine with the validation data\n",
    "    test_data = pd.read_csv(INPUT_CSV)\n",
    "    columns_to_drop = ['Unnamed: 0']\n",
    "    test_data = test_data.drop(columns_to_drop, axis=1)\n",
    "    \n",
    "    X1 = test_data.drop('class3', axis=1)\n",
    "    y1 = test_data['class3']\n",
    "    \n",
    "    X_full = np.concatenate((X1, x_test), axis=0)\n",
    "    y_full = np.concatenate((y1, y_test), axis=0)\n",
    "    # Test the model\n",
    "    with torch.no_grad():\n",
    "        # Convert test data to PyTorch tensor\n",
    "        inputs = torch.from_numpy(X_full).float()\n",
    "\n",
    "        # Make predictions\n",
    "        outputs = model(inputs)\n",
    "        _, predicted = torch.max(outputs.data, 1)\n",
    "\n",
    "        # Calculate metrics\n",
    "        print(INPUT_CSV)\n",
    "        print (\"*\"*50)\n",
    "        cm = confusion_matrix(y_full, predicted)\n",
    "        cr = classification_report(y_full, predicted)\n",
    "\n",
    "        # Print metrics\n",
    "        print('Confusion Matrix:')\n",
    "        print(cm)\n",
    "        print('Classification Report:')\n",
    "        print(cr)\n",
    "\n",
    "    \n",
    "   \n"
   ]
  },
  {
   "cell_type": "code",
   "execution_count": null,
   "id": "2e9933b5",
   "metadata": {},
   "outputs": [],
   "source": []
  },
  {
   "cell_type": "code",
   "execution_count": null,
   "id": "2589f38b",
   "metadata": {},
   "outputs": [],
   "source": []
  },
  {
   "cell_type": "code",
   "execution_count": null,
   "id": "447edc81",
   "metadata": {},
   "outputs": [],
   "source": []
  }
 ],
 "metadata": {
  "kernelspec": {
   "display_name": "Python 3 (ipykernel)",
   "language": "python",
   "name": "python3"
  },
  "language_info": {
   "codemirror_mode": {
    "name": "ipython",
    "version": 3
   },
   "file_extension": ".py",
   "mimetype": "text/x-python",
   "name": "python",
   "nbconvert_exporter": "python",
   "pygments_lexer": "ipython3",
   "version": "3.6.13"
  }
 },
 "nbformat": 4,
 "nbformat_minor": 5
}
